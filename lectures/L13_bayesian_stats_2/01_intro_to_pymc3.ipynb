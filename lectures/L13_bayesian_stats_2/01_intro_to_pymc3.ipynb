{
 "cells": [
  {
   "cell_type": "markdown",
   "metadata": {
    "slideshow": {
     "slide_type": "slide"
    }
   },
   "source": [
    "# Introduction to pymc3"
   ]
  },
  {
   "cell_type": "code",
   "execution_count": null,
   "metadata": {
    "slideshow": {
     "slide_type": "-"
    }
   },
   "outputs": [],
   "source": [
    "import arviz as az\n",
    "import matplotlib.pyplot as plt\n",
    "import numpy as np\n",
    "import pymc3 as pm\n",
    "\n",
    "%matplotlib inline"
   ]
  },
  {
   "cell_type": "code",
   "execution_count": null,
   "metadata": {
    "slideshow": {
     "slide_type": "-"
    }
   },
   "outputs": [],
   "source": [
    "# Load US GDP growth and unemployment rates 1990-2015\n",
    "yu = np.array([\n",
    "    [2.183031602838037, 5.3],\n",
    "    [1.4869989124254746, 5.333333333333333],\n",
    "    [0.9242909597068971, 5.7],\n",
    "    [-0.17261512496183906, 6.133333333333334],\n",
    "    [0.5070167149813454, 6.6000000000000005],\n",
    "    [1.5191598325682953, 6.833333333333333],\n",
    "    [1.290628057233878, 6.866666666666667],\n",
    "    [0.9443054288176045, 7.1000000000000005],\n",
    "    [1.573331800898381, 7.366666666666667],\n",
    "    [1.6919577903984795, 7.6000000000000005],\n",
    "    [1.4817108894267683, 7.633333333333333],\n",
    "    [1.7385144094218319, 7.366666666666667],\n",
    "    [0.72829568541386, 7.133333333333333],\n",
    "    [1.1810756258415545, 7.066666666666666],\n",
    "    [1.0744552124787754, 6.8],\n",
    "    [1.912788803646781, 6.633333333333333],\n",
    "    [1.4530625466762315, 6.566666666666666],\n",
    "    [1.8449328325780945, 6.2],\n",
    "    [1.1610984015164583, 6.0],\n",
    "    [1.6943354146561118, 5.633333333333333],\n",
    "    [0.8987043827146657, 5.466666666666666],\n",
    "    [0.7804539283188694, 5.666666666666667],\n",
    "    [1.347157900207585, 5.666666666666667],\n",
    "    [1.164382982184975, 5.566666666666666],\n",
    "    [1.2335920117191534, 5.533333333333334],\n",
    "    [2.088996231540863, 5.5],\n",
    "    [1.2270629067677286, 5.266666666666667],\n",
    "    [1.57860729654693, 5.333333333333333],\n",
    "    [1.2456035403402899, 5.233333333333333],\n",
    "    [1.867469123143306, 5.0],\n",
    "    [1.6903504884769882, 4.866666666666666],\n",
    "    [1.1899585158325232, 4.666666666666667],\n",
    "    [1.1473199521738087, 4.633333333333333],\n",
    "    [1.164148568541301, 4.3999999999999995],\n",
    "    [1.6878827260535578, 4.533333333333333],\n",
    "    [1.8955395387199703, 4.433333333333334],\n",
    "    [1.3263731372238352, 4.3],\n",
    "    [1.1350218067583073, 4.266666666666667],\n",
    "    [1.6558324562648608, 4.233333333333333],\n",
    "    [2.246697327454572, 4.066666666666666],\n",
    "    [1.0453080991553065, 4.033333333333333],\n",
    "    [2.447520743323639, 3.9333333333333336],\n",
    "    [0.7040228328775822, 4.0],\n",
    "    [1.1550583464351227, 3.9],\n",
    "    [0.32430231750570915, 4.233333333333333],\n",
    "    [1.1930148338389124, 4.3999999999999995],\n",
    "    [-0.014418056842246951, 4.833333333333333],\n",
    "    [0.6039847516499552, 5.5],\n",
    "    [1.2068897912196341, 5.7],\n",
    "    [0.9663125760500213, 5.833333333333333],\n",
    "    [0.9073911842490512, 5.733333333333333],\n",
    "    [0.7224493408918731, 5.866666666666667],\n",
    "    [1.0120071755647775, 5.866666666666667],\n",
    "    [1.1567748828699376, 6.133333333333333],\n",
    "    [2.2492160480868106, 6.133333333333333],\n",
    "    [1.7458572534395422, .833333333333333],\n",
    "    [1.2821010639992636, 5.7],\n",
    "    [1.584021166142846, 5.599999999999999],\n",
    "    [1.6050310401687584, 5.433333333333334],\n",
    "    [1.7806953233837186, 5.433333333333334],\n",
    "    [1.9078732753440297, 5.3],\n",
    "    [1.1651208646868305, 5.1000000000000005],\n",
    "    [1.8036452610227904, 4.966666666666667],\n",
    "    [1.441412391339414, 4.966666666666667],\n",
    "    [2.0372829446886787, 4.733333333333333],\n",
    "    [1.072285492732128, 4.633333333333334],\n",
    "    [0.8557429828464302, 4.633333333333334],\n",
    "    [1.2241527275092645, 4.433333333333334],\n",
    "    [1.2206184867838532, 4.5],\n",
    "    [1.223163289702156, 4.5],\n",
    "    [1.0612998712381305, 4.666666666666667],\n",
    "    [1.007897968786109, 4.8],\n",
    "    [-0.2074855970108369, 5.0],\n",
    "    [1.055024152212014, 5.333333333333333],\n",
    "    [0.1997621037051367, 6.0],\n",
    "    [-1.8580419646884172, 6.866666666666667],\n",
    "    [-1.1332498554384673, 8.266666666666667],\n",
    "    [-0.28967219322705295, 9.299999999999999],\n",
    "    [0.47002511696283555, 9.633333333333335],\n",
    "    [1.4403918583731024, 9.933333333333332],\n",
    "    [0.6380152175061715, 9.833333333333334],\n",
    "    [1.3908235318092377, 9.633333333333333],\n",
    "    [1.0305372509278765, 9.466666666666667],\n",
    "    [1.067154414709326, 9.500000000000002],\n",
    "    [0.29516083854417285, 9.033333333333333],\n",
    "    [1.37618322016968, 9.066666666666668],\n",
    "    [0.6173195228839967, 9.0],\n",
    "    [1.3122881505401862, 8.633333333333333],\n",
    "    [1.4135951979114436, 8.266666666666667],\n",
    "    [0.8270973881128629, 8.2],\n",
    "    [0.6494076957789918, 8.033333333333333],\n",
    "    [0.6256446778405422, 7.8],\n",
    "    [1.2881579850628988, 7.733333333333333],\n",
    "    [0.4124121108360468, 7.533333333333334],\n",
    "    [1.2671170673556276, 7.233333333333333],\n",
    "    [1.3911360060699929, 6.933333333333334],\n",
    "    [0.1253750994328673, 6.666666666666667],\n",
    "    [1.91968747506146, 6.2],\n",
    "    [1.656338595010154, 6.066666666666667],\n",
    "    [0.7237190066369026, 5.7],\n",
    "    [0.8598753876209342, 5.533333333333334],\n",
    "    [1.2229801716887145, 5.433333333333334],\n",
    "    [0.6796031317013007, 5.1000000000000005],\n",
    "    [0.17102127410248968, 5.033333333333333],\n",
    "])\n",
    "y = yu[:, 0]\n",
    "u = yu[:, 1]"
   ]
  },
  {
   "cell_type": "markdown",
   "metadata": {
    "slideshow": {
     "slide_type": "slide"
    }
   },
   "source": [
    "## What is `pymc3`?\n",
    "\n",
    "[pymc3](https://docs.pymc.io/) is a probabilist programming package that allows us to code up (and compute posteriors for!) our Bayesian models in a way that feels \"close to the math\""
   ]
  },
  {
   "cell_type": "markdown",
   "metadata": {
    "slideshow": {
     "slide_type": "fragment"
    }
   },
   "source": [
    "This package is probably not installed by default on your machines... To install it, you should run either of\n",
    "\n",
    "`conda install -c conda-forge pymc3` or `pip install pymc3`\n",
    "\n",
    "I typically use `conda` to install this package because it requires certain components to run as efficiently as possible.\n",
    "\n",
    "and then run `pip install arviz`"
   ]
  },
  {
   "cell_type": "markdown",
   "metadata": {
    "slideshow": {
     "slide_type": "fragment"
    }
   },
   "source": [
    "`pymc3` would take years to master -- I frequently learn new things about how it works (including as I prepared this material!).\n",
    "\n",
    "Because of this, we won't be able to teach you everything you would \"want to know\" in a few classes, so we'll just focus on the basics and then turn to doing examples"
   ]
  },
  {
   "cell_type": "markdown",
   "metadata": {
    "slideshow": {
     "slide_type": "fragment"
    }
   },
   "source": [
    "**Relevant objects**\n",
    "\n",
    "* `pm.Model`: One must specify that you intend to begin a model. This model is then used within a [\"context manager\"](https://docs.python-guide.org/writing/structure/#context-managers).\n",
    "* `pm.Data`: Not always necessary but it helps one be explicit about what the inputs/outputs of the model ar e\n",
    "* `pm.distributions`: [Many distributions](https://docs.pymc.io/api/distributions.html) are supported and can be used to build models\n",
    "* `pm.math`: `pymc3` is built on a package called `theano` -- In order to leverage the full capabilities of `pymc3` and `theano`, you should use the functions in `pm.math` to operate on random variable types"
   ]
  },
  {
   "cell_type": "markdown",
   "metadata": {
    "slideshow": {
     "slide_type": "slide"
    }
   },
   "source": [
    "**Simple example**\n",
    "\n",
    "Let quarterly GDP growth be described by the following model,\n",
    "\n",
    "$$y_t = \\theta_y + \\sigma \\varepsilon_t$$\n",
    "\n",
    "where $\\varepsilon_t \\sim N(0, 1)$ and $\\sigma = 1.5$\n",
    "\n",
    "Then\n",
    "\n",
    "* We choose a prior over $\\theta_y$, $f(\\theta_y) = N(1.0, 4.0)$\n",
    "* The likelihood over $y_t$ is given by $f(y_t | \\theta) = N(\\theta, 1.5)$"
   ]
  },
  {
   "cell_type": "code",
   "execution_count": null,
   "metadata": {
    "slideshow": {
     "slide_type": "-"
    }
   },
   "outputs": [],
   "source": [
    "m = pm.Model()\n",
    "\n",
    "with m:\n",
    "    # Observed data\n",
    "    data = pm.Data(\"data\", y)\n",
    "\n",
    "    # Prior over theta_y\n",
    "    theta_y = pm.Normal(\"theta_y\", 1.0, 2.0)  # Std dev not variance\n",
    "\n",
    "    # Likelihood (as denoted by `observed`)\n",
    "    obs_ys = pm.Normal(\"obs_ys\", theta_y, 1.5, observed=data)"
   ]
  },
  {
   "cell_type": "code",
   "execution_count": null,
   "metadata": {
    "slideshow": {
     "slide_type": "-"
    }
   },
   "outputs": [],
   "source": [
    "with m:\n",
    "    trace = pm.sample(2000)"
   ]
  },
  {
   "cell_type": "code",
   "execution_count": null,
   "metadata": {
    "scrolled": true,
    "slideshow": {
     "slide_type": "-"
    }
   },
   "outputs": [],
   "source": [
    "fig, ax = plt.subplots()\n",
    "\n",
    "ax.hist(trace[\"theta_y\"], bins=50);"
   ]
  },
  {
   "cell_type": "markdown",
   "metadata": {
    "slideshow": {
     "slide_type": "slide"
    }
   },
   "source": [
    "**Regression model**\n",
    "\n",
    "Let's now explore whether we can predict quarterly GDP growth using the $t-1$ unemployment rate. Let our likelihood be described by\n",
    "\n",
    "$$y_{t+1} = \\theta_y + \\beta_u u_t + \\sigma \\varepsilon_{t+1}$$\n",
    "\n",
    "with $\\varepsilon_{t+1} \\sim N(0, 1)$\n",
    "\n",
    "We now specify priors over $\\theta_y$, $\\beta_u$, and $\\sigma$:\n",
    "\n",
    "- $\\theta_y \\sim N(1, 4)$\n",
    "- $\\beta_u \\sim N(0, 9)$\n",
    "- $\\sigma \\sim U(0.001, 5.0)$"
   ]
  },
  {
   "cell_type": "code",
   "execution_count": null,
   "metadata": {
    "slideshow": {
     "slide_type": "-"
    }
   },
   "outputs": [],
   "source": [
    "m = pm.Model()\n",
    "\n",
    "with m:\n",
    "    # Observed data\n",
    "    gdp_growth = pm.Data(\"gdp_growth\", y)\n",
    "    unrate = pm.Data(\"unrate\", u)\n",
    "\n",
    "    # Priors\n",
    "    theta_y = pm.Normal(\"theta_y\", 1.0, 2.0)\n",
    "    beta_u = pm.Normal(\"beta_u\", 0.0, 3.0)\n",
    "    sigma = pm.Uniform(\"sigma\", 0.001, 5.0)\n",
    "\n",
    "    # Likelihood (as denoted by `observed`)\n",
    "    obs_ys = pm.Normal(\"obs_ys\", theta_y + beta_u*unrate, sigma, observed=gdp_growth)"
   ]
  },
  {
   "cell_type": "code",
   "execution_count": null,
   "metadata": {
    "slideshow": {
     "slide_type": "-"
    }
   },
   "outputs": [],
   "source": [
    "with m:\n",
    "    trace = pm.sample(2000, tune=1500)"
   ]
  },
  {
   "cell_type": "code",
   "execution_count": null,
   "metadata": {
    "slideshow": {
     "slide_type": "-"
    }
   },
   "outputs": [],
   "source": [
    "fig, ax = plt.subplots(2, 2, figsize=(14, 8))\n",
    "\n",
    "ax[0, 0].hist(trace[\"theta_y\"], bins=50)\n",
    "ax[0, 0].set_title(\"theta_y\")\n",
    "ax[0, 1].hist(trace[\"beta_u\"], bins=50)\n",
    "ax[0, 1].set_title(\"beta_u\")\n",
    "ax[1, 0].hist(trace[\"sigma\"], bins=50)\n",
    "ax[1, 0].set_title(\"sigma\")"
   ]
  },
  {
   "cell_type": "code",
   "execution_count": null,
   "metadata": {},
   "outputs": [],
   "source": [
    "plt.scatter(trace[\"theta_y\"], trace[\"beta_u\"], alpha=0.4)"
   ]
  },
  {
   "cell_type": "code",
   "execution_count": null,
   "metadata": {
    "slideshow": {
     "slide_type": "-"
    }
   },
   "outputs": [],
   "source": [
    "np.corrcoef(trace[\"theta_y\"], trace[\"beta_u\"])[0, 1]"
   ]
  }
 ],
 "metadata": {
  "celltoolbar": "Slideshow",
  "kernelspec": {
   "display_name": "Python 3",
   "language": "python",
   "name": "python3"
  },
  "language_info": {
   "codemirror_mode": {
    "name": "ipython",
    "version": 3
   },
   "file_extension": ".py",
   "mimetype": "text/x-python",
   "name": "python",
   "nbconvert_exporter": "python",
   "pygments_lexer": "ipython3",
   "version": "3.8.8"
  }
 },
 "nbformat": 4,
 "nbformat_minor": 4
}
