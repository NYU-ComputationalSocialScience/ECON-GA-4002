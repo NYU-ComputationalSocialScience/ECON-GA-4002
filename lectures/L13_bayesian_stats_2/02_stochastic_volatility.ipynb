{
 "cells": [
  {
   "cell_type": "markdown",
   "metadata": {
    "slideshow": {
     "slide_type": "slide"
    }
   },
   "source": [
    "# (Simple) Stochastic Volatility Model\n",
    "\n",
    "This notebook is (heavily) based on [this notebook](https://docs.pymc.io/notebooks/stochastic_volatility.html) from the pymc3 examples section.\n",
    "\n",
    "\n"
   ]
  },
  {
   "cell_type": "code",
   "execution_count": null,
   "metadata": {
    "slideshow": {
     "slide_type": "-"
    }
   },
   "outputs": [],
   "source": [
    "import matplotlib.pyplot as plt\n",
    "import numpy as np\n",
    "import pandas as pd\n",
    "import pymc3 as pm\n",
    "\n",
    "%matplotlib inline"
   ]
  },
  {
   "cell_type": "markdown",
   "metadata": {
    "slideshow": {
     "slide_type": "slide"
    }
   },
   "source": [
    "## Load and manipulate the data\n",
    "\n",
    "We are going to use S&P 500 daily prices to compute returns"
   ]
  },
  {
   "cell_type": "code",
   "execution_count": null,
   "metadata": {
    "slideshow": {
     "slide_type": "-"
    }
   },
   "outputs": [],
   "source": [
    "df = pd.read_csv(\"./spp500.csv\").rename(columns={\"Date\": \"dt\"})\n",
    "\n",
    "# Compute the \"percent change\"\n",
    "df[\"change\"] = np.log(df[\"Close\"]).diff()\n",
    "\n",
    "returns = df.set_index(\"dt\").loc[\"2007-01-01\":, [\"Close\", \"change\"]].dropna()\n",
    "returns.head()"
   ]
  },
  {
   "cell_type": "markdown",
   "metadata": {
    "slideshow": {
     "slide_type": "slide"
    }
   },
   "source": [
    "## Object of interest\n",
    "\n",
    "If we plot the daily log returns from the S&P 500, we see that there are periods of time in which there is raised volatility.\n",
    "\n",
    "We would like to build a model that allows us to evaluate how this volatility changes over time."
   ]
  },
  {
   "cell_type": "code",
   "execution_count": null,
   "metadata": {
    "scrolled": true,
    "slideshow": {
     "slide_type": "-"
    }
   },
   "outputs": [],
   "source": [
    "fig, ax = plt.subplots(figsize=(12, 6))\n",
    "\n",
    "returns.plot(y=\"change\", label=\"S&P 500\", linewidth=0.75, ax=ax)\n",
    "\n",
    "ax.set_xlabel(\"time\")\n",
    "ax.set_ylabel(\"returns\")\n",
    "ax.spines[\"right\"].set_visible(False)\n",
    "ax.spines[\"top\"].set_visible(False)"
   ]
  },
  {
   "cell_type": "markdown",
   "metadata": {
    "slideshow": {
     "slide_type": "slide"
    }
   },
   "source": [
    "## Our model\n",
    "\n",
    "The likelihood is given by: $\\log(r_{t+1}) \\sim \\text{StudentT}(\\nu, 0, \\exp(-2 \\log \\sigma_{t+1}))$\n",
    "\n",
    "Our priors are given by\n",
    "\n",
    "\\begin{align*}\n",
    "  \\nu &\\sim \\text{Exp}(0.1) \\\\\n",
    "  \\text{stepsize} &\\sim \\text{Exp}(10) \\\\\n",
    "  \\log \\sigma_{t+1} &= \\log \\sigma_{t} + \\text{stepsize} \\varepsilon_{t+1} \\\\\n",
    "\\end{align*}"
   ]
  },
  {
   "cell_type": "code",
   "execution_count": null,
   "metadata": {
    "slideshow": {
     "slide_type": "-"
    }
   },
   "outputs": [],
   "source": [
    "m = pm.Model()\n",
    "\n",
    "with m:\n",
    "    # Data\n",
    "    data_returns = pm.Data(\"data_returns\", returns[\"change\"].to_numpy())\n",
    "    \n",
    "    # Prior on the DoF\n",
    "    nu = pm.Exponential(\"nu\", 0.1)\n",
    "\n",
    "    # Prior on the step size of GRW\n",
    "    step_size = pm.Exponential(\"step_size\", 10)\n",
    "\n",
    "    # Prior on the volatility\n",
    "    log_sigma = pm.GaussianRandomWalk(\"log_sigma\", sigma=step_size, shape=returns.shape[0])\n",
    "\n",
    "    # Likelihood of returns\n",
    "    obs_returns = pm.StudentT(\n",
    "        \"obs_returns\", nu=nu, lam=pm.math.exp(-2*log_sigma), observed=data_returns\n",
    "    )"
   ]
  },
  {
   "cell_type": "markdown",
   "metadata": {
    "slideshow": {
     "slide_type": "subslide"
    }
   },
   "source": [
    "###  Prior predictive"
   ]
  },
  {
   "cell_type": "code",
   "execution_count": null,
   "metadata": {
    "slideshow": {
     "slide_type": "-"
    }
   },
   "outputs": [],
   "source": [
    "with m:\n",
    "    prior_trace = pm.sample_prior_predictive(25)"
   ]
  },
  {
   "cell_type": "code",
   "execution_count": null,
   "metadata": {
    "slideshow": {
     "slide_type": "-"
    }
   },
   "outputs": [],
   "source": [
    "fig, ax = plt.subplots()\n",
    "\n",
    "dates = returns.index.to_numpy().astype(np.datetime64())\n",
    "ax.plot(dates, prior_trace[\"obs_returns\"].T, color=\"b\", alpha=0.05)\n",
    "ax.plot(dates, returns[\"change\"].to_numpy(), color=\"k\")\n",
    "\n",
    "ax.set_ylim(-15.0, 15.0)"
   ]
  },
  {
   "cell_type": "code",
   "execution_count": null,
   "metadata": {
    "slideshow": {
     "slide_type": "-"
    }
   },
   "outputs": [],
   "source": [
    "np.quantile(prior_trace[\"obs_returns\"], [0.25, 0.75])"
   ]
  },
  {
   "cell_type": "markdown",
   "metadata": {
    "slideshow": {
     "slide_type": "subslide"
    }
   },
   "source": [
    "## Sample from the posterior\n",
    "\n",
    "We will sample from the posterior distribution using the default sampler that comes with pymc3 (NUTS)"
   ]
  },
  {
   "cell_type": "code",
   "execution_count": null,
   "metadata": {
    "slideshow": {
     "slide_type": "-"
    }
   },
   "outputs": [],
   "source": [
    "with m:\n",
    "    trace = pm.sample(1500, tune=2000)"
   ]
  },
  {
   "cell_type": "markdown",
   "metadata": {
    "slideshow": {
     "slide_type": "fragment"
    }
   },
   "source": [
    "### Plotting the traces\n",
    "\n",
    "When we sample from the posterior, `pymc3` will typically run multiple chains at once. The `pm.traceplot` can show us how the chains differ from one another by plotting the samples"
   ]
  },
  {
   "cell_type": "code",
   "execution_count": null,
   "metadata": {
    "slideshow": {
     "slide_type": "-"
    }
   },
   "outputs": [],
   "source": [
    "pm.traceplot(trace, var_names=[\"step_size\", \"nu\"]);"
   ]
  },
  {
   "cell_type": "code",
   "execution_count": null,
   "metadata": {
    "slideshow": {
     "slide_type": "-"
    }
   },
   "outputs": [],
   "source": [
    "fig, ax = plt.subplots(figsize=(14, 4))\n",
    "\n",
    "y_vals = np.exp(trace[\"log_sigma\"])[::5].T\n",
    "x_vals = np.vstack([returns.index for _ in y_vals.T]).T.astype(np.datetime64)\n",
    "\n",
    "plt.plot(x_vals, y_vals, \"k\", alpha=0.002)\n",
    "ax.set_xlim(x_vals.min(), x_vals.max())\n",
    "ax.set_ylim(bottom=0)\n",
    "ax.set(title=\"Estimated volatility over time\", xlabel=\"Date\", ylabel=\"Volatility\");"
   ]
  },
  {
   "cell_type": "markdown",
   "metadata": {
    "slideshow": {
     "slide_type": "subslide"
    }
   },
   "source": [
    "### Plotting the observed log returns against the posterior predictive log returns"
   ]
  },
  {
   "cell_type": "code",
   "execution_count": null,
   "metadata": {
    "slideshow": {
     "slide_type": "-"
    }
   },
   "outputs": [],
   "source": [
    "with m:\n",
    "    posterior_predictive = pm.sample_posterior_predictive(trace)"
   ]
  },
  {
   "cell_type": "code",
   "execution_count": null,
   "metadata": {
    "slideshow": {
     "slide_type": "-"
    }
   },
   "outputs": [],
   "source": [
    "fig, ax = plt.subplots(2, 1, figsize=(14, 8))\n",
    "\n",
    "x = returns.index.to_numpy().astype(np.datetime64)\n",
    "x_vals = np.vstack([returns.index for _ in y_vals.T]).T.astype(np.datetime64)\n",
    "\n",
    "# Plot returns\n",
    "ax[0].plot(\n",
    "    x, posterior_predictive[\"obs_returns\"][::25].T, color=\"g\",\n",
    "    alpha=0.25, zorder=-10\n",
    ")\n",
    "ax[0].plot(x, returns[\"change\"].to_numpy(), color=\"k\", linewidth=0.5)\n",
    "\n",
    "# # Plot volatility\n",
    "y_vals = np.exp(trace[\"log_sigma\"])[::25].T\n",
    "\n",
    "ax[1].plot(x, y_vals, \"k\", alpha=0.002)\n",
    "ax[1].set_ylim(bottom=0)"
   ]
  }
 ],
 "metadata": {
  "celltoolbar": "Slideshow",
  "kernelspec": {
   "display_name": "Python 3",
   "language": "python",
   "name": "python3"
  },
  "language_info": {
   "codemirror_mode": {
    "name": "ipython",
    "version": 3
   },
   "file_extension": ".py",
   "mimetype": "text/x-python",
   "name": "python",
   "nbconvert_exporter": "python",
   "pygments_lexer": "ipython3",
   "version": "3.8.8"
  }
 },
 "nbformat": 4,
 "nbformat_minor": 4
}
