{
 "cells": [
  {
   "cell_type": "markdown",
   "metadata": {
    "slideshow": {
     "slide_type": "slide"
    }
   },
   "source": [
    "# Binomial Distribution"
   ]
  },
  {
   "cell_type": "code",
   "execution_count": null,
   "metadata": {
    "slideshow": {
     "slide_type": "-"
    }
   },
   "outputs": [],
   "source": [
    "import matplotlib.pyplot as plt\n",
    "import numpy as np\n",
    "import scipy.stats as st\n",
    "\n",
    "from ipywidgets import interact, IntSlider, FloatSlider\n",
    "\n",
    "%matplotlib inline"
   ]
  },
  {
   "cell_type": "markdown",
   "metadata": {
    "slideshow": {
     "slide_type": "slide"
    }
   },
   "source": [
    "### Introduction\n",
    "\n",
    "The binomial distribution is closely related to the Bernoulli distribution -- The binomial distribution is the distribution over the number of successes of $N$ draws from a Bernoulli distribution.\n",
    "\n",
    "Below we give a few examples of binomial random variables:\n",
    "\n",
    "* The number of heads flipped in 10 coin flips\n",
    "* The number of job offers from 50 job applications\n",
    "* The number of penalty shots made by a particular soccer team"
   ]
  },
  {
   "cell_type": "markdown",
   "metadata": {
    "slideshow": {
     "slide_type": "slide"
    }
   },
   "source": [
    "### Details\n",
    "\n",
    "Similar to the Bernoulli distribution, the binomial distribution will depend on a parameter $p$ which denotes the \"probability of success\" for a single draw of the Bernoulli random variable, however, it adds a second parameter $N$ which is the total number of draws taken from the underlying Bernoulli distribution.\n",
    "\n",
    "A binomial random variables can take values $y \\in \\{0, 1, 2, \\dots, N\\}$. The lower bound is 0 because you can't have a negative number of successes while the upper bound is $N$ because you can't succeed more than $N$ times with $N$ draws from a Bernoulli distribution.\n",
    "\n",
    "The probability mass function is given by\n",
    "\n",
    "$$f(n; N, p) = {N \\choose n} (1 - p)^{N-n} p^n $$\n",
    "\n",
    "* **Mean**: $N p$\n",
    "* **Variance**: $N p (1 - p)$"
   ]
  },
  {
   "cell_type": "code",
   "execution_count": null,
   "metadata": {
    "slideshow": {
     "slide_type": "-"
    }
   },
   "outputs": [],
   "source": [
    "def binomial_plot_pmf_cmf(N, p):\n",
    "    brv = st.binom(N, p)\n",
    "    fig, ax = plt.subplots(1, 2, figsize=(9, 6))\n",
    "    \n",
    "    xvals = np.arange(N+1)\n",
    "    ax[0].bar(xvals, brv.pmf(xvals), width=0.1)\n",
    "    ax[0].set_title(\"Probability Mass Function\")\n",
    "    \n",
    "    xvals = np.linspace(-0.10, N+0.10, 10000)\n",
    "    ax[1].plot(xvals, brv.cdf(xvals))\n",
    "    ax[1].set_title(\"Cumulative Distribution Function\")\n",
    "    \n",
    "    return None"
   ]
  },
  {
   "cell_type": "code",
   "execution_count": null,
   "metadata": {
    "slideshow": {
     "slide_type": "-"
    }
   },
   "outputs": [],
   "source": [
    "ns = IntSlider(\n",
    "    value=5, min=1, max=50,\n",
    "    step=1, description=\"Number of draws\",\n",
    "    style={\"description_width\": \"50%\"},\n",
    "    layout={\"width\": \"40%\"}\n",
    ")\n",
    "ps = FloatSlider(\n",
    "    value=0.5, min=0.0, max=1.0,\n",
    "    step=0.05, description=\"Probability of success (p)\",\n",
    "    style={\"description_width\": \"50%\"},\n",
    "    layout={\"width\": \"40%\"}\n",
    ")\n",
    "\n",
    "output = interact(binomial_plot_pmf_cmf, N=ns, p=ps)"
   ]
  },
  {
   "cell_type": "markdown",
   "metadata": {
    "slideshow": {
     "slide_type": "slide"
    }
   },
   "source": [
    "### Example: Number of credits earned per semester\n",
    "\n",
    "Suppose that a student passes a class with probability 0.8 and that all students are expected to take 4 (3 hour) classes per semester. The number of hours that a student earns in a given semester would be described by multiply the number of classes passed (which is distributed according to a binomial distribution) by 3."
   ]
  },
  {
   "cell_type": "code",
   "execution_count": null,
   "metadata": {
    "slideshow": {
     "slide_type": "-"
    }
   },
   "outputs": [],
   "source": [
    "p = 0.8\n",
    "N = 4\n",
    "C = 3\n",
    "\n",
    "brv = st.binom(N, p)"
   ]
  },
  {
   "cell_type": "markdown",
   "metadata": {
    "slideshow": {
     "slide_type": "subslide"
    }
   },
   "source": [
    "We could determine the number of credits earned by a single student by drawing from the binomial that deterimines how many classes a student passed and multiplying by 3"
   ]
  },
  {
   "cell_type": "code",
   "execution_count": null,
   "metadata": {
    "slideshow": {
     "slide_type": "-"
    }
   },
   "outputs": [],
   "source": [
    "brv.rvs()*3"
   ]
  },
  {
   "cell_type": "markdown",
   "metadata": {
    "slideshow": {
     "slide_type": "subslide"
    }
   },
   "source": [
    "Additionally, we could think about what the distribution of credits earned in a semester across many students might look like according to this binomial distribution."
   ]
  },
  {
   "cell_type": "code",
   "execution_count": null,
   "metadata": {
    "slideshow": {
     "slide_type": "-"
    }
   },
   "outputs": [],
   "source": [
    "classes_passed = brv.rvs(1000)\n",
    "credits_earned = 3*classes_passed\n",
    "\n",
    "fig, ax = plt.subplots(figsize=(10, 8))\n",
    "\n",
    "ax.hist(\n",
    "    credits_earned, density=True,\n",
    "    bins=np.linspace(0.5, 13.5, 14), align=\"mid\"\n",
    ")\n",
    "ax.spines[\"top\"].set_visible(False)\n",
    "ax.spines[\"right\"].set_visible(False)\n",
    "\n",
    "ax.set_title(\"Distribution of credits earned\");"
   ]
  },
  {
   "cell_type": "markdown",
   "metadata": {
    "slideshow": {
     "slide_type": "-"
    }
   },
   "source": [
    "**Note**: In creating this notebook, I referenced the \"Distribution Explorer\" material found at https://distribution-explorer.github.io/index.html. I certainly encourage others to find additional information there."
   ]
  }
 ],
 "metadata": {
  "celltoolbar": "Slideshow",
  "kernelspec": {
   "display_name": "Python 3",
   "language": "python",
   "name": "python3"
  },
  "language_info": {
   "codemirror_mode": {
    "name": "ipython",
    "version": 3
   },
   "file_extension": ".py",
   "mimetype": "text/x-python",
   "name": "python",
   "nbconvert_exporter": "python",
   "pygments_lexer": "ipython3",
   "version": "3.7.4"
  }
 },
 "nbformat": 4,
 "nbformat_minor": 4
}
