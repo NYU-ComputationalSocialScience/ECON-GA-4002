{
 "cells": [
  {
   "cell_type": "markdown",
   "metadata": {
    "slideshow": {
     "slide_type": "slide"
    }
   },
   "source": [
    "# Bernoulli Distribution"
   ]
  },
  {
   "cell_type": "code",
   "execution_count": null,
   "metadata": {
    "slideshow": {
     "slide_type": "-"
    }
   },
   "outputs": [],
   "source": [
    "import matplotlib.pyplot as plt\n",
    "import numpy as np\n",
    "import scipy.stats as st\n",
    "\n",
    "from ipywidgets import interact, FloatSlider, HBox, Label\n",
    "\n",
    "%matplotlib inline"
   ]
  },
  {
   "cell_type": "markdown",
   "metadata": {
    "slideshow": {
     "slide_type": "slide"
    }
   },
   "source": [
    "### Introduction\n",
    "\n",
    "Any single event that has two possible outcomes can be described by the Bernoulli distribution. The two outcomes are typically referred to as \"success\" and \"failure\".\n",
    "\n",
    "Below we give a few examples of Bernoulli random variables:\n",
    "\n",
    "* A single coin flip (either heads or tails)\n",
    "* A job application (either accepted or rejected)\n",
    "* A penalty kick (either goal or no goal)"
   ]
  },
  {
   "cell_type": "markdown",
   "metadata": {
    "slideshow": {
     "slide_type": "subslide"
    }
   },
   "source": [
    "### Details\n",
    "\n",
    "The Bernoulli distribution is characterized by a single parameter, $p$. This parameter should be interpreted as the \"probability of success\". For example, if we were to flip a fair coin, then $p$ would be 0.50 because the probability of flipping a heads (what we call a success) is 0.50.\n",
    "\n",
    "The values associated a Bernoulli random variable are often denoted as $y = 0$ (failure) and $y = 1$ (success). We will use these numeric interpretations for the remainder of this document.\n",
    "\n",
    "The probability mass function is given by\n",
    "\n",
    "\\begin{align*}\n",
    "  f(y; p) \\equiv \\begin{cases} 1-p &\\quad y=0 \\\\ p &\\quad y=1 \\end{cases}\n",
    "\\end{align*}\n",
    "\n",
    "* **Mean**: $p$\n",
    "* **Variance**: $p (1 - p)$"
   ]
  },
  {
   "cell_type": "code",
   "execution_count": null,
   "metadata": {
    "slideshow": {
     "slide_type": "subslide"
    }
   },
   "outputs": [],
   "source": [
    "def bernoulli_plot_pmf_cmf(p):\n",
    "    brv = st.bernoulli(p)\n",
    "    fig, ax = plt.subplots(1, 2, figsize=(9, 6))\n",
    "    \n",
    "    xvals = np.array([0, 1])\n",
    "    ax[0].bar(xvals, brv.pmf(xvals), width=0.1)\n",
    "    ax[0].set_title(\"Probability Mass Function\")\n",
    "    \n",
    "    xvals = np.linspace(-0.10, 1.10, 10000)\n",
    "    ax[1].plot(xvals, brv.cdf(xvals))\n",
    "    ax[1].set_title(\"Cumulative Distribution Function\")\n",
    "    \n",
    "    return None"
   ]
  },
  {
   "cell_type": "code",
   "execution_count": null,
   "metadata": {
    "scrolled": true,
    "slideshow": {
     "slide_type": "-"
    }
   },
   "outputs": [],
   "source": [
    "fs = FloatSlider(\n",
    "    value=0.5, min=0.0, max=1.0,\n",
    "    step=0.05, description=\"Probability of success (p)\",\n",
    "    style={\"description_width\": \"50%\"},\n",
    "    layout={\"width\": \"40%\"}\n",
    ")\n",
    "\n",
    "output = interact(bernoulli_plot_pmf_cmf, p=fs)"
   ]
  },
  {
   "cell_type": "markdown",
   "metadata": {
    "slideshow": {
     "slide_type": "slide"
    }
   },
   "source": [
    "### Example: Passing a class\n",
    "\n",
    "Suppose that a student passes a class with probability 0.8.The student succeeding or failing in the class would be a draw from a Bernoulli distribution."
   ]
  },
  {
   "cell_type": "code",
   "execution_count": null,
   "metadata": {
    "slideshow": {
     "slide_type": "-"
    }
   },
   "outputs": [],
   "source": [
    "p = 0.8\n",
    "\n",
    "brv = st.bernoulli(p)"
   ]
  },
  {
   "cell_type": "markdown",
   "metadata": {
    "slideshow": {
     "slide_type": "subslide"
    }
   },
   "source": [
    "We could take a single draw from this distribution to determine whether the student passes (1 means pass and 0 means fail)"
   ]
  },
  {
   "cell_type": "code",
   "execution_count": null,
   "metadata": {
    "slideshow": {
     "slide_type": "-"
    }
   },
   "outputs": [],
   "source": [
    "brv.rvs()"
   ]
  },
  {
   "cell_type": "markdown",
   "metadata": {
    "slideshow": {
     "slide_type": "subslide"
    }
   },
   "source": [
    "Or we could see what happens over many similar students (according to the law of large numbers, we should expect that the fraction of students that pass the course should be approximately 0.8)."
   ]
  },
  {
   "cell_type": "code",
   "execution_count": null,
   "metadata": {
    "slideshow": {
     "slide_type": "-"
    }
   },
   "outputs": [],
   "source": [
    "samples = brv.rvs(1000)\n",
    "\n",
    "print(f\"Fails {100*np.mean(samples < 1)}% of the time\")\n",
    "print(f\"Succeeds {100*np.mean(samples == 1)}% of the time\")\n",
    "\n",
    "print(f\"The Bernoulli parameter is {p}\")"
   ]
  },
  {
   "cell_type": "markdown",
   "metadata": {
    "slideshow": {
     "slide_type": "subslide"
    }
   },
   "source": [
    "**Note**: In creating this notebook, I referenced the \"Distribution Explorer\" material found at https://distribution-explorer.github.io/index.html. I certainly encourage others to find additional information there."
   ]
  }
 ],
 "metadata": {
  "celltoolbar": "Slideshow",
  "kernelspec": {
   "display_name": "Python 3",
   "language": "python",
   "name": "python3"
  },
  "language_info": {
   "codemirror_mode": {
    "name": "ipython",
    "version": 3
   },
   "file_extension": ".py",
   "mimetype": "text/x-python",
   "name": "python",
   "nbconvert_exporter": "python",
   "pygments_lexer": "ipython3",
   "version": "3.7.4"
  }
 },
 "nbformat": 4,
 "nbformat_minor": 4
}
