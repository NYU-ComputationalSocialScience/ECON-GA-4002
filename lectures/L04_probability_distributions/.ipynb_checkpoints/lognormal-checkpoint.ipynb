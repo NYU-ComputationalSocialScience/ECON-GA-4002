{
 "cells": [
  {
   "cell_type": "markdown",
   "metadata": {
    "slideshow": {
     "slide_type": "slide"
    }
   },
   "source": [
    "# Log-normal Distribution"
   ]
  },
  {
   "cell_type": "code",
   "execution_count": null,
   "metadata": {
    "slideshow": {
     "slide_type": "-"
    }
   },
   "outputs": [],
   "source": [
    "import matplotlib.pyplot as plt\n",
    "import numpy as np\n",
    "import scipy.stats as st\n",
    "import math\n",
    "\n",
    "from ipywidgets import interact, IntSlider, FloatSlider\n",
    "\n",
    "%matplotlib inline"
   ]
  },
  {
   "cell_type": "markdown",
   "metadata": {
    "slideshow": {
     "slide_type": "slide"
    }
   },
   "source": [
    "### Introduction\n",
    "\n",
    "The log-normal distribution is a distribution with a slightly fat tail and skewness.\n",
    "\n",
    "Some examples of a log-normal distribution could be:\n",
    "\n",
    "* Labor income\n",
    "* Stock returns"
   ]
  },
  {
   "cell_type": "markdown",
   "metadata": {
    "slideshow": {
     "slide_type": "slide"
    }
   },
   "source": [
    "### Details\n",
    "\n",
    "A random variable, $X$, is log-normal if the random variable given by $\\log(X)$ is normal. The reverse statement of this would be if $Y$ were a normal random variable then $X \\equiv \\exp(Y)$ is a log-normal random variable.\n",
    "\n",
    "The log-normal distribution can be characterized by two parameters, $\\mu$ and $\\sigma$. These parameters match up to the mean and standard deviation of $\\log(X)$, i.e., $\\log(X) \\sim N(\\mu, \\sigma)$.\n",
    "\n",
    "Since $X \\equiv \\exp(Y)$ where $Y$ is a normal random variable then the possible values for the log-normal random variable are all positive real values.\n",
    "\n",
    "The probability density function is given by\n",
    "\n",
    "\\begin{align*}\n",
    "  f(x; \\mu,\\sigma) \\equiv  \\frac{1}{x}\\frac{1}{\\sigma\\sqrt[]{2\\pi } }e^{\\frac{(\\ln x-\\mu)^2 }{-2\\sigma^2}}\n",
    "\\end{align*}\n",
    "\n",
    "The cumulative density function is given by\n",
    "\n",
    "\\begin{align*}\n",
    "  F(x; \\mu,\\sigma) \\equiv  \\Phi(\\frac{\\ln x-\\mu}{\\sigma})\n",
    "\\end{align*}<br>\n",
    "  where $\\Phi$ is the PDF of standard normal distribution\n",
    "\n",
    "\n",
    "* **Mean**: $e^{\\mu+\\frac{1}{2}\\sigma^2}$\n",
    "* **Variance**: $e^{2\\mu+\\sigma^2}(e^{\\sigma^2}-1)$"
   ]
  },
  {
   "cell_type": "code",
   "execution_count": null,
   "metadata": {
    "slideshow": {
     "slide_type": "-"
    }
   },
   "outputs": [],
   "source": [
    "def lognorm_plot_pdf_cdf(mu, sigma):\n",
    "    lnrv = st.lognorm(s=sigma, loc=0, scale=math.exp(mu))\n",
    "    fig, ax = plt.subplots(1, 2, figsize=(14, 10))\n",
    "    \n",
    "    xvals = np.linspace(0, 25, 10000)\n",
    "    ax[0].plot(xvals, lnrv.pdf(xvals))\n",
    "    ax[0].set_title(\"Probability Density Function\")\n",
    "    \n",
    "    ax[1].plot(xvals, lnrv.cdf(xvals))\n",
    "    ax[1].set_title(\"Cumulative Distribution Function\")\n",
    "    \n",
    "    return None"
   ]
  },
  {
   "cell_type": "code",
   "execution_count": null,
   "metadata": {
    "slideshow": {
     "slide_type": "-"
    }
   },
   "outputs": [],
   "source": [
    "fs1 = FloatSlider(\n",
    "    value=0, min=-3, max=3,\n",
    "    step=0.25, description=\"mu\",\n",
    "    style={\"description_width\": \"50%\"},\n",
    "    layout={\"width\": \"40%\"}\n",
    ")"
   ]
  },
  {
   "cell_type": "code",
   "execution_count": null,
   "metadata": {
    "slideshow": {
     "slide_type": "-"
    }
   },
   "outputs": [],
   "source": [
    "fs2 = FloatSlider(\n",
    "    value=1, min=0.1, max=2.0,\n",
    "    step=0.1, description=\"sigma\",\n",
    "    style={\"description_width\": \"50%\"},\n",
    "    layout={\"width\": \"40%\"}\n",
    ")"
   ]
  },
  {
   "cell_type": "code",
   "execution_count": null,
   "metadata": {
    "slideshow": {
     "slide_type": "-"
    }
   },
   "outputs": [],
   "source": [
    "output = interact(lognorm_plot_pdf_cdf, mu=fs1, sigma=fs2)"
   ]
  },
  {
   "cell_type": "markdown",
   "metadata": {
    "slideshow": {
     "slide_type": "slide"
    }
   },
   "source": [
    "### Example\n",
    "Suppose $S_t$ is the stock price at $t$ and that\n",
    "\n",
    "$$\\frac{S_t}{S_{t-1}}\\sim \\text{log normal}((\\mu-\\frac{1}{2}\\sigma^2),  \\sigma^2)$$\n",
    "\n",
    "Note that if we set\n",
    "\n",
    "$$\\text{mu} = (\\mu-\\frac{1}{2}\\sigma^2)$$\n",
    "\n",
    "and\n",
    "\n",
    "$$\\text{sigma} = \\sigma^2$$\n",
    "\n",
    "then $\\log \\left( \\frac{S_t}{S_{t-1}} \\right) \\sim \\text{normal}(\\text{mu}, \\text{sigma}^2)$"
   ]
  },
  {
   "cell_type": "code",
   "execution_count": null,
   "metadata": {
    "slideshow": {
     "slide_type": "-"
    }
   },
   "outputs": [],
   "source": [
    "mu = 0.005\n",
    "sigma = 0.10\n",
    "\n",
    "lrv = st.lognorm(scale=np.exp(mu), s=sigma)  # Note the non-standard parameterization"
   ]
  },
  {
   "cell_type": "code",
   "execution_count": null,
   "metadata": {
    "slideshow": {
     "slide_type": "-"
    }
   },
   "outputs": [],
   "source": [
    "lrv.rvs()"
   ]
  },
  {
   "cell_type": "markdown",
   "metadata": {
    "slideshow": {
     "slide_type": "subslide"
    }
   },
   "source": [
    "What's the distribution of $\\log \\left( \\frac{S_{t}}{S_{0}} \\right)$?"
   ]
  },
  {
   "cell_type": "markdown",
   "metadata": {
    "slideshow": {
     "slide_type": "fragment"
    }
   },
   "source": [
    "Well, we can \"multiply by one\" in a creative way to get:\n",
    "    \n",
    "\\begin{align*}\n",
    "  \\log \\left( \\frac{S_t}{S_0} \\right) &= \\log \\left( \\frac{S_t}{S_{t-1}} \\frac{S_{t-1}}{S_0} \\right) \\\\\n",
    "    &\\dots \\\\\n",
    "    &= \\log \\left( \\frac{S_t}{S_{t-1}} \\frac{S_{t-1}}{S_{t-2}} \\dots \\frac{S_1}{S_0} \\right) \\\\\n",
    "    &= \\log \\left( \\frac{S_t}{S_{t-1}} \\right) + \\dots + \\log \\left( \\frac{S_{1}}{S_0} \\right)\n",
    "\\end{align*}\n",
    "\n",
    "Since each of these is a normal random variable and the sum of normal random variables is a normal random variable, then $\\log \\left( \\frac{S_t}{S_0} \\right)$ is also a normal random variable! It has a mean parameter of $t \\mu$ and a standard deviation parameter of $\\sigma t$."
   ]
  },
  {
   "cell_type": "code",
   "execution_count": null,
   "metadata": {
    "slideshow": {
     "slide_type": "subslide"
    }
   },
   "outputs": [],
   "source": [
    "nT = 20\n",
    "nS = 5_000\n",
    "samples = np.zeros((nS, nT))\n",
    "means = np.zeros(nT)\n",
    "stds = np.zeros(nT)\n",
    "\n",
    "for t in range(1, nT+1):\n",
    "    _lrv = st.lognorm(scale=np.exp(mu*t), s=sigma*t)\n",
    "    samples[:, t-1] = _lrv.rvs(nS)\n",
    "    means[t-1] = _lrv.mean()\n",
    "    stds[t-1] = _lrv.std()"
   ]
  },
  {
   "cell_type": "code",
   "execution_count": null,
   "metadata": {
    "slideshow": {
     "slide_type": "-"
    }
   },
   "outputs": [],
   "source": [
    "fig, ax = plt.subplots(2, 1, figsize=(9, 12))\n",
    "\n",
    "ax[0].boxplot(samples);\n",
    "\n",
    "ax[1].plot(means)\n",
    "ax[1].plot(stds)"
   ]
  }
 ],
 "metadata": {
  "celltoolbar": "Slideshow",
  "kernelspec": {
   "display_name": "Python 3",
   "language": "python",
   "name": "python3"
  },
  "language_info": {
   "codemirror_mode": {
    "name": "ipython",
    "version": 3
   },
   "file_extension": ".py",
   "mimetype": "text/x-python",
   "name": "python",
   "nbconvert_exporter": "python",
   "pygments_lexer": "ipython3",
   "version": "3.8.8"
  }
 },
 "nbformat": 4,
 "nbformat_minor": 2
}
