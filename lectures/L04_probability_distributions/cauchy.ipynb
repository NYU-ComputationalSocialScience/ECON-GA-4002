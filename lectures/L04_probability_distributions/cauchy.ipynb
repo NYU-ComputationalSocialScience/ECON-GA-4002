{
 "cells": [
  {
   "cell_type": "markdown",
   "metadata": {
    "slideshow": {
     "slide_type": "slide"
    }
   },
   "source": [
    "# Cauchy Distribution"
   ]
  },
  {
   "cell_type": "code",
   "execution_count": null,
   "metadata": {
    "slideshow": {
     "slide_type": "-"
    }
   },
   "outputs": [],
   "source": [
    "import matplotlib.pyplot as plt\n",
    "import numpy as np\n",
    "import scipy.stats as st\n",
    "\n",
    "\n",
    "from ipywidgets import interact, IntSlider, FloatSlider\n",
    "\n",
    "%matplotlib inline"
   ]
  },
  {
   "cell_type": "markdown",
   "metadata": {
    "slideshow": {
     "slide_type": "slide"
    }
   },
   "source": [
    "### Introduction\n",
    "\n",
    "The Cauchy distribution is a single-peaked distribution with fat tails. The distribution is often used as an example of a \"pathological\" distribution because both its expected value and its variance are undefined (so are all other higher moments!).\n",
    "\n",
    "The Cauchy distribution can be used to model processes with a single peak but fat tails. These fat tails are the biggest difference between the Cauchy and the Normal distribution.\n"
   ]
  },
  {
   "cell_type": "markdown",
   "metadata": {
    "slideshow": {
     "slide_type": "slide"
    }
   },
   "source": [
    "### Details\n",
    "\n",
    "The Cauchy distribution is characterized by two parameters, $x_0$ and $\\gamma$. The $x_0$ parameter governs where the peak of the distribution is located while $\\gamma$ governs the spread of the distribution.\n",
    "\n",
    "The Cauchy distribution can take any value along the real line and the probability density function is given by:\n",
    "\n",
    "\\begin{align*}\n",
    "  f(x; x_0, \\gamma) \\equiv  \\frac{1}{\\pi \\gamma \\left[1 + \\left( \\frac{x - x_0}{\\gamma} \\right)^2 \\right]}\n",
    "\\end{align*}\n",
    "\n",
    "The cumulative density function is given by\n",
    "\n",
    "\\begin{align*}\n",
    "  \\Phi(x; x_0, \\gamma) \\equiv \\frac{1}{\\pi} \\arctan \\left(\\frac{x - x_0}{\\gamma} \\right) + \\frac{1}{2}\n",
    "\\end{align*}\n",
    "\n",
    "The mean and variance are undefined, but the median is $x_0$"
   ]
  },
  {
   "cell_type": "code",
   "execution_count": null,
   "metadata": {
    "slideshow": {
     "slide_type": "-"
    }
   },
   "outputs": [],
   "source": [
    "def cauchy_plot_pdf_cdf(x0, gamma):\n",
    "    crv = st.cauchy(x0, gamma)\n",
    "    nrv = st.norm(x0, gamma / 0.667)\n",
    "    fig, ax = plt.subplots(1, 2, figsize=(14, 10))\n",
    "    \n",
    "    xvals = np.linspace(x0-7.5*gamma, x0+7.5*gamma, 10000)\n",
    "    ax[0].plot(xvals, crv.pdf(xvals))\n",
    "    ax[0].plot(xvals, nrv.pdf(xvals))\n",
    "    ax[0].set_title(\"Probability Density Function\")\n",
    "    \n",
    "    ax[1].plot(xvals, crv.cdf(xvals))\n",
    "    ax[1].set_title(\"Cumulative Distribution Function\")\n",
    "    \n",
    "    return None"
   ]
  },
  {
   "cell_type": "code",
   "execution_count": null,
   "metadata": {
    "slideshow": {
     "slide_type": "-"
    }
   },
   "outputs": [],
   "source": [
    "fs1 = FloatSlider(\n",
    "    value=0, min=-10, max=10,\n",
    "    step=1, description=\"location\",\n",
    "    style={\"description_width\": \"50%\"},\n",
    "    layout={\"width\": \"40%\"}\n",
    ")"
   ]
  },
  {
   "cell_type": "code",
   "execution_count": null,
   "metadata": {
    "slideshow": {
     "slide_type": "-"
    }
   },
   "outputs": [],
   "source": [
    "fs2 = FloatSlider(\n",
    "    value=1, min=1, max=100,\n",
    "    step=1, description=\"scale\",\n",
    "    style={\"description_width\": \"50%\"},\n",
    "    layout={\"width\": \"40%\"}\n",
    ")"
   ]
  },
  {
   "cell_type": "code",
   "execution_count": null,
   "metadata": {
    "slideshow": {
     "slide_type": "-"
    }
   },
   "outputs": [],
   "source": [
    "output = interact(cauchy_plot_pdf_cdf, x0=fs1, gamma=fs2)"
   ]
  },
  {
   "cell_type": "markdown",
   "metadata": {
    "slideshow": {
     "slide_type": "slide"
    }
   },
   "source": [
    "### Example: Value-at-risk\n",
    "\n",
    "Consider two distributions for monthly profits of a given portfolio:\n",
    "\n",
    "1. A normal distribution with mean 0.75 (millions of USD) and variance 0.30\n",
    "2. A cauchy distribution with $x_0$ given by 0.75 (millions of USD) and $\\gamma$ chosen such that we have the same interquartile range as the normal distribution above."
   ]
  },
  {
   "cell_type": "code",
   "execution_count": null,
   "metadata": {
    "slideshow": {
     "slide_type": "-"
    }
   },
   "outputs": [],
   "source": [
    "mean = 0.75\n",
    "std = np.sqrt(0.30)\n",
    "\n",
    "crv = st.cauchy(mean, 0.667*std)\n",
    "nrv = st.norm(mean, std)"
   ]
  },
  {
   "cell_type": "code",
   "execution_count": null,
   "metadata": {
    "slideshow": {
     "slide_type": "-"
    }
   },
   "outputs": [],
   "source": [
    "# Check the interquartile ranges\n",
    "print(crv.ppf(np.array([0.25, 0.75])))\n",
    "print(nrv.ppf(np.array([0.25, 0.75])))"
   ]
  },
  {
   "cell_type": "markdown",
   "metadata": {
    "slideshow": {
     "slide_type": "subslide"
    }
   },
   "source": [
    "Value at risk (VaR) for a given portfolio, time-horizon, and probability $p$ is a measure of the \"maximum possible loss\" after we exclude all of the worst outcomes with a combined probability of at most $p$."
   ]
  },
  {
   "cell_type": "code",
   "execution_count": null,
   "metadata": {},
   "outputs": [],
   "source": [
    "fig, ax = plt.subplots(figsize=(9, 6))\n",
    "\n",
    "x_VaR = nrv.ppf(0.05)\n",
    "xvals_left = np.linspace(-5*std, x_VaR, 10_000)\n",
    "xvals_right = np.linspace(x_VaR, 5*std, 10_000)\n",
    "\n",
    "ax.fill_between(xvals_left, nrv.pdf(xvals_left), color=\"r\")\n",
    "ax.fill_between(xvals_right, nrv.pdf(xvals_right), color=\"b\")"
   ]
  },
  {
   "cell_type": "markdown",
   "metadata": {
    "slideshow": {
     "slide_type": "subslide"
    }
   },
   "source": [
    "One of the big issues with the financial system prior to 2008 (and earlier) was that many VaR models assumed that returns were normal when in reality they had much fatter tails. Let's investigate why this would matter:"
   ]
  },
  {
   "cell_type": "code",
   "execution_count": null,
   "metadata": {
    "slideshow": {
     "slide_type": "-"
    }
   },
   "outputs": [],
   "source": [
    "VaR_cauchy = crv.ppf(0.05)\n",
    "VaR_normal = nrv.ppf(0.05)"
   ]
  },
  {
   "cell_type": "markdown",
   "metadata": {
    "slideshow": {
     "slide_type": "subslide"
    }
   },
   "source": [
    "A normal distribution would predict that our VaR was 150,000, but, if the returns actually followed the Cauchy distribution, then our VaR would be 1.5 million!\n",
    "\n",
    "This is an order of magnitude difference! Of course, with the Cauchy model, there is significantly more upside as well, but many financial firms agree contractually to certain amounts of risk using VaR as a measure."
   ]
  },
  {
   "cell_type": "code",
   "execution_count": null,
   "metadata": {
    "slideshow": {
     "slide_type": "-"
    }
   },
   "outputs": [],
   "source": [
    "VaR_cauchy"
   ]
  },
  {
   "cell_type": "code",
   "execution_count": null,
   "metadata": {
    "slideshow": {
     "slide_type": "-"
    }
   },
   "outputs": [],
   "source": [
    "VaR_normal"
   ]
  }
 ],
 "metadata": {
  "celltoolbar": "Slideshow",
  "kernelspec": {
   "display_name": "Python 3",
   "language": "python",
   "name": "python3"
  },
  "language_info": {
   "codemirror_mode": {
    "name": "ipython",
    "version": 3
   },
   "file_extension": ".py",
   "mimetype": "text/x-python",
   "name": "python",
   "nbconvert_exporter": "python",
   "pygments_lexer": "ipython3",
   "version": "3.7.4"
  }
 },
 "nbformat": 4,
 "nbformat_minor": 2
}
