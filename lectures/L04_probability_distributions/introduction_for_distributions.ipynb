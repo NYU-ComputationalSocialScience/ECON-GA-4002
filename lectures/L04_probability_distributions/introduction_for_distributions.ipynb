{
 "cells": [
  {
   "cell_type": "markdown",
   "metadata": {
    "slideshow": {
     "slide_type": "slide"
    }
   },
   "source": [
    "# Introduction\n",
    "\n",
    "Today's class will be all about gaining a better understanding of certain probability distributions."
   ]
  },
  {
   "cell_type": "markdown",
   "metadata": {
    "slideshow": {
     "slide_type": "slide"
    }
   },
   "source": [
    "## What's a model\n",
    "\n",
    "A model is a probability distribution over outcomes"
   ]
  },
  {
   "cell_type": "markdown",
   "metadata": {},
   "source": [
    "## Why do we build models?\n",
    "\n",
    "We often would like to create mathematical models that replicate certain features of the world around us so that we can make better decisions.\n",
    "\n",
    "* A model of individual consumption and savings behavior allows us to consider how a government could stimulate the economy after experiencing an uptick in unemployment (sound familiar?...)\n",
    "* Models of financial risk help investment teams manage the risk of their portfolios\n",
    "* Models of a car crash can help improve overall safety features\n",
    "* Search and Rescue Optimal Planning System (SAROPS): A probabilistic model used to identify where a boat might be after running into trouble at sea\n"
   ]
  },
  {
   "cell_type": "markdown",
   "metadata": {
    "slideshow": {
     "slide_type": "slide"
    }
   },
   "source": [
    "## Today is the first piece of our \"model building\" lectures\n",
    "\n",
    "* \"Pre-canned\" recipes are never as good as a deep understanding\n",
    "* Familiarity with many probability distributions will allow you to recognize and apply them in productive ways\n",
    "* You are learning to become (thoughtful!) modelers and statisticians\n"
   ]
  },
  {
   "cell_type": "markdown",
   "metadata": {
    "slideshow": {
     "slide_type": "subslide"
    }
   },
   "source": [
    "### Pre-canned recipes\n",
    "\n",
    "Some (but not all!) statistics courses focus on a set of pre-specified steps, i.e.,\n",
    "\n",
    "* Run a linear regression $y = X \\beta + \\varepsilon$\n",
    "* Check your \"standard tests\" on the data\n",
    "* Check the p-value\n",
    "* Report results\n",
    "\n",
    "While we are supportive of linear models (and a linear model is often our first attempt at understanding the real world processes), we think carefully about the problem at hand before choosing a model."
   ]
  },
  {
   "cell_type": "markdown",
   "metadata": {
    "slideshow": {
     "slide_type": "subslide"
    }
   },
   "source": [
    "### Familiarity\n",
    "\n",
    "Developing a deep understanding of the probability distributions that you have at your disposal will help you build a meaningful model"
   ]
  },
  {
   "cell_type": "markdown",
   "metadata": {
    "slideshow": {
     "slide_type": "subslide"
    }
   },
   "source": [
    "### Thoughtful Modeling\n",
    "\n",
    "Domain expertise is one of the most important aspects of modeling. Don't work on a problem until you, or someone on your team, has worked to understand the challenges that you face."
   ]
  }
 ],
 "metadata": {
  "celltoolbar": "Slideshow",
  "kernelspec": {
   "display_name": "Python 3",
   "language": "python",
   "name": "python3"
  },
  "language_info": {
   "codemirror_mode": {
    "name": "ipython",
    "version": 3
   },
   "file_extension": ".py",
   "mimetype": "text/x-python",
   "name": "python",
   "nbconvert_exporter": "python",
   "pygments_lexer": "ipython3",
   "version": "3.7.4"
  }
 },
 "nbformat": 4,
 "nbformat_minor": 2
}
