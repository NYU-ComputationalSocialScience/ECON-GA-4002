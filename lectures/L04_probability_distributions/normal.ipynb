{
 "cells": [
  {
   "cell_type": "markdown",
   "metadata": {
    "slideshow": {
     "slide_type": "slide"
    }
   },
   "source": [
    "# Normal Distribution"
   ]
  },
  {
   "cell_type": "code",
   "execution_count": null,
   "metadata": {
    "slideshow": {
     "slide_type": "-"
    }
   },
   "outputs": [],
   "source": [
    "import matplotlib.pyplot as plt\n",
    "import numpy as np\n",
    "import scipy.stats as st\n",
    "\n",
    "\n",
    "from ipywidgets import interact, IntSlider, FloatSlider\n",
    "\n",
    "%matplotlib inline"
   ]
  },
  {
   "cell_type": "markdown",
   "metadata": {
    "slideshow": {
     "slide_type": "slide"
    }
   },
   "source": [
    "### Introduction\n",
    "\n",
    "In probability theory, a Normal distribution is a type of continuous probability distribution for a real-valued random variable.  In real life there're many events following normal distribution.\n",
    "\n",
    "Below we give a few examples of Normal distribution random variables:\n",
    "\n",
    "* The grades of a course\n",
    "* The height of the population\n",
    "* The quality of the products"
   ]
  },
  {
   "cell_type": "markdown",
   "metadata": {
    "slideshow": {
     "slide_type": "slide"
    }
   },
   "source": [
    "### Details\n",
    "\n",
    "The Normal distribution is characterized by two parameters, $\\mu$ and $\\sigma$. This parameter should be interpreted as the \"mean and standard deviation\"of the population. \n",
    "\n",
    "The values associated a Normal random variable can be $(-\\infty,+\\infty)$. \n",
    "\n",
    "The probability density function is given by\n",
    "\n",
    "\\begin{align*}\n",
    "  f(x; \\mu,\\sigma) \\equiv  \\frac{1 }{\\sigma\\sqrt[]{2\\pi } }e^{\\frac{(x-\\mu)^2 }{-2\\sigma^2}}\n",
    "\\end{align*}\n",
    "\n",
    "The cumulative density function is usually given by standard form ($\\mu=0, \\sigma=1$)\n",
    "\n",
    "\\begin{align*}\n",
    "  \\Phi(x; \\mu,\\sigma) \\equiv  \\frac{1}{\\sqrt[]{2\\pi}}{\\int_{-\\infty}^x}e^{-t^2/2}dt\n",
    "\\end{align*}\n",
    "\n",
    "* **Mean**: $\\mu$\n",
    "* **Variance**: $\\sigma^2$"
   ]
  },
  {
   "cell_type": "code",
   "execution_count": null,
   "metadata": {
    "slideshow": {
     "slide_type": "-"
    }
   },
   "outputs": [],
   "source": [
    "def norm_plot_pdf_cdf(mean, std):\n",
    "    nrv = st.norm(mean,std)\n",
    "    fig, ax = plt.subplots(1, 2, figsize=(14, 10))\n",
    "    \n",
    "    xvals = np.linspace(mean-3*std, mean+3*std, 10000)\n",
    "    ax[0].plot(xvals, nrv.pdf(xvals))\n",
    "    ax[0].set_title(\"Probability Density Function\")\n",
    "    \n",
    "    ax[1].plot(xvals, nrv.cdf(xvals))\n",
    "    ax[1].set_title(\"Cumulative Distribution Function\")\n",
    "    \n",
    "    return None"
   ]
  },
  {
   "cell_type": "code",
   "execution_count": null,
   "metadata": {
    "slideshow": {
     "slide_type": "-"
    }
   },
   "outputs": [],
   "source": [
    "fs1 = FloatSlider(\n",
    "    value=0, min=-10, max=10,\n",
    "    step=1, description=\"Mean\",\n",
    "    style={\"description_width\": \"50%\"},\n",
    "    layout={\"width\": \"40%\"}\n",
    ")"
   ]
  },
  {
   "cell_type": "code",
   "execution_count": null,
   "metadata": {
    "slideshow": {
     "slide_type": "-"
    }
   },
   "outputs": [],
   "source": [
    "fs2 = FloatSlider(\n",
    "    value=1, min=1, max=100,\n",
    "    step=1, description=\"Standar Deviation\",\n",
    "    style={\"description_width\": \"50%\"},\n",
    "    layout={\"width\": \"40%\"}\n",
    ")"
   ]
  },
  {
   "cell_type": "code",
   "execution_count": null,
   "metadata": {
    "slideshow": {
     "slide_type": "-"
    }
   },
   "outputs": [],
   "source": [
    "output = interact(norm_plot_pdf_cdf, mean=fs1, std=fs2)"
   ]
  },
  {
   "cell_type": "markdown",
   "metadata": {},
   "source": [
    "### Example\n",
    "\n",
    "Suppose returns in a financial market for a given month have an average of 0.75% and a variance of 0.05%"
   ]
  },
  {
   "cell_type": "code",
   "execution_count": null,
   "metadata": {},
   "outputs": [],
   "source": [
    "mean = 0.0075\n",
    "std = np.sqrt(0.0005)\n",
    "nrv = st.norm(mean, std)"
   ]
  },
  {
   "cell_type": "markdown",
   "metadata": {},
   "source": [
    "We can take a single draw to get the return for a particular month"
   ]
  },
  {
   "cell_type": "code",
   "execution_count": null,
   "metadata": {},
   "outputs": [],
   "source": [
    "nrv.rvs()"
   ]
  },
  {
   "cell_type": "markdown",
   "metadata": {},
   "source": [
    "If we wanted to get the yearly returns, we could draw 12 samples at once"
   ]
  },
  {
   "cell_type": "code",
   "execution_count": null,
   "metadata": {},
   "outputs": [],
   "source": [
    "samples = nrv.rvs(12)\n",
    "samples"
   ]
  },
  {
   "cell_type": "markdown",
   "metadata": {},
   "source": [
    "And then add one and take their product"
   ]
  },
  {
   "cell_type": "code",
   "execution_count": null,
   "metadata": {},
   "outputs": [],
   "source": [
    "100 * (np.product(1 + samples) - 1.0)"
   ]
  },
  {
   "cell_type": "code",
   "execution_count": null,
   "metadata": {},
   "outputs": [],
   "source": [
    "plt.hist(nrv.rvs(10_000), bins=25)"
   ]
  }
 ],
 "metadata": {
  "celltoolbar": "Slideshow",
  "kernelspec": {
   "display_name": "Python 3",
   "language": "python",
   "name": "python3"
  },
  "language_info": {
   "codemirror_mode": {
    "name": "ipython",
    "version": 3
   },
   "file_extension": ".py",
   "mimetype": "text/x-python",
   "name": "python",
   "nbconvert_exporter": "python",
   "pygments_lexer": "ipython3",
   "version": "3.7.4"
  }
 },
 "nbformat": 4,
 "nbformat_minor": 2
}
