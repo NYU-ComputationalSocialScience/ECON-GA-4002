{
 "cells": [
  {
   "cell_type": "markdown",
   "metadata": {
    "slideshow": {
     "slide_type": "slide"
    }
   },
   "source": [
    "# Poisson Distribution"
   ]
  },
  {
   "cell_type": "code",
   "execution_count": null,
   "metadata": {
    "slideshow": {
     "slide_type": "-"
    }
   },
   "outputs": [],
   "source": [
    "import matplotlib.pyplot as plt\n",
    "import numpy as np\n",
    "import scipy.stats as st\n",
    "\n",
    "from ipywidgets import interact, IntSlider, FloatSlider\n",
    "\n",
    "%matplotlib inline"
   ]
  },
  {
   "cell_type": "markdown",
   "metadata": {
    "slideshow": {
     "slide_type": "slide"
    }
   },
   "source": [
    "### Introduction\n",
    "\n",
    "The **Poisson distribution** is a discrete probability distribution that expresses the probability of a given number of events occurring in a fixed interval of time or space if these events **occur with a known constant mean rate** and **independently of the time** since the last event. The Poisson distribution can also be used for the number of events in other specified intervals such as distance, area or volume:\n",
    "\n",
    "* The number of phone calls in a certain period\n",
    "* The number of meteorites greater than 1 meter diameter that strike Earth in a year\n",
    "* The number of technological innovations made in a year\n",
    "* The number of defective computer chips produced at a plant"
   ]
  },
  {
   "cell_type": "markdown",
   "metadata": {
    "slideshow": {
     "slide_type": "slide"
    }
   },
   "source": [
    "### Details\n",
    "\n",
    "A Poisson distribution depends on the rate parameter $\\lambda$, which describe the ‘average number of occurrance’ of certain event. Because the average number of occurrences cannot be negative or 0, the rate parameter $\\lambda$ can only be a positive real number. Random variable that follows a Poisson distribution can only take nonnegative integer, as the time of occurrence can only take value 0,1,2,…  \n",
    "\n",
    "Formally, A discrete random variable $X$ is said to have a Poisson distribution with parameter $\\lambda > 0$, if, for $k = 0, 1, 2, ...$, the probability mass function (PMF) of $X$ is given by:\n",
    "\n",
    "**PMF:**\n",
    "\n",
    "$$f(k; \\lambda) = Prob \\{ X = k\\} = \\frac {\\lambda^k e^{-\\lambda}}{k!} $$\n"
   ]
  },
  {
   "cell_type": "code",
   "execution_count": null,
   "metadata": {
    "slideshow": {
     "slide_type": "-"
    }
   },
   "outputs": [],
   "source": [
    "def Poisson_plot_pmf_cmf(mu):\n",
    "    prv = st.poisson(mu)\n",
    "    fig, ax = plt.subplots(1, 2, figsize=(9, 6))\n",
    "    \n",
    "    xvals = np.arange(21)\n",
    "    ax[0].bar(xvals, prv.pmf(xvals), width=0.5)\n",
    "    ax[0].set_title(\"Probability Mass Function\")\n",
    "    \n",
    "    xvals = np.arange(21)\n",
    "    ax[1].plot(xvals, prv.cdf(xvals))\n",
    "    ax[1].set_title(\"Cumulative Distribution Function\")\n",
    "    \n",
    "    return None"
   ]
  },
  {
   "cell_type": "code",
   "execution_count": null,
   "metadata": {
    "slideshow": {
     "slide_type": "-"
    }
   },
   "outputs": [],
   "source": [
    "fs_lambda = FloatSlider(\n",
    "    value=5, min=0.1, max=15,\n",
    "    step=0.1, description=\"Rate $\\lambda$\",\n",
    "    style={\"description_width\": \"10%\"},\n",
    "    layout={\"width\": \"80%\"}\n",
    ")\n",
    "\n",
    "output = interact(Poisson_plot_pmf_cmf, mu=fs_lambda)"
   ]
  },
  {
   "cell_type": "markdown",
   "metadata": {
    "slideshow": {
     "slide_type": "subslide"
    }
   },
   "source": [
    "### Mean and Variance\n",
    "**Mean**\n",
    "$$\n",
    "\\mu = EX  = k \\ Prob \\{ X = k \\} = \\sum_{k=0}^{\\infty} \\frac{\\lambda^{k-1}}{ (k-1)! } e^{-\\lambda} =\\lambda \\sum_{k=0}^{\\infty} \\frac{\\lambda^{k}}{ k! } e^{-\\lambda} = \\lambda\n",
    "$$\n",
    "  \n",
    "**Variance**\n",
    "$$\n",
    "\\sigma^2 = \\lambda\n",
    "$$"
   ]
  },
  {
   "cell_type": "markdown",
   "metadata": {
    "slideshow": {
     "slide_type": "subslide"
    }
   },
   "source": [
    "### Property: Poisson Limit Theorem: \n",
    "\n",
    "The Poisson distribution can be considered as  the continuous time limit of a binomial distribution. This property is formally **Poisson limit theorem:**  \n",
    "  \n",
    "  \n",
    "Consider $n$ times Bernoulli independent repeated trials, and the probability of event $A$ occurring in each trial is $p_n$. If $n p_n \\to \\lambda$ ($\\lambda$ is a constant) when $n \\to \\infty$, then for any $k = 1,2,3...$\n",
    "\n",
    "$$\n",
    "\\lim_{n\\to \\infty}{n \\choose k} (1 - p_n)^{n-k} p_n^k = \\frac {\\lambda^k e^{-\\lambda}}{k!}\n",
    "$$"
   ]
  },
  {
   "cell_type": "markdown",
   "metadata": {
    "slideshow": {
     "slide_type": "slide"
    }
   },
   "source": [
    "### Example:  Phone Calls in a Day\n",
    "\n",
    "Consider phone calls independently occur with a known constant average rate 4 times a day. We can model the number of calls received using a Poisson distribution with a parameter of $\\lambda = 4$."
   ]
  },
  {
   "cell_type": "code",
   "execution_count": null,
   "metadata": {
    "slideshow": {
     "slide_type": "fragment"
    }
   },
   "outputs": [],
   "source": [
    "# define the Poisson distribution and check the mean\n",
    "prv = st.poisson(mu = 4)\n",
    "\n",
    "prv.mean()"
   ]
  },
  {
   "cell_type": "code",
   "execution_count": null,
   "metadata": {
    "slideshow": {
     "slide_type": "fragment"
    }
   },
   "outputs": [],
   "source": [
    "# check the variance\n",
    "prv.var()"
   ]
  },
  {
   "cell_type": "code",
   "execution_count": null,
   "metadata": {
    "slideshow": {
     "slide_type": "fragment"
    }
   },
   "outputs": [],
   "source": [
    "# generate 20 random variable based on the distribution\n",
    "prv.rvs(20)"
   ]
  },
  {
   "cell_type": "markdown",
   "metadata": {
    "slideshow": {
     "slide_type": "subslide"
    }
   },
   "source": [
    "Question: What is the probability of receiving fewer than 6 calls that day?\n",
    "  \n",
    "There are two ways to think of the case:  \n",
    "  \n",
    "**Poisson Distribution**: We can use the Poisson distribution with $\\lambda = 4$ to model the distribution of phone call in one day. Probability of receiving fewer than 6 calls is given below:"
   ]
  },
  {
   "cell_type": "code",
   "execution_count": null,
   "metadata": {
    "slideshow": {
     "slide_type": "-"
    }
   },
   "outputs": [],
   "source": [
    "prv.cdf(6)"
   ]
  },
  {
   "cell_type": "markdown",
   "metadata": {
    "slideshow": {
     "slide_type": "subslide"
    }
   },
   "source": [
    "**Binomial distribution：**\n",
    "\n",
    "**Binomial distribution 1**: Consider the probability of receiving a phone call in each hour is $\\frac{4}{24}$, we can use a Binomial distribution with $24$ trails to model the phone call in one day. Probability of receiving fewer than 6 calls is given below:"
   ]
  },
  {
   "cell_type": "code",
   "execution_count": null,
   "metadata": {
    "slideshow": {
     "slide_type": "fragment"
    }
   },
   "outputs": [],
   "source": [
    "st.binom.cdf(k=6, n=24, p = 4/24)"
   ]
  },
  {
   "cell_type": "markdown",
   "metadata": {
    "slideshow": {
     "slide_type": "fragment"
    }
   },
   "source": [
    "**Binomial distribution 2**: Consider the probability of receiving a phone call in each minute is $\\frac{4}{24 \\times 60}$, we can use a Binomial distribution with $24 \\times 60$ trails to model the phone call in one day. Probability of receiving fewer than 6 calls is given below:"
   ]
  },
  {
   "cell_type": "code",
   "execution_count": null,
   "metadata": {
    "slideshow": {
     "slide_type": "fragment"
    }
   },
   "outputs": [],
   "source": [
    "st.binom.cdf(k=6, n=24*60, p = 4/24/60)"
   ]
  },
  {
   "cell_type": "markdown",
   "metadata": {
    "slideshow": {
     "slide_type": "fragment"
    }
   },
   "source": [
    "**Binomial distribution 3**: Consider the probability of receiving a phone call in each second is $\\frac{4}{24 \\times 60 \\times 60}$, we can use a Binomial distribution with $24 \\times 60 \\times 60$ trails to model the phone call in one day. Probability of receiving fewer than 6 calls is given below:"
   ]
  },
  {
   "cell_type": "code",
   "execution_count": null,
   "metadata": {
    "slideshow": {
     "slide_type": "fragment"
    }
   },
   "outputs": [],
   "source": [
    "st.binom.cdf(k=6, n=24*60*60, p = 4/24/60/60)"
   ]
  },
  {
   "cell_type": "markdown",
   "metadata": {
    "slideshow": {
     "slide_type": "fragment"
    }
   },
   "source": [
    "We can keep on cutting the time interval smaller and smaller. By Poisson limit theorem, we can prove that the sequence of binomial distribution converges to the Poisson distribution. We have just illustrated the example numerically."
   ]
  },
  {
   "cell_type": "markdown",
   "metadata": {
    "slideshow": {
     "slide_type": "-"
    }
   },
   "source": [
    "**Note**: In creating this notebook, I referenced the \"Distribution Explorer\" material found at https://distribution-explorer.github.io/index.html, and also wikipedia https://en.wikipedia.org/wiki/Poisson_distribution . I certainly encourage others to find additional information there."
   ]
  }
 ],
 "metadata": {
  "celltoolbar": "Slideshow",
  "kernelspec": {
   "display_name": "Python 3",
   "language": "python",
   "name": "python3"
  },
  "language_info": {
   "codemirror_mode": {
    "name": "ipython",
    "version": 3
   },
   "file_extension": ".py",
   "mimetype": "text/x-python",
   "name": "python",
   "nbconvert_exporter": "python",
   "pygments_lexer": "ipython3",
   "version": "3.7.4"
  }
 },
 "nbformat": 4,
 "nbformat_minor": 2
}
