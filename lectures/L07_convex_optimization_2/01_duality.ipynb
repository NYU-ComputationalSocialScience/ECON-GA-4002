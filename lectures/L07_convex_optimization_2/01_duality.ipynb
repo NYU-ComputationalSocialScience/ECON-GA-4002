{
 "cells": [
  {
   "cell_type": "markdown",
   "metadata": {
    "slideshow": {
     "slide_type": "slide"
    }
   },
   "source": [
    "# Convex Optimization: Duality\n",
    "\n",
    "**Prerequisites**\n",
    "\n",
    "- Convex Optimization: Linear Programming\n",
    "\n",
    "**Outcomes**\n",
    "\n",
    "- Understand intuitions behind the dual and primal problem\n",
    "- Understand the interpretation of a shadow price\n",
    "- Know the link between slack variables and shadow prices"
   ]
  },
  {
   "cell_type": "code",
   "execution_count": null,
   "metadata": {
    "collapsed": false,
    "jupyter": {
     "outputs_hidden": false
    },
    "tags": []
   },
   "outputs": [],
   "source": [
    "import numpy as np\n",
    "from scipy.optimize import linprog"
   ]
  },
  {
   "cell_type": "markdown",
   "metadata": {
    "slideshow": {
     "slide_type": "slide"
    }
   },
   "source": [
    "## Review product mix\n",
    "\n",
    "Let's consider a simplified product mix problem with just two products and two resources:\n",
    "\n",
    "\\begin{align*}\n",
    "\\max_x \\ & 250 x_1 + 495 x_2 & \\text{(profit)} \\\\\n",
    "\\mbox{subject to } \\ & x_1 \\le 5 & \\text{(production capacity for } x_1  \\text{)} \\\\\n",
    "& x_1 \\le 10 & \\text{(production capacity for } x_2  \\text{)} \\\\\n",
    "& 0.5 x_1 + x_2 \\le 6  & \\text{(resource constraint 1)} \\\\\n",
    "& 0.5 x_1 + 0.4 x_2 \\le 8  & \\text{(resource constraint 2)} \\\\\n",
    "& x \\ge 0 & \\text{(non-negative production)}\\\\\n",
    "\\end{align*}\n"
   ]
  },
  {
   "cell_type": "markdown",
   "metadata": {
    "slideshow": {
     "slide_type": "subslide"
    }
   },
   "source": [
    "We know how to convert this to a linear program in general form:\n",
    "\n",
    "$$\\begin{align*}\n",
    "\\min_x \\ & (-p)^T x \\\\\n",
    "\\mbox{subject to } \\ & \\begin{bmatrix} H \\\\ I \\end{bmatrix}  x \\le \\begin{bmatrix} m \\\\ d \\end{bmatrix} \\\\\n",
    "& x \\ge 0\\\\\n",
    "\\end{align*}$$\n",
    "\n",
    "with $H$, $p$, $d$, $m$ defined as in the code cell below"
   ]
  },
  {
   "cell_type": "code",
   "execution_count": null,
   "metadata": {
    "collapsed": false,
    "jupyter": {
     "outputs_hidden": false
    },
    "tags": []
   },
   "outputs": [],
   "source": [
    "p = np.array([250., 495.])  # price vector\n",
    "d = np.array([5., 10.,])    # production capacity\n",
    "m = np.array([6., 8.])      # resource constraints\n",
    "\n",
    "H = np.array([              # resource usage\n",
    "    [0.5, 1],\n",
    "    [0.5, 0.4]\n",
    "])"
   ]
  },
  {
   "cell_type": "markdown",
   "metadata": {
    "slideshow": {
     "slide_type": "subslide"
    }
   },
   "source": [
    "We can solve with `scipy.optimize.linprog`"
   ]
  },
  {
   "cell_type": "code",
   "execution_count": null,
   "metadata": {
    "collapsed": false,
    "jupyter": {
     "outputs_hidden": false
    },
    "tags": []
   },
   "outputs": [],
   "source": [
    "c = -p\n",
    "b = np.concatenate((m, d))\n",
    "A = np.vstack((H, np.eye(len(p))))\n",
    "\n",
    "sol_x = linprog(c=c, A_ub=A, b_ub=b)\n",
    "sol_x"
   ]
  },
  {
   "cell_type": "markdown",
   "metadata": {
    "slideshow": {
     "slide_type": "subslide"
    }
   },
   "source": [
    "### Thought experiment\n",
    "\n",
    "Suppose we don't know linear programming, but are asked to maximize profits\n",
    "\n",
    "Because we don't know LP, we can't solve for optimal production decisions and profit\n",
    "\n",
    "Also suppose that we have a \"buyer\" who is eager to purchase capacity from us\n",
    "\n",
    "The buyer would be happy to purchase production capacity for goods $x_1$ and $x_2$ and/or the raw materials $m_1$ and $m_2$ themselves"
   ]
  },
  {
   "cell_type": "markdown",
   "metadata": {
    "slideshow": {
     "slide_type": "subslide"
    }
   },
   "source": [
    "To engage with the buyer, we need to settle on a price for each of our 4 resources\n",
    "\n",
    "Call these prices\n",
    "\n",
    "- $y_1$: resource 1\n",
    "- $y_2$: resource 2\n",
    "- $y_3$: production of $x_1$\n",
    "- $y_4$: production of $x_2$\n",
    "\n",
    "\n",
    "A starting point begin negotiating is that $y \\ge 0$"
   ]
  },
  {
   "cell_type": "markdown",
   "metadata": {
    "slideshow": {
     "slide_type": "subslide"
    }
   },
   "source": [
    "We also acknowledge that we have a *technology* whereby we can convert raw materials and production capacity into final goods\n",
    "\n",
    "In order for sale of our resources to entertain us, we must receive at least the price of the goods we could create using our technology\n",
    "\n",
    "This leads to two other constraints:\n",
    "\n",
    "\\begin{align*}\n",
    "0.5 y_1 + 0.5 y_2  + y_3 & \\ge 250 \\quad & \\text{(technology for $x_1$)}\\\\\n",
    "y_1 + 0.4 y_2  + y_4& \\ge 495 \\quad & \\text{(technology for $x_2$)}\n",
    "\\\\\n",
    "\\end{align*}\n",
    "\n",
    "The first inequality states that selling the bundle used to power the technology used to produce one unit of good $x_1$ must provide us with *at least* the value of producing a unit of $x_1$ and selling at our price of 250\n",
    "\n",
    "The second inequality is similar, but for good $x_2$"
   ]
  },
  {
   "cell_type": "markdown",
   "metadata": {
    "slideshow": {
     "slide_type": "subslide"
    }
   },
   "source": [
    "We give our buyer this information, as well as the full capacity we have on hand (the vector $b$)\n",
    "\n",
    "The buyer does know linear programming and decides formulate the following problem in order to determine prices:\n",
    "\n",
    "\\begin{align*}\n",
    "\\min_y \\; & 6 y_1 + 8 y_2 + 5 y_3 + 10 y_4  & \\text{(cost of capacity)} \\\\\n",
    "\\text{s.t. } & y \\ge 0 & \\text{(non-negative prices)}\\\\\n",
    "&0.5 y_1 + 0.5 y_2 + y_3  \\ge 250 \\quad & \\text{(technology for $x_1$)}\\\\\n",
    "&y_1 + 0.4 y_2 + y_4  \\ge 495 \\quad & \\text{(technology for $x_2$)}\n",
    "\\end{align*}"
   ]
  },
  {
   "cell_type": "markdown",
   "metadata": {
    "slideshow": {
     "slide_type": "subslide"
    }
   },
   "source": [
    "The buyer solves this problem with `scipy.optimize.linprog`"
   ]
  },
  {
   "cell_type": "code",
   "execution_count": null,
   "metadata": {
    "collapsed": false,
    "jupyter": {
     "outputs_hidden": false
    },
    "tags": []
   },
   "outputs": [],
   "source": [
    "cy = np.array([6, 8, 5, 10])\n",
    "\n",
    "# negative on A and b to flip the inequality\n",
    "Ay = -np.array([[0.5, 0.5, 1, 0], [1, 0.4, 0, 1]])\n",
    "by = -np.array([250, 495])\n",
    "\n",
    "sol_y = linprog(cy, Ay, by)\n",
    "sol_y"
   ]
  },
  {
   "cell_type": "markdown",
   "metadata": {
    "slideshow": {
     "slide_type": "subslide"
    }
   },
   "source": [
    "Let's view both the buyer's solution, and our solution"
   ]
  },
  {
   "cell_type": "code",
   "execution_count": null,
   "metadata": {
    "collapsed": false,
    "jupyter": {
     "outputs_hidden": false
    },
    "tags": []
   },
   "outputs": [],
   "source": [
    "sol_y"
   ]
  },
  {
   "cell_type": "code",
   "execution_count": null,
   "metadata": {
    "collapsed": false,
    "jupyter": {
     "outputs_hidden": false
    },
    "tags": []
   },
   "outputs": [],
   "source": [
    "sol_x"
   ]
  },
  {
   "cell_type": "markdown",
   "metadata": {},
   "source": [
    "Notice that the cost to the buyer (`sol_y.fun`) is equal to the profit we get from running our factory (`-sol_x.fun`)!\n",
    "\n",
    "This is *not* coincidence\n",
    "\n",
    "Notice the relationship between the optimal prices (`sol_y.x`) and the slack values fromthe original problem (`sol_x.slack`):\n",
    "\n",
    "- Whenever `sol_x.slack[i] == 0`, `sol_y.x[i] > 0`\n",
    "- Also, when `sol_x.slack[i] > 0`, `sol_y.x[i] == 0`\n",
    "\n",
    "This is also not coincidence... here's why"
   ]
  },
  {
   "cell_type": "markdown",
   "metadata": {
    "slideshow": {
     "slide_type": "subslide"
    }
   },
   "source": [
    "When slack variable `i` equals zero means that the constraint was *binding*, or that `(A @ x)[i] == b[i]`\n",
    "\n",
    "We would like to be able have the constraint loosened, meaning an increase in `b[i]`\n",
    "\n",
    "There is a price at which we break even for paying to loosening this constraint\n",
    "\n",
    "This price is exactly `sol_y.x[i]`"
   ]
  },
  {
   "cell_type": "markdown",
   "metadata": {
    "slideshow": {
     "slide_type": "subslide"
    }
   },
   "source": [
    "On the other hand, for slack variable `j`, where `sol_x.slack[j] > = 0` the constraint is called *slack*\n",
    "\n",
    "We would not be willing to pay anything in order to increase `b[j]`\n",
    "\n",
    "For this reason `sol_y.x[j] == 0`"
   ]
  },
  {
   "cell_type": "markdown",
   "metadata": {
    "slideshow": {
     "slide_type": "subslide"
    }
   },
   "source": [
    "The variables $y$ are known as *shadow prices*\n",
    "\n",
    "A shadow price captures the *value* of loosening a constraint"
   ]
  },
  {
   "cell_type": "markdown",
   "metadata": {
    "slideshow": {
     "slide_type": "slide"
    }
   },
   "source": [
    "## The Dual\n",
    "\n",
    "We originally solved a profit maximization profit for the factory operator\n",
    "\n",
    "We then worked through what a potential buyer would offer us to buy out our production capacity\n",
    "\n",
    "These two problems are intrinsically linked.."
   ]
  },
  {
   "cell_type": "markdown",
   "metadata": {
    "slideshow": {
     "slide_type": "subslide"
    }
   },
   "source": [
    "For any linear program (like the profit maximization one we started with) there is always a secondary linear program that solves for the shadow prices\n",
    "\n",
    "The original linear program is called the *primal problem*, while the problem that finds shadow prices is called the *dual problem*"
   ]
  },
  {
   "cell_type": "markdown",
   "metadata": {
    "slideshow": {
     "slide_type": "subslide"
    }
   },
   "source": [
    "### General Dual\n",
    "\n",
    "There is a formula we can follow to convert a the primal form of a general linear program into its dual\n",
    "\n",
    "Suppose we start with\n",
    "\n",
    "\\begin{align*}\n",
    "\\min_x \\quad & c^Tx \\\\\n",
    "\\text{s.t.}\\quad & Ax \\le b \\\\\n",
    "& x \\ge 0\n",
    "\\end{align*}\n",
    "\n",
    "The dual is then\n",
    "\n",
    "\\begin{align*}\n",
    "\\min_y \\quad & b^T y \\\\\n",
    "\\text{s.t.} \\quad & (-A^T)y \\le c \\\\\n",
    "& y \\ge 0\n",
    "\\end{align*}"
   ]
  },
  {
   "cell_type": "markdown",
   "metadata": {
    "slideshow": {
     "slide_type": "subslide"
    }
   },
   "source": [
    "We can verify this transformation for our example problem:"
   ]
  },
  {
   "cell_type": "code",
   "execution_count": null,
   "metadata": {
    "collapsed": false,
    "jupyter": {
     "outputs_hidden": false
    },
    "tags": []
   },
   "outputs": [],
   "source": [
    "cy - b"
   ]
  },
  {
   "cell_type": "code",
   "execution_count": null,
   "metadata": {
    "collapsed": false,
    "jupyter": {
     "outputs_hidden": false
    },
    "tags": []
   },
   "outputs": [],
   "source": [
    "by - c"
   ]
  },
  {
   "cell_type": "code",
   "execution_count": null,
   "metadata": {
    "collapsed": false,
    "jupyter": {
     "outputs_hidden": false
    },
    "tags": []
   },
   "outputs": [],
   "source": [
    "Ay - (-A.T)"
   ]
  },
  {
   "cell_type": "markdown",
   "metadata": {
    "slideshow": {
     "slide_type": "subslide"
    }
   },
   "source": [
    "**Exercise**\n",
    "\n",
    "> Note: This is a modified version of an exercise from chapter 15 of \"Labs for Foundations of Applied Mathematics Volume 2\" by Jeffrey Humpherys And Tyler J. Jarvis released under the [Creative Commons Attribution 3.0 United States license](http://creativecommons.org/licenses/by/3.0/us/). The original source for the lab materials can be found at [https://github.com/Foundations-of-Applied-Mathematics/Labs](https://github.com/Foundations-of-Applied-Mathematics/Labs)\n",
    "\n",
    "The DataFrame `foods` below has nutritional and price information for 18 foods commonly consumed by university students"
   ]
  },
  {
   "cell_type": "code",
   "execution_count": null,
   "metadata": {
    "collapsed": false,
    "jupyter": {
     "outputs_hidden": false
    },
    "tags": []
   },
   "outputs": [],
   "source": [
    "import pandas as pd\n",
    "foods = pd.read_csv(\"foods.csv\")\n",
    "foods"
   ]
  },
  {
   "cell_type": "markdown",
   "metadata": {
    "slideshow": {
     "slide_type": "subslide"
    }
   },
   "source": [
    "**Part 1**\n",
    "Your task is to formulate and solve linear program to solve for the cheapest possible diet, subject to some nutritional guidelines.\n",
    "\n",
    "Each day you must consume\n",
    "\n",
    "- No more than 2000 calories\n",
    "- No more than 65 grams of fat\n",
    "- No more than 50 grams of sugar\n",
    "- At least 1000 milligrams of calcium\n",
    "- At least 25 grams of fiber\n",
    "- At least 46 grams of protein\n",
    "\n",
    "*Hint 1*: use the `.to_numpy` method on a DataFrame or series to get the corresponding numpy array\n",
    "\n",
    "*Hint 2*: the units for the nutrient columns of `foods` are consistent with what appears in the list above -- there is no need to change units"
   ]
  },
  {
   "cell_type": "code",
   "execution_count": null,
   "metadata": {
    "collapsed": false,
    "jupyter": {
     "outputs_hidden": false
    },
    "slideshow": {
     "slide_type": "subslide"
    },
    "tags": []
   },
   "outputs": [],
   "source": [
    "def formulate_diet_primal(foods):\n",
    "    \"\"\"\n",
    "    Given a DataFrame foods with the format from above,\n",
    "    Construct `c`, `A` and `b` that can be passed to \n",
    "    `scipy.optimize.linprog` to solve the diet-budget problem\n",
    "    described above\n",
    "    \n",
    "    Make sure to return them in the order c, A, b in order\n",
    "    to pass tests below\n",
    "    \n",
    "    Also, please ensure that the rows of A and b are consistent\n",
    "    with the order of the list above (calories, fat, sugar, calcium\n",
    "    fiber, protein)\n",
    "    \"\"\"\n",
    "    # construct c, A, and b\n",
    "    # return them!\n",
    "    pass"
   ]
  },
  {
   "cell_type": "markdown",
   "metadata": {},
   "source": [
    "**Part 2**\n",
    "\n",
    "Which constraints are binding?\n",
    "\n",
    "How do you know?"
   ]
  },
  {
   "cell_type": "markdown",
   "metadata": {
    "slideshow": {
     "slide_type": "subslide"
    }
   },
   "source": [
    "Your answer here"
   ]
  },
  {
   "cell_type": "markdown",
   "metadata": {
    "slideshow": {
     "slide_type": "subslide"
    }
   },
   "source": [
    "**Part 3**\n",
    "\n",
    "Formulate and solve the dual problem\n",
    "\n",
    "How much would it cost to loosen the binding constraints?\n",
    "\n",
    "*Bonus*: In what units would these costs need to be paid? Why?"
   ]
  },
  {
   "cell_type": "code",
   "execution_count": null,
   "metadata": {
    "collapsed": false,
    "jupyter": {
     "outputs_hidden": false
    },
    "slideshow": {
     "slide_type": "subslide"
    },
    "tags": []
   },
   "outputs": [],
   "source": [
    "def formulate_diet_dual(foods):\n",
    "    \"\"\"\n",
    "    Given a DataFrame `foods` with the format from above,\n",
    "    construct the c, A, and b arrays needed to solve the \n",
    "    dual problem associated with the budget-minimization\n",
    "    primal from before.    \n",
    "    \"\"\"\n",
    "    # your code here\n",
    "    pass"
   ]
  },
  {
   "cell_type": "markdown",
   "metadata": {
    "slideshow": {
     "slide_type": "slide"
    }
   },
   "source": [
    "## Note\n",
    "\n",
    "There is quite a bit of math going on behind the scenes\n",
    "\n",
    "We opted for a \"intuition motivated\" explanation of how the primal and dual relate to one another, as well as the interpretation of the shadow prices and slack variables\n",
    "\n",
    "For a more complete theoretical treatment of these concepts we refer you to the following resources:\n",
    "\n",
    "- https://web.stanford.edu/~ashishg/msande111/notes/chapter4.pdf\n",
    "- http://web.mit.edu/15.053/www/AMP-Chapter-04.pdf\n",
    "- Chapter 5 of the Boyd textbook"
   ]
  },
  {
   "cell_type": "markdown",
   "metadata": {
    "slideshow": {
     "slide_type": "subslide"
    }
   },
   "source": [
    "During your studies, you will learn more about the following:\n",
    "\n",
    "- Weak and strong duality theories\n",
    "- Separating hyperplane theorem\n",
    "- Farkas' Lemma\n",
    "- Complementary slackness conditions\n",
    "- The Karush Kuhn Tucker (KKT) conditions\n",
    "\n",
    "We may return to some of the ideas in later lectures\n",
    "\n",
    "If we do, we will cover necessary pre-requisites at that time"
   ]
  }
 ],
 "metadata": {
  "celltoolbar": "Slideshow",
  "kernelspec": {
   "display_name": "css",
   "language": "python",
   "name": "css"
  },
  "language_info": {
   "codemirror_mode": {
    "name": "ipython",
    "version": 3
   },
   "file_extension": ".py",
   "mimetype": "text/x-python",
   "name": "python",
   "nbconvert_exporter": "python",
   "pygments_lexer": "ipython3",
   "version": "3.9.2"
  }
 },
 "nbformat": 4,
 "nbformat_minor": 4
}
