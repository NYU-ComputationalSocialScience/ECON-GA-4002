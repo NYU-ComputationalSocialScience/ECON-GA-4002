{
 "cells": [
  {
   "cell_type": "markdown",
   "metadata": {
    "slideshow": {
     "slide_type": "slide"
    }
   },
   "source": [
    "# Two-day Energy Markets in U.S.\n",
    "\n",
    "**Outcomes**\n",
    "\n",
    "- Understand overall structure of energy markets in the U.S.\n",
    "- Know who participates in energy markets\n",
    "- Be familiar with the structure of two-day energy markets in U.S.\n",
    "  - Know components of two-day locational marginal prices\n",
    "  - Know how prices are determined\n"
   ]
  },
  {
   "cell_type": "markdown",
   "metadata": {
    "slideshow": {
     "slide_type": "slide"
    }
   },
   "source": [
    "## Power Grids\n",
    "\n",
    "All power grids consist of a physical grid of transmission lines which provide a path to move energy from power produces to power consumers.\n",
    "\n",
    "These transmission line each have a finite physical capacity for how much energy they can transmit per unit time (both a physical and safety constraint)\n",
    "\n",
    "The map below demonstrates the transmission lines that can transmit 115+ kV in the U.S. but similar grids can be found across the world\n",
    "\n",
    "![US Power grids](UnitedStatesPowerGrid.jpg)"
   ]
  },
  {
   "cell_type": "markdown",
   "metadata": {
    "slideshow": {
     "slide_type": "subslide"
    }
   },
   "source": [
    "## Market Participants\n",
    "\n",
    "There are a few main participants involved in energy production and consumption in the U.S.:\n",
    "\n",
    "- The RTO: Manages overall activity and markets\n",
    "- Transmission line owners: Own the lines that are used to transmit power from one location to another\n",
    "- Power producers: Natural gas, wind, solar, coal, hydroelectric plants, and other energy plants that produce and add the energy to the grid\n",
    "- Power consumers: Large consumers like utility companies or factories\n",
    "- Financial traders: Market participants with no physical resources on grid (will explain more below...)\n",
    "\n",
    "> Note: Households, retail locations, and other consumers of electricity do not typically interact with the RTO. They instead have a contract with a utility company that purchases electricity from the RTO's markets and routes this energy to households.\n",
    "\n",
    "> Note: Transmission line owners are listed here for completeness, but they will play a passive role in the two-day market we describe below."
   ]
  },
  {
   "cell_type": "markdown",
   "metadata": {
    "slideshow": {
     "slide_type": "subslide"
    }
   },
   "source": [
    "### RTOs\n",
    "\n",
    "In the U.S., the operation of transmission networks is governed by the US [Federal Energy Regulatory Comission](https://www.ferc.gov/) (FERC)\n",
    "\n",
    "To centralize power distribution decisions and make regulatory compliance easier, neighboring states often agree to be part of the same [regional transmission organization](https://www.ferc.gov/industries-data/electric/power-sales-and-markets/rtos-and-isos) (sometimes called Independent System Operators or ISOs)"
   ]
  },
  {
   "cell_type": "markdown",
   "metadata": {
    "slideshow": {
     "slide_type": "subslide"
    }
   },
   "source": [
    "<img src=\"rto_map.gif\" style=\"width: 100%\"/>"
   ]
  },
  {
   "cell_type": "markdown",
   "metadata": {},
   "source": [
    "The RTO is responsible for operating the transmission grid so energy needs are satisfied\n",
    "\n",
    "Among its goals are\n",
    "\n",
    "- Effective routing of power from producers to consumers\n",
    "- Operating markets for coordinating financial activities\n",
    "- Stable access of power to all consumers in the RTO's geographic region"
   ]
  },
  {
   "cell_type": "markdown",
   "metadata": {
    "slideshow": {
     "slide_type": "subslide"
    }
   },
   "source": [
    "### Power consumers and producers\n",
    "\n",
    "Each producer and consumer is represented as a *node* on the transmission grid.\n",
    "\n",
    "A power producer *adds* energy to the network at its node\n",
    "\n",
    "A power consumer *removes* energy from the network at its node\n",
    "\n",
    "There can be thousands of these nodes on each of the RTO operated grids"
   ]
  },
  {
   "cell_type": "markdown",
   "metadata": {
    "slideshow": {
     "slide_type": "slide"
    }
   },
   "source": [
    "## The Two-Day Market\n",
    "\n",
    "There are two ways that energy consumers can obtain energy:\n",
    "\n",
    "1. Over-the-counter (OTC) trades: A consumer and a producer can enter a bi-lateral contract that specifies an amount of energy that the producer will supply and that the consumer will consume.\n",
    "2. Two-day market: Any of a producers \"surplus production\" or a consumers \"excess demand\" can be bought/sold in the two-day market.\n",
    "\n",
    "This two-day market will be the focus of today's discussion."
   ]
  },
  {
   "cell_type": "markdown",
   "metadata": {},
   "source": [
    "### Two-Day Markets\n",
    "\n",
    "The two-day market covers two (consecutive) days. A new market begins each day and covers the remainder of the current day and all of the next day.\n",
    "\n",
    "1. The first day in each two-stage market is called the *day ahead* (DA) market\n",
    "2. The second day is called the *real time* (RT) market (or *real time balancing market*)"
   ]
  },
  {
   "cell_type": "markdown",
   "metadata": {
    "slideshow": {
     "slide_type": "subslide"
    }
   },
   "source": [
    "#### Two-day market prices\n",
    "\n",
    "For each node on the RTO's grid, a unique price will be assigned for each hour of each day in both the DA and RT markets\n",
    "\n",
    "These location specific prices are known as *locational marginal prices*, or LMPs\n",
    "\n",
    "**Example**\n",
    "\n",
    "Suppose there are 1,000 nodes\n",
    "\n",
    "Then there will be a $24 \\cdot 1,000 = 24,000$ LMPs in the day ahead market and $24,000$ LMPs for the real time market\n",
    "\n",
    "Let $i$ index nodes and $t$ index hours\n",
    "\n",
    "We will use notation $dalmp_{i,t}$ and $rtlmp_{i,t}$ to represent the DA LMP and RT LMP for node $i$ in hour $t$, respectively\n",
    "\n",
    "> Note: The RT prices are actually established at 5-minute intervals, but, in practice, financial traders can only access the hourly prices which are determined by averaging the prices from the 5-minute intervals."
   ]
  },
  {
   "cell_type": "markdown",
   "metadata": {
    "slideshow": {
     "slide_type": "subslide"
    }
   },
   "source": [
    "#### Price components\n",
    "\n",
    "The LMPs are computed by the RTO as the sum of three distinct components:\n",
    "\n",
    "$$dalmp_{i,t} = damce_{t} + damcc_{i,t} + damcl_{i,t},$$\n",
    "\n",
    "where\n",
    "\n",
    "- $damce_{t}$: day ahead marginal cost of energy -- constant across whole grid and represents how much energy costs (on average) over whole grid\n",
    "- $damcc_{i,t}$: day ahead marginal cost of congestion -- represents how expensive it is to get energy in or out of this node because of transmission line utilitzation\n",
    "- $damcl_{i,t}$: day ahead marginal cost of loss -- cost associated with how much physical energy is lost getting energy to/from this node"
   ]
  },
  {
   "cell_type": "markdown",
   "metadata": {
    "slideshow": {
     "slide_type": "subslide"
    }
   },
   "source": [
    "The real time LMP is constructed using similar components\n",
    "\n",
    "$$rtlmp_{i,t} = rtmce_{t} + rtmcc_{i,t} + rtmcl_{i,t}$$"
   ]
  },
  {
   "cell_type": "markdown",
   "metadata": {
    "slideshow": {
     "slide_type": "subslide"
    }
   },
   "source": [
    "### Two-Day Market Structure\n",
    "\n",
    "These 6 pricing components are the outcome of a specialized auction-style market that takes place over two days as follows\n",
    "\n",
    "1. Day 1: All participants submit bids for which locations and at what price they are willing to buy or sell energy for each hour of the next day\n",
    "    - Bids are submitted by market participants\n",
    "      - The power producers submit a \"supply curve\" for how much energy they would be willing to produce at different prices.\n",
    "      - The power consumers submit a \"demand curve\" for how much energy they would be willing to purchase at different prices.\n",
    "      - Financial traders can submit either a supply/demand curve or make a specific energy bid.\n",
    "    - Analyzed by RTO (using linear programming!) and a market clearing price is established for each hour and location\n",
    "      - Sellers with a sale price at or below market price are committed to producing and selling energy at the market price\n",
    "      - Buyers with a purchase price that is at least as high as market price are committed to purchasing energy at the market price"
   ]
  },
  {
   "cell_type": "markdown",
   "metadata": {
    "slideshow": {
     "slide_type": "fragment"
    }
   },
   "source": [
    "2. Day 2: Real time supply and demand is equated to satisfy power needs of end consumers\n",
    "    - Unforecasted events cause actual demand and supply to differ from day-ahead predictions\n",
    "      - Unexpected increases in energy demand\n",
    "      - Potential downtime of power producers\n",
    "      - etc...\n",
    "    - RTO coordinates flow of power in and out of locations and establishes real-time prices for these power flows\n",
    "    - These market fluctuations create potential disparities in the RT price and the DA price -- sometimes resulting in dramatically different prices"
   ]
  },
  {
   "cell_type": "markdown",
   "metadata": {
    "slideshow": {
     "slide_type": "subslide"
    }
   },
   "source": [
    "#### Financial traders\n",
    "\n",
    "- Financial traders can commit to buy or sell in the day-ahead market\n",
    "- Financial traders don't have the capacity to produce or conusme energy, so they must take the *inverse* position that they took in the day-ahead market\n",
    "  - For every day-ahead commitment to buy, they must become the real-time seller\n",
    "  - For every day-ahead commitment to sell, they must become their own real-time buyer\n",
    "- Traders expose themselves to risk of a spread between day-ahead and real-time prices\n",
    "- Trader profits are equal to the spread between prices on the commitments that they agreed to and cleared day-ahead\n",
    "\n",
    "\n",
    "**Why does the RTO allow this?** Traders work hard to forecast the prices and, if they can do so successfully, they make a profit. However, in addition to earning profits, they also play the role of price discovery and push DA and RT prices closer together which lowers the risk for the actual power generators and consumers (a win-win!)."
   ]
  },
  {
   "cell_type": "markdown",
   "metadata": {
    "slideshow": {
     "slide_type": "slide"
    }
   },
   "source": [
    "### Constraints\n",
    "\n",
    "To determine the day ahead and real time LMPs, the RTO constructs a specialized linear program. This linear program is run once using the day-ahead bids and then run repeatedly during the real-time market to determine the real-time prices.\n",
    "\n",
    "The RTOs linear program combines the schedule of bids obtained from all market participants and all physical constraints for the current state of the transmission grid\n",
    "\n",
    "The objective is to minimize the cost of producing energy.\n",
    "\n",
    "The constraints include:\n",
    "\n",
    "* *market clearing*: Ensure demand = supply @ LMP for all hours and nodes\n",
    "* *transmission*: Ensure that physical limits on the transmission lines are respected (these can change day-to-day and hour-to-hour based on line outages and other grid factors)\n"
   ]
  },
  {
   "cell_type": "markdown",
   "metadata": {
    "slideshow": {
     "slide_type": "subslide"
    }
   },
   "source": [
    "**Transmission constraints and shadow prices**\n",
    "\n",
    "When the RTO solves the linear program, some of these constraints could be binding.\n",
    "\n",
    "Each binding transmission constraint will have an associated positive shadow price. This shadow price captures the cost, in dollars, of a particular constraint binding\n",
    "\n",
    "Let the shadow price for constraint $j$ in hour $t$ be $\\lambda_{j,t}$"
   ]
  },
  {
   "cell_type": "markdown",
   "metadata": {
    "slideshow": {
     "slide_type": "subslide"
    }
   },
   "source": [
    "#### Shadow Prices and Congestion Costs\n",
    "\n",
    "Each node is assigned a constant (or rarely revised) *exposure* to each constraint\n",
    "\n",
    "Let $e_{i,j}$ be the exposure of node $i$ to constraint $j$\n",
    "\n",
    "The marginal cost of congestion is equal to the sum of all shadow prices times their exposure:\n",
    "\n",
    "$$mcc_{i,t} = \\sum_j \\lambda_{j,t} e_{i,j}$$\n",
    "\n",
    "This structure applies to both day ahead and real time marginal cost of congestion"
   ]
  },
  {
   "cell_type": "markdown",
   "metadata": {
    "slideshow": {
     "slide_type": "slide"
    }
   },
   "source": [
    "### Price components\n",
    "\n",
    "Let's do a quick exploration of the price components to get a sense of how they vary"
   ]
  },
  {
   "cell_type": "code",
   "execution_count": null,
   "metadata": {
    "slideshow": {
     "slide_type": "subslide"
    }
   },
   "outputs": [],
   "source": [
    "import pandas as pd\n",
    "df = pd.read_parquet(\"spp_prices_subset.parquet\").reset_index()\n",
    "df.head()"
   ]
  },
  {
   "cell_type": "code",
   "execution_count": null,
   "metadata": {},
   "outputs": [],
   "source": [
    "# combine pricedate and hour into a single timestamp to make plotting easier\n",
    "df[\"dt\"] = df[\"pricedate\"] + pd.Timedelta(hours=1) * (df[\"hour\"] - 1)\n",
    "\n",
    "# use dalmp = damce + damcc + damcl to solve for damce\n",
    "df[\"damce\"] = df.eval(\"dalmp - damcc - damcl\")\n",
    "\n",
    "# same for rt\n",
    "df[\"rtmce\"] = df.eval(\"rtlmp - rtmcc - rtmcl\")\n",
    "\n",
    "df.head()"
   ]
  },
  {
   "cell_type": "code",
   "execution_count": null,
   "metadata": {
    "slideshow": {
     "slide_type": "subslide"
    }
   },
   "outputs": [],
   "source": [
    "import matplotlib.pyplot as plt\n",
    "plt.style.use(\"ggplot\")\n",
    "\n",
    "(\n",
    "    df\n",
    "    .query(\"node_id == 1\")\n",
    "    .set_index(\"dt\")[[\"damce\", \"rtmce\"]]\n",
    "    .plot(subplots=True, figsize=(10, 6), sharey=True)\n",
    ")"
   ]
  },
  {
   "cell_type": "code",
   "execution_count": null,
   "metadata": {
    "slideshow": {
     "slide_type": "subslide"
    }
   },
   "outputs": [],
   "source": [
    "(\n",
    "    df\n",
    "    .query(\"node_id == 452\")\n",
    "    .set_index(\"dt\")\n",
    "    [[\"damcc\", \"damcl\", \"damce\"]]\n",
    "    .plot(subplots=True, figsize=(10, 6), sharey=True, title=\"DA price components\")\n",
    ");"
   ]
  },
  {
   "cell_type": "code",
   "execution_count": null,
   "metadata": {
    "slideshow": {
     "slide_type": "subslide"
    }
   },
   "outputs": [],
   "source": [
    "(\n",
    "    df\n",
    "    .query(\"node_id == 452\")\n",
    "    .set_index(\"dt\")\n",
    "    [[\"rtmcc\", \"rtmcl\", \"rtmce\"]]\n",
    "    .plot(subplots=True, figsize=(10, 6), sharey=True, title=\"RT price components\")\n",
    ");"
   ]
  },
  {
   "cell_type": "code",
   "execution_count": null,
   "metadata": {
    "slideshow": {
     "slide_type": "subslide"
    }
   },
   "outputs": [],
   "source": [
    "(\n",
    "    df\n",
    "    .query(\"node_id == 452\")\n",
    "    .set_index(\"dt\")\n",
    "    [[\"damcc\", \"rtmcc\"]]\n",
    "    .plot(subplots=True, figsize=(10, 6), sharey=True, title=\"da vs rt mcc\")\n",
    ");"
   ]
  },
  {
   "cell_type": "code",
   "execution_count": null,
   "metadata": {},
   "outputs": [],
   "source": []
  }
 ],
 "metadata": {
  "celltoolbar": "Slideshow",
  "kernelspec": {
   "display_name": "css",
   "language": "python",
   "name": "css"
  },
  "language_info": {
   "codemirror_mode": {
    "name": "ipython",
    "version": 3
   },
   "file_extension": ".py",
   "mimetype": "text/x-python",
   "name": "python",
   "nbconvert_exporter": "python",
   "pygments_lexer": "ipython3",
   "version": "3.9.2"
  }
 },
 "nbformat": 4,
 "nbformat_minor": 4
}
