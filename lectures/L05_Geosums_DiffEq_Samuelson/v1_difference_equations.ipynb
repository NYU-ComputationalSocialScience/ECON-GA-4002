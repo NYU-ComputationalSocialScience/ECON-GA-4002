{
 "cells": [
  {
   "cell_type": "markdown",
   "metadata": {
    "slideshow": {
     "slide_type": "slide"
    }
   },
   "source": [
    "<div id=\"qe-notebook-header\" align=\"right\" style=\"text-align:right;\">\n",
    "        <a href=\"https://quantecon.org/\" title=\"quantecon.org\">\n",
    "                <img style=\"width:250px;display:inline;\" width=\"250px\" src=\"https://assets.quantecon.org/img/qe-menubar-logo.svg\" alt=\"QuantEcon\">\n",
    "        </a>\n",
    "</div>\n",
    "\n",
    "# Preface to the Samuelson Model: Difference Equations\n",
    "\n",
    "Some of this lecture material came from the [Samuelson Multiplier-Accelerator lecture](https://python.quantecon.org/samuelson.html) from QuantEcon."
   ]
  },
  {
   "cell_type": "code",
   "execution_count": null,
   "metadata": {
    "slideshow": {
     "slide_type": "-"
    }
   },
   "outputs": [],
   "source": [
    "import cmath\n",
    "import math\n",
    "import matplotlib.pyplot as plt\n",
    "import numpy as np\n",
    "\n",
    "from ipywidgets import interact, FloatSlider, IntSlider\n",
    "\n",
    "%matplotlib inline"
   ]
  },
  {
   "cell_type": "markdown",
   "metadata": {
    "slideshow": {
     "slide_type": "slide"
    }
   },
   "source": [
    "## Preface: (Linear) Difference Equations\n",
    "\n",
    "Difference equations are equations that take the form\n",
    "\n",
    "$$x_{t} = \\phi(x_{t-1}, x_{t-2}, \\dots, x_{t-k})$$\n",
    "\n",
    "Linear difference equations are difference equations where $\\phi$ is a linear function, aka,\n",
    "\n",
    "$$x_{t} = \\rho_1 x_{t-1} + \\rho_2 x_{t-2} + \\dots + \\rho_k x_{t-k}$$"
   ]
  },
  {
   "cell_type": "markdown",
   "metadata": {
    "slideshow": {
     "slide_type": "subslide"
    }
   },
   "source": [
    "### Linear algebra for linear difference equations\n",
    "\n",
    "Notice that a linear difference equation can be written as a matrix equation\n",
    "\n",
    "$$\\begin{bmatrix} x_{t} \\\\ x_{t-1} \\\\ x_{t-2} \\\\ \\vdots \\\\ x_{t-k+1} \\end{bmatrix} = \\begin{bmatrix} \\rho_1 & \\rho_2 & \\rho_3 & \\dots & \\rho_k \\\\ 1 & 0 & 0 & \\dots & 0 \\\\ 0 & 1 & 0 & \\dots & 0 \\\\ \\vdots & \\vdots & \\vdots & \\vdots & \\vdots \\\\ 0 & 0 & \\dots & 1 & 0 \\end{bmatrix} \\begin{bmatrix} x_{t-1} \\\\ x_{t-2} \\\\ x_{t-2} \\\\ \\vdots \\\\ x_{t-k} \\end{bmatrix}$$\n",
    "\n",
    "We can use this formulation to write a function that can simulate a linear difference equation of any order that we want."
   ]
  },
  {
   "cell_type": "code",
   "execution_count": null,
   "metadata": {
    "slideshow": {
     "slide_type": "-"
    }
   },
   "outputs": [],
   "source": [
    "def simulate_lde(rhos, x0, T=50):\n",
    "    \"\"\"\n",
    "    Simulates an order k linear difference equation using\n",
    "    the matrix formulation\n",
    "    \n",
    "    Parameters\n",
    "    ----------\n",
    "    rhos : np.array(float, ndim=1)\n",
    "        The (ordered) coefficients for the linear\n",
    "        difference equation\n",
    "    x0 : np.array(float, ndim=1)\n",
    "        The k initial values of x\n",
    "    T : int\n",
    "        The length of the simulation\n",
    "    \n",
    "    Returns\n",
    "    -------\n",
    "    out : np.array(float, ndim=1)\n",
    "        The values of x from the simulation\n",
    "    \"\"\"\n",
    "    # Get the order of the LDE\n",
    "    k = len(rhos)\n",
    "    \n",
    "    # Build the A matrix\n",
    "    A = np.vstack([\n",
    "        rhos, np.hstack([\n",
    "            np.eye(k-1), np.zeros((k-1, 1))\n",
    "        ])\n",
    "    ])\n",
    "    \n",
    "    xout = np.zeros(T)\n",
    "    for t in range(T):\n",
    "        x0 = A @ x0\n",
    "        xout[t] = x0[0]\n",
    "\n",
    "    return xout"
   ]
  },
  {
   "cell_type": "markdown",
   "metadata": {
    "slideshow": {
     "slide_type": "subslide"
    }
   },
   "source": [
    "### Exploring behavior of a second order linear difference equation\n",
    "\n",
    "Let's start by reminding ourselves what we can do with a second order linear difference equation (which will be key to the Samuelson model)"
   ]
  },
  {
   "cell_type": "code",
   "execution_count": null,
   "metadata": {
    "slideshow": {
     "slide_type": "-"
    }
   },
   "outputs": [],
   "source": [
    "def plot_history_base(rho_1, rho_2, T):\n",
    "    x0 = np.array([1.0, 0.5])\n",
    "    rhos = np.array([rho_1, rho_2])\n",
    "    \n",
    "    xhist = simulate_lde(rhos, x0, T)\n",
    "\n",
    "    fig, ax = plt.subplots(figsize=(10, 8))\n",
    "    ax.plot(xhist, color=\"k\", linewidth=0.75, alpha=0.9)\n",
    "    \n",
    "    ax.set_title(\n",
    "        r\"Simulation with $\\rho_1 = {}$ and $\\rho_2 = {}$\".format(\n",
    "            rho_1, rho_2\n",
    "        )\n",
    "    )\n",
    "    ax.spines[\"right\"].set_visible(False)\n",
    "    ax.spines[\"top\"].set_visible(False)\n",
    "    \n",
    "    return fig, ax\n",
    "\n",
    "def plot_history_no_annotate(rho_1, rho_2, T):\n",
    "    plot_history_base(rho_1, rho_2, T)\n",
    "    pass"
   ]
  },
  {
   "cell_type": "code",
   "execution_count": null,
   "metadata": {
    "scrolled": false,
    "slideshow": {
     "slide_type": "fragment"
    }
   },
   "outputs": [],
   "source": [
    "rho1_fs = FloatSlider(\n",
    "    value=0.9, min=-2.0, max=2.0, step=0.1,\n",
    "    description=\"rho_1\"\n",
    ")\n",
    "rho2_fs = FloatSlider(\n",
    "    value=0.0, min=-2.0, max=2.0, step=0.1,\n",
    "    description=\"rho_2\"\n",
    ")\n",
    "T_fs = IntSlider(\n",
    "    value=25, min=25, max=1000, step=50,\n",
    "    description=\"T\"\n",
    ")\n",
    "\n",
    "interact(plot_history_no_annotate, rho_1=rho1_fs, rho_2=rho2_fs, T=T_fs);"
   ]
  },
  {
   "cell_type": "markdown",
   "metadata": {
    "slideshow": {
     "slide_type": "subslide"
    }
   },
   "source": [
    "### \"Generating\" values of $x_t$\n",
    "\n",
    "Recall that when we find the eigenvalues, we also can obtain eigenvectors which satisfy\n",
    "\n",
    "$$(A - \\lambda_i I) v_i = 0$$\n",
    "\n",
    "Let\n",
    "\n",
    "* $\\Lambda \\equiv \\text{diag}(\\{\\lambda_i \\quad \\forall i \\})$ (a diagonal matrix with the eigenvalues on the diagonal) and\n",
    "* $V \\equiv \\{v_i \\quad \\forall i \\}$ (a matrix where each column is an eigenvector corresponding to the ith eigenvalue).\n",
    "\n",
    "We can use the eigenvalues and eigenvectors to \"diagonalize\" our matrix $A$ which means we can write,\n",
    "\n",
    "$$A \\equiv V \\Lambda V^{-1}$$\n",
    "\n",
    "The eigenvectors also satisfy $V^{-1} V = I$"
   ]
  },
  {
   "cell_type": "code",
   "execution_count": null,
   "metadata": {
    "slideshow": {
     "slide_type": "fragment"
    }
   },
   "outputs": [],
   "source": [
    "A = np.array([[0.9, 0.2], [1.0, 0.0]])\n",
    "\n",
    "eigs, V = np.linalg.eig(A)\n",
    "Vinv = np.linalg.inv(V)"
   ]
  },
  {
   "cell_type": "code",
   "execution_count": null,
   "metadata": {
    "slideshow": {
     "slide_type": "-"
    }
   },
   "outputs": [],
   "source": [
    "Vinv @ V"
   ]
  },
  {
   "cell_type": "code",
   "execution_count": null,
   "metadata": {
    "slideshow": {
     "slide_type": "-"
    }
   },
   "outputs": [],
   "source": [
    "np.max(np.abs(A - (V @ np.diag(eigs) @ Vinv)))"
   ]
  },
  {
   "cell_type": "markdown",
   "metadata": {
    "slideshow": {
     "slide_type": "subslide"
    }
   },
   "source": [
    "**Why is this helpful?**\n",
    "\n",
    "Given an $X_0$, $X_t$ can be written as\n",
    "\n",
    "$$X_t = A X_{t-1} = A A X_{t-2} = \\dots = A^t X_0$$\n",
    "\n",
    "but we know that $A \\equiv V \\Lambda V^{-1}$ which means\n",
    "\n",
    "$$X_t = V \\Lambda V^{-1} V \\Lambda V^{-1} V \\Lambda V^{-1} \\dots$$\n",
    "\n",
    "which reduces to\n",
    "\n",
    "$$X_t = V \\Lambda \\Lambda \\Lambda \\dots V^{-1}$$\n",
    "\n",
    "and since $\\Lambda$ is diagonal this reduces to\n",
    "\n",
    "$$\\Lambda \\Lambda \\Lambda \\dots = \\begin{bmatrix} \\lambda_1^t & 0 & 0 & 0 \\\\ 0 & \\lambda_2^t & 0 & 0 \\\\ 0 & \\dots & \\ddots & 0 \\\\ 0 & 0 & \\dots & \\lambda_N^t \\end{bmatrix}$$\n",
    "\n",
    "so\n",
    "\n",
    "$$X_t = \\left(V \\begin{bmatrix} \\lambda_1^t & 0 & 0 & 0 \\\\ 0 & \\lambda_2^t & 0 & 0 \\\\ 0 & \\dots & \\ddots & 0 \\\\ 0 & 0 & \\dots & \\lambda_N^t \\end{bmatrix} V^{-1} \\right) X_0$$"
   ]
  },
  {
   "cell_type": "code",
   "execution_count": null,
   "metadata": {},
   "outputs": [],
   "source": [
    "class LinearDifferenceEquation(object):\n",
    "    \"\"\"\n",
    "    A class that takes a linear difference equation and\n",
    "    can generate arbitrary elements of the sequence\n",
    "    generated by the difference equation\n",
    "    \n",
    "    Parameters\n",
    "    ----------\n",
    "    rho : np.array(float, ndim=1)\n",
    "        The parameter coefficients\n",
    "\n",
    "    \"\"\"\n",
    "    def __init__(self, rho):\n",
    "        self.rho = rho\n",
    "\n",
    "        # Get the order of the LDE\n",
    "        self.k = len(self.rho)\n",
    "\n",
    "        # Build the A matrix\n",
    "        self.A = np.vstack([\n",
    "            self.rho, np.hstack([\n",
    "                np.eye(self.k-1), np.zeros((self.k-1, 1))\n",
    "            ])\n",
    "        ])\n",
    "\n",
    "        # Determine eigenvalues and eigenvectors\n",
    "        self.eigs, self.V = np.linalg.eig(self.A)\n",
    "        self.Vinv = np.linalg.inv(self.V)\n",
    "        self.Lambda = np.diag(self.eigs)\n",
    "\n",
    "    def xt_generate(self, x0, t):\n",
    "        \"\"\"\n",
    "        Takes an initial value of x0 and a length of time\n",
    "        and produces the value the linear difference\n",
    "        equation would take at that period\n",
    "        \"\"\"\n",
    "        return ((self.V @ np.diag(self.eigs**t) @ self.Vinv)@x0)[0]"
   ]
  },
  {
   "cell_type": "markdown",
   "metadata": {
    "slideshow": {
     "slide_type": "subslide"
    }
   },
   "source": [
    "### Fibonacci numbers as an example\n",
    "\n",
    "Fibonacci numbers are given by $x_n = x_{n-1} + x_{n-2}$"
   ]
  },
  {
   "cell_type": "code",
   "execution_count": null,
   "metadata": {
    "slideshow": {
     "slide_type": "-"
    }
   },
   "outputs": [],
   "source": [
    "fib_rhos = np.array([1.0, 1.0])\n",
    "\n",
    "lde = LinearDifferenceEquation(fib_rhos)"
   ]
  },
  {
   "cell_type": "code",
   "execution_count": null,
   "metadata": {
    "slideshow": {
     "slide_type": "-"
    }
   },
   "outputs": [],
   "source": [
    "# Generate the ith Fibonacci\n",
    "i = 10\n",
    "lde.xt_generate(np.array([1.0, 0.0]), i-1)"
   ]
  },
  {
   "cell_type": "code",
   "execution_count": null,
   "metadata": {
    "slideshow": {
     "slide_type": "fragment"
    }
   },
   "outputs": [],
   "source": [
    "%timeit simulate_lde(fib_rhos, np.array([1.0, 0.0]), 250)"
   ]
  },
  {
   "cell_type": "code",
   "execution_count": null,
   "metadata": {
    "slideshow": {
     "slide_type": "-"
    }
   },
   "outputs": [],
   "source": [
    "%timeit lde.xt_generate(fib_rhos, 75)"
   ]
  },
  {
   "cell_type": "markdown",
   "metadata": {
    "slideshow": {
     "slide_type": "subslide"
    }
   },
   "source": [
    "### Understanding the behavior of the system\n",
    "\n",
    "Let's return to the matrix form of our second order linear difference equation,\n",
    "\n",
    "$$\\begin{bmatrix} x_{t} \\\\ x_{t-1} \\end{bmatrix} = \\begin{bmatrix} \\rho_1 & \\rho_2 \\\\ 1 & 0 \\end{bmatrix} \\begin{bmatrix} x_{t-1} \\\\ x_{t-2} \\end{bmatrix}$$\n",
    "\n",
    "or\n",
    "\n",
    "$$X_t = A X_{t-1}$$\n",
    "\n",
    "where $X_t \\equiv \\begin{bmatrix} x_{t} \\\\ x_{t-1} \\end{bmatrix}$\n"
   ]
  },
  {
   "cell_type": "markdown",
   "metadata": {
    "slideshow": {
     "slide_type": "fragment"
    }
   },
   "source": [
    "Let's start by finding the eigenvalues of $A$ which are values of $z$ such that\n",
    "\n",
    "$$|A - z I| = 0$$\n",
    "\n",
    "then $z$ satisfies\n",
    "\n",
    "\\begin{align*}\n",
    "  0 &= | \\begin{bmatrix} \\rho_1 - z & \\rho_2 \\\\ 1 & -z \\end{bmatrix} | \\\\\n",
    "  0 &= (\\rho_1 - z) (-z) - \\rho_2 \\\\\n",
    "  0 &= z^2 -\\rho_1 z - \\rho_2\n",
    "\\end{align*}\n",
    "\n",
    "We then have a quadratic equation in $z$. Let the roots of that equation be called $\\lambda_1$ and $\\lambda_2$ such that\n",
    "\n",
    "$$(z - \\lambda_1)(z - \\lambda_2) = 0$$\n",
    "\n",
    "$\\lambda_1$ and $\\lambda_2$ would be the eigenvalues."
   ]
  },
  {
   "cell_type": "markdown",
   "metadata": {
    "slideshow": {
     "slide_type": "subslide"
    }
   },
   "source": [
    "### Eigenvalues also tell us about the behavior of the linear difference equation\n",
    "\n",
    "Let's focus on the case of a second order difference equation to start. There will be two eigenvalues (they can possibly be the same).\n",
    "\n",
    "The eigenvalues will either both be real or they will be a complex conjugate pair.\n",
    "\n",
    "The graph that follows portrays the possible regions in which the $(\\lambda_1, \\lambda_2)$ can live:\n",
    "\n",
    "- $(\\lambda_1, \\lambda_2)$ are complex with modulus less than $1$ - in this case, the $\\{x_t\\}$ sequence displays damped oscillations.  \n",
    "- $(\\lambda_1, \\lambda_2)$ are both real, but one is strictly greater than $1$ - this leads to explosive growth.  \n",
    "- $(\\lambda_1, \\lambda_2)$ are both real, but one is strictly less than $-1$ - this leads to explosive oscillations. \n",
    "- $(\\lambda_1, \\lambda_2)$ are both real and both are less than $1$ in absolute value - in this case, there is smooth convergence to the steady state without damped cycles.\n"
   ]
  },
  {
   "cell_type": "code",
   "execution_count": null,
   "metadata": {
    "slideshow": {
     "slide_type": "-"
    }
   },
   "outputs": [],
   "source": [
    "def param_plot():\n",
    "\n",
    "    \"\"\"This function creates the graph on page 189 of\n",
    "    Sargent Macroeconomic Theory, second edition, 1987.\n",
    "    \"\"\"\n",
    "\n",
    "    fig, ax = plt.subplots(figsize=(10, 6))\n",
    "    ax.set_aspect('equal')\n",
    "\n",
    "    # Set axis\n",
    "    xmin, ymin = -3, -2\n",
    "    xmax, ymax = -xmin, -ymin\n",
    "    plt.axis([xmin, xmax, ymin, ymax])\n",
    "\n",
    "    # Set axis labels\n",
    "    ax.set(xticks=[], yticks=[])\n",
    "    ax.set_xlabel(r'$\\rho_2$', fontsize=16)\n",
    "    ax.xaxis.set_label_position('top')\n",
    "    ax.set_ylabel(r'$\\rho_1$', rotation=0, fontsize=16)\n",
    "    ax.yaxis.set_label_position('right')\n",
    "\n",
    "    # Draw (t1, t2) points\n",
    "    ρ1 = np.linspace(-2, 2, 100)\n",
    "    ax.plot(ρ1, -abs(ρ1) + 1, c='black')\n",
    "    ax.plot(ρ1, np.ones_like(ρ1) * -1, c='black')\n",
    "    ax.plot(ρ1, -(ρ1**2 / 4), c='black')\n",
    "\n",
    "    # Turn normal axes off\n",
    "    for spine in ['left', 'bottom', 'top', 'right']:\n",
    "        ax.spines[spine].set_visible(False)\n",
    "\n",
    "    # Add arrows to represent axes\n",
    "    axes_arrows = {'arrowstyle': '<|-|>', 'lw': 1.3}\n",
    "    ax.annotate('', xy=(xmin, 0), xytext=(xmax, 0), arrowprops=axes_arrows)\n",
    "    ax.annotate('', xy=(0, ymin), xytext=(0, ymax), arrowprops=axes_arrows)\n",
    "\n",
    "    # Annotate the plot with equations\n",
    "    plot_arrowsl = {'arrowstyle': '-|>', 'connectionstyle': \"arc3, rad=-0.2\"}\n",
    "    plot_arrowsr = {'arrowstyle': '-|>', 'connectionstyle': \"arc3, rad=0.2\"}\n",
    "    ax.annotate(r'$\\rho_1 + \\rho_2 < 1$', xy=(0.5, 0.3), xytext=(0.8, 0.6),\n",
    "                arrowprops=plot_arrowsr, fontsize='12')\n",
    "    ax.annotate(r'$\\rho_1 + \\rho_2 = 1$', xy=(0.38, 0.6), xytext=(0.6, 0.8),\n",
    "                arrowprops=plot_arrowsr, fontsize='12')\n",
    "    ax.annotate(r'$\\rho_2 < 1 + \\rho_1$', xy=(-0.5, 0.3), xytext=(-1.3, 0.6),\n",
    "                arrowprops=plot_arrowsl, fontsize='12')\n",
    "    ax.annotate(r'$\\rho_2 = 1 + \\rho_1$', xy=(-0.38, 0.6), xytext=(-1, 0.8),\n",
    "                arrowprops=plot_arrowsl, fontsize='12')\n",
    "    ax.annotate(r'$\\rho_2 = -1$', xy=(1.5, -1), xytext=(1.8, -1.3),\n",
    "                arrowprops=plot_arrowsl, fontsize='12')\n",
    "    ax.annotate(r'${\\rho_1}^2 + 4\\rho_2 = 0$', xy=(1.15, -0.35),\n",
    "                xytext=(1.5, -0.3), arrowprops=plot_arrowsr, fontsize='12')\n",
    "    ax.annotate(r'${\\rho_1}^2 + 4\\rho_2 < 0$', xy=(1.4, -0.7),\n",
    "                xytext=(1.8, -0.6), arrowprops=plot_arrowsr, fontsize='12')\n",
    "\n",
    "    # Label categories of solutions\n",
    "    ax.text(1.5, 1, 'Explosive\\n growth', ha='center', fontsize=16)\n",
    "    ax.text(-1.5, 1, 'Explosive\\n oscillations', ha='center', fontsize=16)\n",
    "    ax.text(0.05, -1.5, 'Explosive oscillations', ha='center', fontsize=16)\n",
    "    ax.text(0.09, -0.5, 'Damped oscillations', ha='center', fontsize=16)\n",
    "\n",
    "    # Add small marker to y-axis\n",
    "    ax.axhline(y=1.005, xmin=0.495, xmax=0.505, c='black')\n",
    "    ax.text(-0.12, -1.12, '-1', fontsize=10)\n",
    "    ax.text(-0.12, 0.98, '1', fontsize=10)\n",
    "\n",
    "    return fig\n",
    "\n",
    "param_plot()\n",
    "plt.show()"
   ]
  },
  {
   "cell_type": "code",
   "execution_count": null,
   "metadata": {
    "slideshow": {
     "slide_type": "subslide"
    }
   },
   "outputs": [],
   "source": [
    "def plot_history_annotate(rho_1, rho_2, T):\n",
    "    fig, ax = plot_history_base(rho_1, rho_2, T)\n",
    "    \n",
    "    ymin, ymax = ax.get_ylim()\n",
    "    ymid, yrange = (ymax + ymin)/2, (ymax - ymin)\n",
    "    y1, y2 = ymid + 0.3*yrange, ymid-0.3*yrange\n",
    "    \n",
    "    ax.set_xlim(0, 1.2*T)\n",
    "    lambda_1, lambda_2 = np.roots([1.0, -rho_1, -rho_2])\n",
    "    ax.annotate(\n",
    "        r\"$\\lambda_1 = {}$\".format(lambda_1),\n",
    "        xy=(T, ymid + 0.3*yrange)\n",
    "    )\n",
    "    ax.annotate(\n",
    "        r\"Modulus of $\\lambda_1 = {}$\".format(abs(lambda_1)),\n",
    "        xy=(T, ymid  + 0.15*yrange)\n",
    "    )\n",
    "    ax.annotate(\n",
    "        r\"$\\lambda_2 = {}$\".format(lambda_2),\n",
    "        xy=(T, ymid - 0.3*yrange)\n",
    "    )\n",
    "    ax.annotate(\n",
    "        r\"Modulus of $\\lambda_2 = {}$\".format(abs(lambda_2)),\n",
    "        xy=(T, ymid  - 0.45*yrange)\n",
    "    )\n",
    "\n",
    "    pass"
   ]
  },
  {
   "cell_type": "code",
   "execution_count": null,
   "metadata": {
    "slideshow": {
     "slide_type": "-"
    }
   },
   "outputs": [],
   "source": [
    "rho1_fs = FloatSlider(\n",
    "    value=0.9, min=-2.0, max=2.0, step=0.1,\n",
    "    description=\"rho_1\"\n",
    ")\n",
    "rho2_fs = FloatSlider(\n",
    "    value=0.0, min=-2.0, max=2.0, step=0.1,\n",
    "    description=\"rho_2\"\n",
    ")\n",
    "T_fs = IntSlider(\n",
    "    value=25, min=25, max=1000, step=50,\n",
    "    description=\"T\"\n",
    ")\n",
    "\n",
    "interact(plot_history_annotate, rho_1=rho1_fs, rho_2=rho2_fs, T=T_fs);"
   ]
  },
  {
   "cell_type": "markdown",
   "metadata": {
    "slideshow": {
     "slide_type": "subslide"
    }
   },
   "source": [
    "### More properties of complex roots\n",
    "\n",
    "When the roots are complex, it is convenient to represent them in the\n",
    "polar form\n",
    "\n",
    "$$\\lambda_1 =  r e^{i \\omega}, \\  \\lambda_2 = r e^{-i \\omega}$$\n",
    "\n",
    "where $r$ is the *amplitude* of the complex number and $\\omega$ is its *angle* or *phase*.\n",
    "\n",
    "We are going to skip this today, but the short version is that:\n",
    "* _Amplitude_ controls the distance between the top and bottom of a wave\n",
    "* _Angle/Phase_ controls the distance between waves\n",
    "\n",
    "To read more about the polar form, see the [QuantEcon Samuelson lecture](https://python.quantecon.org/samuelson.html) or [here](https://www.varsitytutors.com/hotmath/hotmath_help/topics/polar-form-of-a-complex-number)."
   ]
  }
 ],
 "metadata": {
  "celltoolbar": "Slideshow",
  "date": 1603941894.0320876,
  "filename": "samuelson.rst",
  "kernelspec": {
   "display_name": "Python 3",
   "language": "python",
   "name": "python3"
  },
  "language_info": {
   "codemirror_mode": {
    "name": "ipython",
    "version": 3
   },
   "file_extension": ".py",
   "mimetype": "text/x-python",
   "name": "python",
   "nbconvert_exporter": "python",
   "pygments_lexer": "ipython3",
   "version": "3.8.8"
  },
  "next_doc": {
   "link": "kesten_processes",
   "title": "Kesten Processes and Firm Dynamics"
  },
  "prev_doc": {
   "link": "linear_models",
   "title": "Linear State Space Models"
  },
  "title": "Application: The Samuelson Multiplier-Accelerator"
 },
 "nbformat": 4,
 "nbformat_minor": 2
}
