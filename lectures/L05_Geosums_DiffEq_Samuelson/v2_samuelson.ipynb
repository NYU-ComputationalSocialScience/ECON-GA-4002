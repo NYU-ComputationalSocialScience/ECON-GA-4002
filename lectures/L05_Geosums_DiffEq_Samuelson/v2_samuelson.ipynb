{
 "cells": [
  {
   "cell_type": "markdown",
   "metadata": {
    "slideshow": {
     "slide_type": "slide"
    }
   },
   "source": [
    "<div id=\"qe-notebook-header\" align=\"right\" style=\"text-align:right;\">\n",
    "        <a href=\"https://quantecon.org/\" title=\"quantecon.org\">\n",
    "                <img style=\"width:250px;display:inline;\" width=\"250px\" src=\"https://assets.quantecon.org/img/qe-menubar-logo.svg\" alt=\"QuantEcon\">\n",
    "        </a>\n",
    "</div>\n",
    "\n",
    "# Samuelson Model\n",
    "\n",
    "Most of this lecture material came from the [Samuelson Multiplier-Accelerator lecture](https://python.quantecon.org/samuelson.html) from QuantEcon."
   ]
  },
  {
   "cell_type": "code",
   "execution_count": null,
   "metadata": {
    "slideshow": {
     "slide_type": "-"
    }
   },
   "outputs": [],
   "source": [
    "import matplotlib.pyplot as plt\n",
    "import numpy as np\n",
    "\n",
    "%matplotlib inline"
   ]
  },
  {
   "cell_type": "markdown",
   "metadata": {
    "slideshow": {
     "slide_type": "slide"
    }
   },
   "source": [
    "### Samuelson’s Model\n",
    "\n",
    "Samuelson used a *second-order linear difference equation* to\n",
    "represent a model of national output based on three components:\n",
    "\n",
    "- a *national output identity* asserting that national outcome is the sum of consumption plus investment plus government purchases.  \n",
    "- a Keynesian *consumption function* asserting that consumption at time $ t $ is equal to a constant times national output at time $ t-1 $.  \n",
    "- an investment *accelerator* asserting that investment at time $ t $ equals a constant called the *accelerator coefficient* times the difference in output between period $ t-1 $ and $ t-2 $.\n",
    "- the idea that consumption plus investment plus government purchases constitute *aggregate demand,* which automatically calls forth an equal amount of *aggregate supply*.\n",
    "\n",
    "Samuelson used the model to analyze how particular values of the marginal propensity to consume and the accelerator coefficient might give rise to transient *business cycles* in national output.\n",
    "\n",
    "Possible dynamic properties include\n",
    "\n",
    "- smooth convergence to a constant level of output  \n",
    "- damped business cycles that eventually converge to a constant level of output  \n",
    "- persistent business cycles that neither dampen nor explode  \n",
    "\n",
    "\n",
    "Later we present an extension that adds a random shock to the right side of the national income identity representing random fluctuations in aggregate demand.\n",
    "\n",
    "This modification makes national output become governed by a second-order *stochastic linear difference equation* that, with appropriate parameter values, gives rise to recurrent irregular business cycles."
   ]
  },
  {
   "cell_type": "markdown",
   "metadata": {
    "slideshow": {
     "slide_type": "slide"
    }
   },
   "source": [
    "## General version of the model\n",
    "\n",
    "Let’s assume that\n",
    "\n",
    "- $ \\{C_t\\} $ is a sequence of levels of aggregate consumption expenditures \n",
    "- $ \\{I_t\\} $ is a sequence of rates of investment\n",
    "- $ \\{G_t\\} $ is a sequence of levels of government expenditures \n",
    "- $ \\{Y_t\\} $ is a sequence of levels of national income\n",
    "- $ \\{\\epsilon_{t}\\} $ is an IID sequence standard normal random variables.\n",
    "\n",
    "The parameters of the model are\n",
    "\n",
    "- $ a \\in (0, 1) $ is the marginal propensity to consume in the Keynesian consumption function $ C_t = a Y_{t-1} + \\gamma $.  \n",
    "- $ b > 0 $ is the “accelerator coefficient” in the “investment accelerator” $ I_t = b (Y_{t-1} - Y_{t-2}) $.  \n",
    "- $ \\sigma \\geq 0 $ is a “volatility” parameter — setting $ \\sigma = 0 $ recovers the non-stochastic case that we’ll start with.  "
   ]
  },
  {
   "cell_type": "markdown",
   "metadata": {
    "slideshow": {
     "slide_type": "subslide"
    }
   },
   "source": [
    "The model combines the consumption function\n",
    "\n",
    "<a id='equation-consumption'></a>\n",
    "$$\n",
    "C_t = a Y_{t-1} + \\gamma \\tag{1}\n",
    "$$\n",
    "\n",
    "with the investment accelerator\n",
    "\n",
    "<a id='equation-accelerator'></a>\n",
    "$$\n",
    "I_t = b (Y_{t-1} - Y_{t-2}) \\tag{2}\n",
    "$$\n",
    "\n",
    "and the national income identity\n",
    "\n",
    "<a id='equation-income-identity'></a>\n",
    "$$\n",
    "Y_t = C_t + I_t + G_t + \\sigma \\epsilon_t \\tag{3}\n",
    "$$"
   ]
  },
  {
   "cell_type": "markdown",
   "metadata": {
    "slideshow": {
     "slide_type": "fragment"
    }
   },
   "source": [
    "**Important aspects of these equations**\n",
    "\n",
    "- The parameter $ a $ is people's *marginal propensity to consume* out of income - equation [(1)](#equation-consumption) asserts that people consume a fraction of of each additional dollar of income.  \n",
    "- The parameter $ b > 0 $ is the investment accelerator coefficient - equation [(2)](#equation-accelerator) asserts that people invest in physical capital when income is increasing and disinvest when it is decreasing.  "
   ]
  },
  {
   "cell_type": "markdown",
   "metadata": {
    "slideshow": {
     "slide_type": "subslide"
    }
   },
   "source": [
    "**Combining equations**\n",
    "\n",
    "Equations [(1)](#equation-consumption), [(2)](#equation-accelerator), and [(3)](#equation-income-identity) imply the following second-order linear difference equation for national income:\n",
    "\n",
    "$$\n",
    "Y_t = (a+b) Y_{t-1} - b Y_{t-2} + (\\gamma + G_t) + \\sigma \\epsilon_t\n",
    "$$\n",
    "\n",
    "We can write this as a \"standard\" second order difference equation:\n",
    "\n",
    "<a id='equation-second-order'></a>\n",
    "$$\n",
    "Y_t = \\rho_1 Y_{t-1} + \\rho_2 Y_{t-2} + (\\gamma + G_t) + \\sigma \\epsilon_t \\tag{4}\n",
    "$$\n",
    "\n",
    "where $ \\rho_1 = (a+b) $ and $ \\rho_2 = -b $."
   ]
  },
  {
   "cell_type": "markdown",
   "metadata": {
    "slideshow": {
     "slide_type": "fragment"
    }
   },
   "source": [
    "To complete the model, we require two **initial conditions**.\n",
    "\n",
    "If the model is to generate time series for $ t=0, \\ldots, T $, we\n",
    "require initial values\n",
    "\n",
    "$$\n",
    "Y_{-1} = \\bar Y_{-1}, \\quad  Y_{-2} = \\bar Y_{-2}\n",
    "$$"
   ]
  },
  {
   "cell_type": "markdown",
   "metadata": {
    "slideshow": {
     "slide_type": "fragment"
    }
   },
   "source": [
    "We’ll ordinarily set the parameters $ (a,b) $ so that starting from an arbitrary pair of initial conditions $ (\\bar Y_{-1}, \\bar Y_{-2}) $, national income $ Y_t $ converges to a constant value as $ t $ becomes large.\n",
    "\n",
    "We are interested in studying\n",
    "\n",
    "- the transient fluctuations in $ Y_t $ as it converges to its **steady state** level\n",
    "- the effects that a random shock can have on the economy"
   ]
  },
  {
   "cell_type": "markdown",
   "metadata": {
    "slideshow": {
     "slide_type": "slide"
    }
   },
   "source": [
    "## Direct problem\n",
    "\n",
    "We will now write code that allows us to draw sequences of outcomes for the variables in our model."
   ]
  },
  {
   "cell_type": "code",
   "execution_count": null,
   "metadata": {
    "slideshow": {
     "slide_type": "-"
    }
   },
   "outputs": [],
   "source": [
    "class Samuelson(object):\n",
    "    \"\"\"\n",
    "    This class represents the Samuelson model, otherwise known as the\n",
    "    multiple-accelerator model. The model combines the Keynesian\n",
    "    multiplier with the accelerator theory of investment.\n",
    "\n",
    "    The path of output is governed by a linear second-order difference equation\n",
    "\n",
    "    .. math::\n",
    "\n",
    "        Y_t = (\\gamma + G_t) + (a + b) Y_{t-1} - b Y_{t-2} + \\sigma \\epsilon_t\n",
    "\n",
    "    Parameters\n",
    "    ----------\n",
    "    a : scalar\n",
    "        Marginal propensity to consume\n",
    "    b : scalar\n",
    "        Accelerator coefficient\n",
    "    γ : scalar\n",
    "        The constant amount of consumption\n",
    "    σ : scalar\n",
    "        Volatility parameter. It must be greater than or equal to 0. Set\n",
    "        equal to 0 for a non-stochastic model.\n",
    "\n",
    "    \"\"\"\n",
    "\n",
    "    def __init__(self, a=0.7, b=0.2, γ=10.0, σ=0):\n",
    "\n",
    "        self.a, self.b, self.γ = a, b, γ\n",
    "        self.σ = σ\n",
    "        self.ρ1 = a + b\n",
    "        self.ρ2 = -b\n",
    "\n",
    "    @property\n",
    "    def roots(self):\n",
    "        return np.roots([1.0, -self.ρ1, -self.ρ2])\n",
    "\n",
    "    def Y_ss(self, G):\n",
    "        γ, ρ1, ρ2 = self.γ, self.ρ1, self.ρ2\n",
    "        return (γ + G) / (1 - ρ1 - ρ2)\n",
    "\n",
    "    def behavior(self):\n",
    "        ρ1, ρ2 = self.ρ1, self.ρ2\n",
    "        discriminant = ρ1**2 + 4*ρ2\n",
    "\n",
    "        if discriminant == 0:\n",
    "            print(\"Single real root\")\n",
    "        elif discriminant > 0:\n",
    "            print(\"Two real roots\")\n",
    "        else:\n",
    "            print(\"Two complex roots\")\n",
    "        \n",
    "        if all(np.abs(self.roots) < 1.0-1e-8):\n",
    "            print(\"Absolute values are less than one\")\n",
    "        elif all(np.abs(self.roots) < 1.0+1e-8):\n",
    "            print(\"Absolute values are equal to one\")\n",
    "        else:\n",
    "            print(\"Absolute values are not less than or equal one\")\n",
    "\n",
    "    def _transition(self, ytm1, ytm2, Gt, ϵt):\n",
    "        \"One step transition\"\n",
    "        ρ1, ρ2, γ, σ = self.ρ1, self.ρ2, self.γ, self.σ\n",
    "        return (γ + Gt) + ρ1*ytm1 + ρ2*ytm2 + σ*ϵt\n",
    "\n",
    "    def _simulate(self, y0m1, y0m2, G, ε, T):\n",
    "        \"Internal simulation method used for irf and simulate\"\n",
    "        # Unpack parameters\n",
    "        a, b, γ, σ = self.a, self.b, self.γ, self.σ\n",
    "\n",
    "        # Make sure that G is an array\n",
    "        if np.isscalar(G):\n",
    "            G = np.ones(T)*G\n",
    "\n",
    "        # Allocate space -- Use -1 and -2 to \"wrap\" y values\n",
    "        c = np.zeros(T)\n",
    "        i = np.zeros(T)\n",
    "        y = np.zeros(T)\n",
    "        y[-1] = y0m1\n",
    "        y[-2] = y0m2\n",
    "        \n",
    "        for t in range(T):\n",
    "            c[t] = γ + a*y[t-1]\n",
    "            i[t] = b * (y[t-1] - y[t-2])\n",
    "            y[t] = self._transition(y[t-1], y[t-2], G[t], ϵ[t])\n",
    "\n",
    "        return c, i, y\n",
    "\n",
    "    def irf(self, y0m1, y0m2, G, T):\n",
    "        # Set epsilon_0 to a one standard deviation increase\n",
    "        ϵ = np.zeros(T)\n",
    "        ϵ[0] = 1.0\n",
    "        c, i, y = self._simulate(y0m1, y0m2, G, ϵ, T)\n",
    "\n",
    "        return c, i, y\n",
    "\n",
    "    def simulate(self, y0m1, y0m2, G, T):\n",
    "        # Draw random numbers and simulate\n",
    "        ϵ = np.random.randn(T)\n",
    "        c, i, y = self._simulate(y0m1, y0m2, G, ϵ, T)\n",
    "\n",
    "        return c, i, y\n",
    "\n",
    "    def plot(self, c, i, y):\n",
    "        fig, ax = plt.subplots(3, 1, figsize=(14, 8))\n",
    "\n",
    "        colors = [\"DarkBlue\", \"DarkGreen\", \"black\"]\n",
    "        for (i, (color, series)) in enumerate(zip(colors, [c, i, y])):\n",
    "            ax[i].plot(series, color=color, alpha=0.75, linewidth=1.5)\n",
    "            ax[i].spines[\"top\"].set_visible(False)\n",
    "            ax[i].spines[\"right\"].set_visible(False)\n",
    "            ax[i].set_facecolor([0.975, 0.975, 0.975])\n",
    "\n",
    "        for (i, series) in enumerate([\"Consumption\", \"Investment\", \"GDP\"]):\n",
    "            xmin, xmax = ax[i].get_xlim()\n",
    "            ymin, ymax = ax[i].get_ylim()\n",
    "            ax[i].annotate(\n",
    "                series, xy=(0.975*xmax, ymin + 0.25*(ymax - ymin)),\n",
    "                color=colors[i]\n",
    "            )\n",
    "            ax[i].set_xlim(-5, xmax*1.1)\n",
    "\n",
    "        fig.set_facecolor([0.975, 0.975, 0.975])\n",
    "\n",
    "        return fig"
   ]
  },
  {
   "cell_type": "markdown",
   "metadata": {
    "slideshow": {
     "slide_type": "subslide"
    }
   },
   "source": [
    "### Sample plots"
   ]
  },
  {
   "cell_type": "code",
   "execution_count": null,
   "metadata": {
    "slideshow": {
     "slide_type": "fragment"
    }
   },
   "outputs": [],
   "source": [
    "mod = Samuelson(a=0.7, b=0.5, σ=5.0)\n",
    "c, i, y = mod.simulate(y0m1=100.0, y0m2=75.0, G=50.0, T=100)\n",
    "\n",
    "mod.behavior()\n",
    "\n",
    "mod.plot(c, i, y);"
   ]
  },
  {
   "cell_type": "code",
   "execution_count": null,
   "metadata": {
    "slideshow": {
     "slide_type": "fragment"
    }
   },
   "outputs": [],
   "source": [
    "mod = Samuelson(a=0.7, b=0.95, σ=5.0)\n",
    "c, i, y = mod.simulate(y0m1=100.0, y0m2=75.0, G=50.0, T=1_000)\n",
    "\n",
    "mod.behavior()\n",
    "\n",
    "mod.plot(c, i, y);"
   ]
  },
  {
   "cell_type": "code",
   "execution_count": null,
   "metadata": {
    "scrolled": false,
    "slideshow": {
     "slide_type": "fragment"
    }
   },
   "outputs": [],
   "source": [
    "mod = Samuelson(a=0.7, b=1.0, σ=25.0)\n",
    "c, i, y = mod.simulate(y0m1=100.0, y0m2=75.0, G=50.0, T=100)\n",
    "\n",
    "mod.behavior()\n",
    "\n",
    "mod.plot(c, i, y);"
   ]
  },
  {
   "cell_type": "code",
   "execution_count": null,
   "metadata": {
    "slideshow": {
     "slide_type": "fragment"
    }
   },
   "outputs": [],
   "source": [
    "mod = Samuelson(a=0.7, b=0.0, σ=5.0)\n",
    "c, i, y = mod.simulate(y0m1=100.0, y0m2=75.0, G=50.0, T=100)\n",
    "\n",
    "mod.behavior()\n",
    "\n",
    "mod.plot(c, i, y);"
   ]
  },
  {
   "cell_type": "markdown",
   "metadata": {
    "slideshow": {
     "slide_type": "slide"
    }
   },
   "source": [
    "### What is an impulse response function?\n",
    "\n",
    "An [impulse response](https://en.wikipedia.org/wiki/Impulse_response) originally comes from signal processing where they explored what happens to a dynamic system which received a brief input signal.\n",
    "\n",
    "In economics (and other fields), we use it in a similar fashion -- We explore what happens in response to a single \"shock\" (exogenous change to our mathematical system).\n",
    "\n",
    "One typically beings the system in the steady state prior to the exogenous change."
   ]
  },
  {
   "cell_type": "markdown",
   "metadata": {
    "slideshow": {
     "slide_type": "fragment"
    }
   },
   "source": [
    "In this case, an IRF is the time-series of our endogenous variables, $\\{C_t\\}, \\{I_t\\}, \\{Y_t\\}$, given an exogenous shock which, in this case, will be,\n",
    "\n",
    "$$\\varepsilon_t = \\begin{cases} 1.0 \\quad \\text{if } t=0 \\\\ 0.0 \\quad \\text{else}\\end{cases}$$\n"
   ]
  },
  {
   "cell_type": "code",
   "execution_count": null,
   "metadata": {
    "slideshow": {
     "slide_type": "fragment"
    }
   },
   "outputs": [],
   "source": [
    "mod = Samuelson(a=0.7, b=0.95, σ=5.0)\n",
    "G = 50.0\n",
    "yss = mod.Y_ss(G)\n",
    "\n",
    "c, i, y = mod.irf(y0m1=yss, y0m2=yss, G=G, T=250)\n",
    "\n",
    "mod.plot(c, i, y);"
   ]
  },
  {
   "cell_type": "code",
   "execution_count": null,
   "metadata": {
    "slideshow": {
     "slide_type": "fragment"
    }
   },
   "outputs": [],
   "source": [
    "mod = Samuelson(a=0.7, b=0.0, σ=5.0)\n",
    "G = 50.0\n",
    "yss = mod.Y_ss(G)\n",
    "\n",
    "c, i, y = mod.irf(y0m1=yss, y0m2=yss, G=G, T=100)\n",
    "\n",
    "mod.plot(c, i, y);"
   ]
  },
  {
   "cell_type": "markdown",
   "metadata": {
    "slideshow": {
     "slide_type": "subslide"
    }
   },
   "source": [
    "## Government Spending\n",
    "\n",
    "This function computes a response to either a permanent or one-off increase\n",
    "in government expenditures"
   ]
  },
  {
   "cell_type": "code",
   "execution_count": null,
   "metadata": {
    "slideshow": {
     "slide_type": "-"
    }
   },
   "outputs": [],
   "source": [
    "mod = Samuelson(a=0.7, b=.95, σ=5.0)\n",
    "\n",
    "G_before = 50.0\n",
    "G_after = 100.0\n",
    "T_change = 50\n",
    "T = 250\n",
    "\n",
    "yss = mod.Y_ss(G)"
   ]
  },
  {
   "cell_type": "markdown",
   "metadata": {
    "slideshow": {
     "slide_type": "subslide"
    }
   },
   "source": [
    "A permanent government spending shock can be simulated as follows"
   ]
  },
  {
   "cell_type": "code",
   "execution_count": null,
   "metadata": {
    "hide-output": false,
    "slideshow": {
     "slide_type": "-"
    }
   },
   "outputs": [],
   "source": [
    "G_permanent = G_before*np.ones(T)\n",
    "G_permanent[T_change:] = G_after\n",
    "\n",
    "c, i, y = mod.simulate(yss, yss, G_permanent, T)\n",
    "\n",
    "mod.plot(c, i, y);"
   ]
  },
  {
   "cell_type": "markdown",
   "metadata": {
    "slideshow": {
     "slide_type": "subslide"
    }
   },
   "source": [
    "We can also see the response to a one time jump in government expenditures"
   ]
  },
  {
   "cell_type": "code",
   "execution_count": null,
   "metadata": {
    "hide-output": false,
    "slideshow": {
     "slide_type": "-"
    }
   },
   "outputs": [],
   "source": [
    "G_onetime = G_before*np.ones(T)\n",
    "G_onetime[T_change] = G_after\n",
    "\n",
    "c, i, y = mod.simulate(yss, yss, G_onetime, T)\n",
    "\n",
    "mod.plot(c, i, y);"
   ]
  }
 ],
 "metadata": {
  "celltoolbar": "Slideshow",
  "date": 1603941894.0320876,
  "filename": "samuelson.rst",
  "kernelspec": {
   "display_name": "Python 3",
   "language": "python",
   "name": "python3"
  },
  "language_info": {
   "codemirror_mode": {
    "name": "ipython",
    "version": 3
   },
   "file_extension": ".py",
   "mimetype": "text/x-python",
   "name": "python",
   "nbconvert_exporter": "python",
   "pygments_lexer": "ipython3",
   "version": "3.8.8"
  },
  "next_doc": {
   "link": "kesten_processes",
   "title": "Kesten Processes and Firm Dynamics"
  },
  "prev_doc": {
   "link": "linear_models",
   "title": "Linear State Space Models"
  },
  "title": "Application: The Samuelson Multiplier-Accelerator"
 },
 "nbformat": 4,
 "nbformat_minor": 2
}
