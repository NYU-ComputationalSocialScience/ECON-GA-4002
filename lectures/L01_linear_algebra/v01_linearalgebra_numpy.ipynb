{
 "cells": [
  {
   "cell_type": "markdown",
   "metadata": {
    "slideshow": {
     "slide_type": "slide"
    }
   },
   "source": [
    "# Introduction to Numpy\n",
    "\n",
    "**Prerequisites**\n",
    "\n",
    "- [Python Fundamentals](../python_fundamentals/index.ipynb)  \n",
    "\n",
    "\n",
    "**Outcomes**\n",
    "\n",
    "- Understand basics about numpy arrays  \n",
    "- Index into multi-dimensional arrays  \n",
    "- Use universal functions/broadcasting to do element-wise operations on arrays  "
   ]
  },
  {
   "cell_type": "markdown",
   "metadata": {
    "slideshow": {
     "slide_type": "slide"
    }
   },
   "source": [
    "## Numpy Arrays\n",
    "\n",
    "Now that we have learned the fundamentals of programming in Python, we will learn how we can use Python\n",
    "to perform the computations required in data science and economics. We call these the “scientific Python tools”.\n",
    "\n",
    "The foundational library that helps us perform these computations is known as `numpy` (numerical\n",
    "Python).\n",
    "\n",
    "Numpy’s core contribution is a new data-type called an *array*.\n",
    "\n",
    "An array is similar to a list, but numpy imposes some additional restrictions on how the data inside is organized.\n",
    "\n",
    "These restrictions allow numpy to\n",
    "\n",
    "1. Be more efficient in performing mathematical and scientific computations.  \n",
    "1. Expose functions that allow numpy to do the necessary linear algebra for machine learning and statistics.  \n",
    "\n",
    "\n",
    "Before we get started, please note that the convention for importing the numpy package is to use the\n",
    "nickname `np`:"
   ]
  },
  {
   "cell_type": "code",
   "execution_count": null,
   "metadata": {
    "hide-output": false,
    "slideshow": {
     "slide_type": "-"
    }
   },
   "outputs": [],
   "source": [
    "import numpy as np\n"
   ]
  },
  {
   "cell_type": "markdown",
   "metadata": {
    "slideshow": {
     "slide_type": "slide"
    }
   },
   "source": [
    "### What is an Array?\n",
    "\n",
    "An array is a multi-dimensional grid of values.\n",
    "\n",
    "What does this mean? It is easier to demonstrate than to explain.\n",
    "\n",
    "In this block of code, we build a 1-dimensional array."
   ]
  },
  {
   "cell_type": "code",
   "execution_count": null,
   "metadata": {
    "hide-output": false,
    "slideshow": {
     "slide_type": "-"
    }
   },
   "outputs": [],
   "source": [
    "# create an array from a list\n",
    "x_1d = np.array([1, 2, 3])\n",
    "print(x_1d)\n"
   ]
  },
  {
   "cell_type": "markdown",
   "metadata": {
    "slideshow": {
     "slide_type": "subslide"
    }
   },
   "source": [
    "You can think of a 1-dimensional array as a list of numbers."
   ]
  },
  {
   "cell_type": "code",
   "execution_count": null,
   "metadata": {
    "hide-output": false,
    "slideshow": {
     "slide_type": "-"
    }
   },
   "outputs": [],
   "source": [
    "# We can index like we did with lists\n",
    "print(x_1d[0])\n",
    "print(x_1d[0:2])\n"
   ]
  },
  {
   "cell_type": "markdown",
   "metadata": {
    "slideshow": {
     "slide_type": "subslide"
    }
   },
   "source": [
    "Note that the range of indices does not include the end-point, that\n",
    "is"
   ]
  },
  {
   "cell_type": "code",
   "execution_count": null,
   "metadata": {
    "hide-output": false,
    "slideshow": {
     "slide_type": "-"
    }
   },
   "outputs": [],
   "source": [
    "print(x_1d[0:3] == x_1d[:])\n",
    "print(x_1d[0:2])\n"
   ]
  },
  {
   "cell_type": "markdown",
   "metadata": {
    "slideshow": {
     "slide_type": "subslide"
    }
   },
   "source": [
    "The differences emerge as we move into higher dimensions.\n",
    "\n",
    "Next, we define a 2-dimensional array (a matrix)"
   ]
  },
  {
   "cell_type": "code",
   "execution_count": null,
   "metadata": {},
   "outputs": [],
   "source": [
    "[[1, 2, 3], [4, 5, 6], [7, 8, 9]]"
   ]
  },
  {
   "cell_type": "code",
   "execution_count": null,
   "metadata": {
    "hide-output": false,
    "slideshow": {
     "slide_type": "-"
    }
   },
   "outputs": [],
   "source": [
    "x_2d = np.array([[1, 2, 3], [4, 5, 6], [7, 8, 9]])\n",
    "print(x_2d)\n"
   ]
  },
  {
   "cell_type": "markdown",
   "metadata": {
    "slideshow": {
     "slide_type": "subslide"
    }
   },
   "source": [
    "Notice that the data is no longer represented as something flat, but rather,\n",
    "as three rows and three columns of numbers.\n",
    "\n",
    "The first question that you might ask yourself is: “how do I access the values in this array?”\n",
    "\n",
    "You access each element by specifying a row first and then a column. For\n",
    "example, if we wanted to access the `6`, we would ask for the (1, 2) element."
   ]
  },
  {
   "cell_type": "code",
   "execution_count": null,
   "metadata": {
    "hide-output": false,
    "slideshow": {
     "slide_type": "-"
    }
   },
   "outputs": [],
   "source": [
    "print(x_2d)\n",
    "print(x_2d[1, 2])  # Indexing into two dimensions!\n"
   ]
  },
  {
   "cell_type": "markdown",
   "metadata": {
    "slideshow": {
     "slide_type": "subslide"
    }
   },
   "source": [
    "Or to get the top left corner…"
   ]
  },
  {
   "cell_type": "code",
   "execution_count": null,
   "metadata": {
    "hide-output": false,
    "slideshow": {
     "slide_type": "-"
    }
   },
   "outputs": [],
   "source": [
    "print(x_2d)\n",
    "print(x_2d[0, 0])  # Indexing into two dimensions!\n"
   ]
  },
  {
   "cell_type": "markdown",
   "metadata": {
    "slideshow": {
     "slide_type": "subslide"
    }
   },
   "source": [
    "To get the first, and then second rows…"
   ]
  },
  {
   "cell_type": "code",
   "execution_count": null,
   "metadata": {
    "hide-output": false,
    "slideshow": {
     "slide_type": "-"
    }
   },
   "outputs": [],
   "source": [
    "print(x_2d)\n",
    "print(x_2d[0, :])\n",
    "print(x_2d[1, :])\n"
   ]
  },
  {
   "cell_type": "markdown",
   "metadata": {
    "slideshow": {
     "slide_type": "subslide"
    }
   },
   "source": [
    "Or the columns…"
   ]
  },
  {
   "cell_type": "code",
   "execution_count": null,
   "metadata": {
    "hide-output": false,
    "slideshow": {
     "slide_type": "-"
    }
   },
   "outputs": [],
   "source": [
    "print(x_2d)\n",
    "print(x_2d[:, 0])\n",
    "print(x_2d[:, 1])\n"
   ]
  },
  {
   "cell_type": "markdown",
   "metadata": {
    "slideshow": {
     "slide_type": "subslide"
    }
   },
   "source": [
    "This continues to generalize, since numpy gives us as many dimensions as we want in an array.\n",
    "\n",
    "For example, we build a 3-dimensional array below."
   ]
  },
  {
   "cell_type": "code",
   "execution_count": null,
   "metadata": {
    "hide-output": false,
    "slideshow": {
     "slide_type": "-"
    }
   },
   "outputs": [],
   "source": [
    "x_3d_list = [[[1, 2, 3], [4, 5, 6]], [[10, 20, 30], [40, 50, 60]]]\n",
    "x_3d = np.array(x_3d_list)\n",
    "print(x_3d)\n"
   ]
  },
  {
   "cell_type": "markdown",
   "metadata": {
    "slideshow": {
     "slide_type": "slide"
    }
   },
   "source": [
    "#### Array Indexing\n",
    "\n",
    "Now that there are multiple dimensions, indexing might feel somewhat non-obvious.\n",
    "\n",
    "Do the rows or columns come first? In higher dimensions, what is the order of\n",
    "the index?\n",
    "\n",
    "Notice that the array is built using a list of lists (you could also use tuples!).\n",
    "\n",
    "Indexing into the array will correspond to choosing elements from each list.\n",
    "\n",
    "First, notice that the dimensions give two stacked matrices, which we can access with"
   ]
  },
  {
   "cell_type": "code",
   "execution_count": null,
   "metadata": {
    "hide-output": false,
    "slideshow": {
     "slide_type": "-"
    }
   },
   "outputs": [],
   "source": [
    "print(x_3d)\n",
    "print(x_3d[0])\n",
    "print(x_3d[1])\n"
   ]
  },
  {
   "cell_type": "markdown",
   "metadata": {
    "slideshow": {
     "slide_type": "subslide"
    }
   },
   "source": [
    "In the case of the first, it is synonymous with"
   ]
  },
  {
   "cell_type": "code",
   "execution_count": null,
   "metadata": {
    "hide-output": false,
    "slideshow": {
     "slide_type": "-"
    }
   },
   "outputs": [],
   "source": [
    "print(x_3d)\n",
    "print(x_3d[0, :, :])\n"
   ]
  },
  {
   "cell_type": "markdown",
   "metadata": {
    "slideshow": {
     "slide_type": "subslide"
    }
   },
   "source": [
    "Let’s work through another example to further clarify this concept with our\n",
    "3-dimensional array.\n",
    "\n",
    "Our goal will be to find the index that retrieves the `4` out of `x_3d`.\n",
    "\n",
    "Recall that when we created `x_3d`, we used the list `[[[1, 2, 3], [4, 5, 6]], [[10, 20, 30], [40, 50, 60]]]`.\n",
    "\n",
    "Notice that the 0 element of that list is `[[1, 2, 3], [4, 5, 6]]`. This is the\n",
    "list that contains the `4` so the first index we would use is a 0."
   ]
  },
  {
   "cell_type": "code",
   "execution_count": null,
   "metadata": {
    "hide-output": false,
    "slideshow": {
     "slide_type": "-"
    }
   },
   "outputs": [],
   "source": [
    "print(f\"The 0 element is {x_3d_list[0]}\")\n",
    "print(f\"The 1 element is {x_3d_list[1]}\")\n"
   ]
  },
  {
   "cell_type": "markdown",
   "metadata": {
    "slideshow": {
     "slide_type": "fragment"
    }
   },
   "source": [
    "We then move to the next lists which were the 0 element of the inner-most dimension. Notice that\n",
    "the two lists at this level `[1, 2, 3]` and `[4, 5, 6]`.\n",
    "\n",
    "The 4 is in the second 1 element (index `1`), so the second index we would choose is 1."
   ]
  },
  {
   "cell_type": "code",
   "execution_count": null,
   "metadata": {
    "hide-output": false,
    "slideshow": {
     "slide_type": "-"
    }
   },
   "outputs": [],
   "source": [
    "print(f\"The 0 element of the 0 element is {x_3d_list[0][0]}\")\n",
    "print(f\"The 1 element of the 0 element is {x_3d_list[0][1]}\")\n"
   ]
  },
  {
   "cell_type": "markdown",
   "metadata": {
    "slideshow": {
     "slide_type": "fragment"
    }
   },
   "source": [
    "Finally, we move to the outer-most dimension, which has a list of numbers\n",
    "`[4, 5, 6]`.\n",
    "\n",
    "The 4 is element 0 of this list, so the third, or outer-most index, would be `0`."
   ]
  },
  {
   "cell_type": "code",
   "execution_count": null,
   "metadata": {
    "hide-output": false,
    "slideshow": {
     "slide_type": "-"
    }
   },
   "outputs": [],
   "source": [
    "print(f\"The 0 element of the 1 element of the 0 element is {x_3d_list[0][1][0]}\")\n"
   ]
  },
  {
   "cell_type": "markdown",
   "metadata": {
    "slideshow": {
     "slide_type": "subslide"
    }
   },
   "source": [
    "Now we can use these same indices to index into the array. With an array, we can index using a single operation rather than repeated indexing as we did with the list `x_3d_list[0][1][0]`.\n",
    "\n",
    "Let’s test it to see whether we did it correctly!"
   ]
  },
  {
   "cell_type": "code",
   "execution_count": null,
   "metadata": {},
   "outputs": [],
   "source": [
    "x_3d"
   ]
  },
  {
   "cell_type": "code",
   "execution_count": null,
   "metadata": {
    "hide-output": false,
    "slideshow": {
     "slide_type": "-"
    }
   },
   "outputs": [],
   "source": [
    "print(x_3d_list[0][1][0])\n",
    "print(x_3d[0, 1, 0])\n"
   ]
  },
  {
   "cell_type": "markdown",
   "metadata": {
    "slideshow": {
     "slide_type": "subslide"
    }
   },
   "source": [
    "Success! Let's take a minute to work through some exercises to make sure that we understand indexing.\n",
    "\n",
    "**Exercise 1**\n",
    "\n",
    "Try indexing into another element of your choice from the\n",
    "3-dimensional array.\n",
    "\n",
    "Building an understanding of indexing means working through this\n",
    "type of operation several times -- without skipping steps!"
   ]
  },
  {
   "cell_type": "code",
   "execution_count": null,
   "metadata": {},
   "outputs": [],
   "source": [
    "x_3d"
   ]
  },
  {
   "cell_type": "code",
   "execution_count": null,
   "metadata": {
    "slideshow": {
     "slide_type": "-"
    }
   },
   "outputs": [],
   "source": [
    "# Find the 50\n",
    "x_3d[1, 1, 1]\n"
   ]
  },
  {
   "cell_type": "markdown",
   "metadata": {
    "slideshow": {
     "slide_type": "-"
    }
   },
   "source": [
    "**Exercise 2**\n",
    "\n",
    "Look at the 2-dimensional array `x_2d`.\n",
    "\n",
    "Does the inner-most index correspond to rows or columns? What does the\n",
    "outer-most index correspond to?\n",
    "\n",
    "Write your thoughts."
   ]
  },
  {
   "cell_type": "markdown",
   "metadata": {},
   "source": [
    "* Inner-most refers to the index closest to the variable\n",
    "* In `numpy` the inner-most index selects which row because `[[1, 2, 3], [4, 5, 6], [7, 8, 9]]` because of the order in which the numbers are stored in the array"
   ]
  },
  {
   "cell_type": "code",
   "execution_count": null,
   "metadata": {
    "slideshow": {
     "slide_type": "-"
    }
   },
   "outputs": [],
   "source": [
    "x_2d[0, 2]\n"
   ]
  },
  {
   "cell_type": "markdown",
   "metadata": {
    "slideshow": {
     "slide_type": "subslide"
    }
   },
   "source": [
    "We can also select multiple elements at a time – this is called slicing.\n",
    "\n",
    "If we wanted to have an array with just `[1, 2, 3]` then we would do"
   ]
  },
  {
   "cell_type": "code",
   "execution_count": null,
   "metadata": {
    "hide-output": false,
    "slideshow": {
     "slide_type": "-"
    }
   },
   "outputs": [],
   "source": [
    "print(x_3d[0, 0, :])\n"
   ]
  },
  {
   "cell_type": "markdown",
   "metadata": {
    "slideshow": {
     "slide_type": "subslide"
    }
   },
   "source": [
    "Notice that we put a `:` on the dimension where we want to select all of the elements. We can also\n",
    "slice out subsets of the elements by doing `start:stop+1`.\n",
    "\n",
    "Notice how the following arrays differ."
   ]
  },
  {
   "cell_type": "code",
   "execution_count": null,
   "metadata": {
    "hide-output": false,
    "slideshow": {
     "slide_type": "-"
    }
   },
   "outputs": [],
   "source": [
    "print(x_3d)\n",
    "print(x_3d[:, 0, :])\n",
    "print(x_3d[:, 0, 0:2])\n",
    "print(x_3d[:, 0, :2])  # the 0  in 0:2 is optional\n"
   ]
  },
  {
   "cell_type": "markdown",
   "metadata": {
    "slideshow": {
     "slide_type": "subslide"
    }
   },
   "source": [
    "**Exercise 3**\n",
    "\n",
    "What would you do to extract the array `[[5, 6], [50, 60]]` from `x_3d`?"
   ]
  },
  {
   "cell_type": "code",
   "execution_count": null,
   "metadata": {},
   "outputs": [],
   "source": [
    "x_3d[:, 1, 1:3]\n"
   ]
  },
  {
   "cell_type": "markdown",
   "metadata": {
    "slideshow": {
     "slide_type": "slide"
    }
   },
   "source": [
    "### Array Functionality"
   ]
  },
  {
   "cell_type": "markdown",
   "metadata": {
    "slideshow": {
     "slide_type": "subslide"
    }
   },
   "source": [
    "#### Array Properties\n",
    "\n",
    "All numpy arrays have various useful properties.\n",
    "\n",
    "Properties are similar to methods in that they’re accessed through\n",
    "the “dot notation.” However, they aren’t a function so we don’t need parentheses.\n",
    "\n",
    "The two most frequently used properties are `shape` and `dtype`.\n",
    "\n",
    "`shape` tells us how many elements are in each array dimension.\n",
    "\n",
    "`dtype` tells us the types of an array’s elements.\n",
    "\n",
    "Let’s do some examples to see these properties in action."
   ]
  },
  {
   "cell_type": "code",
   "execution_count": null,
   "metadata": {
    "hide-output": false,
    "slideshow": {
     "slide_type": "-"
    }
   },
   "outputs": [],
   "source": [
    "x = np.array([[1, 2, 3], [4, 5, 6]])\n",
    "print(x)\n",
    "print(x.shape)\n",
    "print(x.dtype)\n"
   ]
  },
  {
   "cell_type": "markdown",
   "metadata": {
    "slideshow": {
     "slide_type": "subslide"
    }
   },
   "source": [
    "We’ll use this to practice unpacking a tuple, like `x.shape`, directly into variables."
   ]
  },
  {
   "cell_type": "code",
   "execution_count": null,
   "metadata": {
    "hide-output": false,
    "slideshow": {
     "slide_type": "-"
    }
   },
   "outputs": [],
   "source": [
    "rows, columns = x.shape\n",
    "print(f\"rows = {rows}, columns = {columns}\")\n"
   ]
  },
  {
   "cell_type": "code",
   "execution_count": null,
   "metadata": {
    "hide-output": false,
    "slideshow": {
     "slide_type": "subslide"
    }
   },
   "outputs": [],
   "source": [
    "x = np.array([True, False, True])\n",
    "print(x.shape)\n",
    "print(x.dtype)\n"
   ]
  },
  {
   "cell_type": "markdown",
   "metadata": {
    "slideshow": {
     "slide_type": "-"
    }
   },
   "source": [
    "Note that in the above, the `(3,)` represents a tuple of length 1, distinct from a scalar integer `3`."
   ]
  },
  {
   "cell_type": "code",
   "execution_count": null,
   "metadata": {
    "hide-output": false,
    "slideshow": {
     "slide_type": "subslide"
    }
   },
   "outputs": [],
   "source": [
    "x = np.array([\n",
    "    [[1.0, 2.0], [3.0, 4.0], [5.0, 6.0]],\n",
    "    [[7.0, 8.0], [9.0, 10.0], [11.0, 12.0]]\n",
    "])\n",
    "print(x.shape)\n",
    "print(x.dtype)\n"
   ]
  },
  {
   "cell_type": "markdown",
   "metadata": {
    "slideshow": {
     "slide_type": "slide"
    }
   },
   "source": [
    "#### Creating Arrays\n",
    "\n",
    "It’s usually impractical to define arrays by hand as we have done so far.\n",
    "\n",
    "We’ll often need to create an array with default values and then fill it\n",
    "with other values.\n",
    "\n",
    "We can create arrays with the functions `np.zeros` and `np.ones`.\n",
    "\n",
    "Both functions take a tuple that denotes the shape of an array and creates an\n",
    "array filled with 0s or 1s respectively."
   ]
  },
  {
   "cell_type": "code",
   "execution_count": null,
   "metadata": {
    "hide-output": false,
    "slideshow": {
     "slide_type": "-"
    }
   },
   "outputs": [],
   "source": [
    "sizes = (2, 3, 4)\n",
    "x = np.zeros(sizes) # note, a tuple!\n",
    "x\n"
   ]
  },
  {
   "cell_type": "code",
   "execution_count": null,
   "metadata": {
    "hide-output": false,
    "slideshow": {
     "slide_type": "-"
    }
   },
   "outputs": [],
   "source": [
    "y = np.ones((4))\n",
    "y\n"
   ]
  },
  {
   "cell_type": "markdown",
   "metadata": {
    "slideshow": {
     "slide_type": "slide"
    }
   },
   "source": [
    "#### Broadcasting Operations\n",
    "\n",
    "Two types of operations that will be useful for arrays of any dimension are:\n",
    "\n",
    "1. Operations between an array and a single number.  \n",
    "1. Operations between two arrays of the same shape.  \n",
    "\n",
    "\n",
    "When we perform operations on an array by using a single number, we simply apply that operation to every element of the array."
   ]
  },
  {
   "cell_type": "code",
   "execution_count": null,
   "metadata": {
    "hide-output": false,
    "slideshow": {
     "slide_type": "-"
    }
   },
   "outputs": [],
   "source": [
    "# Using np.ones to create an array\n",
    "x = np.ones((2, 2))\n",
    "print(\"x = \", x)\n",
    "print(\"2 + x = \", 2 + x)\n",
    "print(\"2 - x = \", 2 - x)\n",
    "print(\"2 * x = \", 2 * x)\n",
    "print(\"x / 2 = \", x / 2)\n"
   ]
  },
  {
   "cell_type": "markdown",
   "metadata": {
    "slideshow": {
     "slide_type": "subslide"
    }
   },
   "source": [
    "**Exercise 4**\n",
    "\n",
    "Do you recall what multiplication by an integer did for lists?\n",
    "\n",
    "How does this differ?"
   ]
  },
  {
   "cell_type": "code",
   "execution_count": null,
   "metadata": {},
   "outputs": [],
   "source": [
    "np.array([1, 2, 3])*2"
   ]
  },
  {
   "cell_type": "code",
   "execution_count": null,
   "metadata": {
    "slideshow": {
     "slide_type": "-"
    }
   },
   "outputs": [],
   "source": [
    "[2*x for x in [1, 2, 3]]\n"
   ]
  },
  {
   "cell_type": "markdown",
   "metadata": {
    "slideshow": {
     "slide_type": "subslide"
    }
   },
   "source": [
    "Operations between two arrays of the same size, in this case `(2, 2)`, simply apply the operation\n",
    "element-wise between the arrays."
   ]
  },
  {
   "cell_type": "code",
   "execution_count": null,
   "metadata": {
    "hide-output": false,
    "slideshow": {
     "slide_type": "-"
    }
   },
   "outputs": [],
   "source": [
    "x = np.array([[1.0, 2.0], [3.0, 4.0]])\n",
    "y = np.ones((2, 2))\n",
    "print(\"x = \", x)\n",
    "print(\"y = \", y)\n",
    "print(\"x + y = \", x + y)\n",
    "print(\"x - y\", x - y)\n",
    "print(\"(elementwise) x * y = \", x * y)\n",
    "print(\"(elementwise) x / y = \", x / y)\n"
   ]
  },
  {
   "cell_type": "markdown",
   "metadata": {
    "slideshow": {
     "slide_type": "subslide"
    }
   },
   "source": [
    "### Universal Functions\n",
    "\n",
    "We will often need to transform data by applying a function to every element of an array.\n",
    "\n",
    "Numpy has good support for these operations, called *universal functions* or ufuncs for short.\n",
    "\n",
    "The\n",
    "[numpy documentation](https://docs.scipy.org/doc/numpy/reference/ufuncs.html?highlight=ufunc#available-ufuncs)\n",
    "has a list of all available ufuncs.\n",
    "\n",
    ">**Note**\n",
    ">\n",
    ">You should think of operations between a single number and an array, as we\n",
    "just saw, as a ufunc.\n",
    "\n",
    "Below, we will create an array that contains 10 points between 0.5 and 25."
   ]
  },
  {
   "cell_type": "code",
   "execution_count": null,
   "metadata": {
    "hide-output": false,
    "slideshow": {
     "slide_type": "-"
    }
   },
   "outputs": [],
   "source": [
    "# This is similar to range -- but spits out 50 evenly spaced points from 0.5\n",
    "# to 25.\n",
    "x = np.linspace(0.5, 25, 10)\n"
   ]
  },
  {
   "cell_type": "markdown",
   "metadata": {
    "slideshow": {
     "slide_type": "subslide"
    }
   },
   "source": [
    "We will experiment with some ufuncs below:"
   ]
  },
  {
   "cell_type": "code",
   "execution_count": null,
   "metadata": {
    "hide-output": false,
    "slideshow": {
     "slide_type": "-"
    }
   },
   "outputs": [],
   "source": [
    "# Applies the sin function to each element of x\n",
    "np.sin(x)\n"
   ]
  },
  {
   "cell_type": "markdown",
   "metadata": {
    "slideshow": {
     "slide_type": "subslide"
    }
   },
   "source": [
    "Of course, we could do the same thing with a comprehension, but\n",
    "the code would be both less readable and less efficient."
   ]
  },
  {
   "cell_type": "code",
   "execution_count": null,
   "metadata": {
    "hide-output": false,
    "slideshow": {
     "slide_type": "-"
    }
   },
   "outputs": [],
   "source": [
    "np.array([np.sin(xval) for xval in x])\n"
   ]
  },
  {
   "cell_type": "markdown",
   "metadata": {
    "slideshow": {
     "slide_type": "subslide"
    }
   },
   "source": [
    "You can use the inspector or the docstrings with `np.<TAB>` to see other available functions, such as"
   ]
  },
  {
   "cell_type": "code",
   "execution_count": null,
   "metadata": {
    "hide-output": false,
    "slideshow": {
     "slide_type": "-"
    }
   },
   "outputs": [],
   "source": [
    "# Takes log of each element of x\n",
    "np.log(x)\n"
   ]
  },
  {
   "cell_type": "markdown",
   "metadata": {
    "slideshow": {
     "slide_type": "subslide"
    }
   },
   "source": [
    "A benefit of using the numpy arrays is that numpy has succinct code for combining vectorized operations."
   ]
  },
  {
   "cell_type": "code",
   "execution_count": null,
   "metadata": {
    "hide-output": false,
    "slideshow": {
     "slide_type": "-"
    }
   },
   "outputs": [],
   "source": [
    "# Calculate log(z) * z elementwise\n",
    "z = np.array([1, 2, 3])\n",
    "np.log(z) * z\n"
   ]
  },
  {
   "cell_type": "markdown",
   "metadata": {
    "slideshow": {
     "slide_type": "subslide"
    }
   },
   "source": [
    "**Exercise 5**\n",
    "\n",
    "Let's revisit a bond pricing example we saw in the summer lecture on control flow.\n",
    "\n",
    "Recall that the equation for pricing a bond with coupon payment $ C $,\n",
    "face value $ M $, yield to maturity $ i $, and periods to maturity\n",
    "$ N $ is\n",
    "\n",
    "$$\n",
    "\\begin{align*}\n",
    "    P &= \\left(\\sum_{n=1}^N \\frac{C}{(i+1)^n}\\right) + \\frac{M}{(1+i)^N} \\\\\n",
    "      &= C \\left(\\frac{1 - (1+i)^{-N}}{i} \\right) + M(1+i)^{-N}\n",
    "\\end{align*}\n",
    "$$\n",
    "\n",
    "In the code cell below, we have defined variables for `i`, `M` and `C`.\n",
    "\n",
    "You have two tasks:\n",
    "\n",
    "1. Define a numpy array `N` that contains all maturities between 1 and 10 (*hint* look at the `np.arange` function).  \n",
    "1. Using the equation above, determine the bond prices of all maturity levels in your array."
   ]
  },
  {
   "cell_type": "code",
   "execution_count": null,
   "metadata": {
    "slideshow": {
     "slide_type": "-"
    }
   },
   "outputs": [],
   "source": [
    "i = 0.03\n",
    "M = 100\n",
    "C = 5\n",
    "\n",
    "# Define array here\n",
    "N = np.arange(1, 11)\n",
    "\n",
    "# price bonds here\n",
    "P = C*(1 - (1 + i)**(-N))/i + M*(1 + i)**(-N)\n",
    "\n",
    "print(np.vstack([N[None, :], P[None, :]]))\n"
   ]
  },
  {
   "cell_type": "markdown",
   "metadata": {
    "slideshow": {
     "slide_type": "slide"
    }
   },
   "source": [
    "### Other Useful Array Operations\n",
    "\n",
    "We have barely scratched the surface of what is possible using numpy arrays.\n",
    "\n",
    "We hope you will experiment with other functions from numpy and see how they\n",
    "work.\n",
    "\n",
    "Below, we demonstrate a few more array operations that we find most useful – just to give you an idea\n",
    "of what else you might find.\n",
    "\n",
    "When you’re attempting to do an operation that you feel should be common, the numpy library probably has it.\n",
    "\n",
    "Use Google and tab completion to check this."
   ]
  },
  {
   "cell_type": "code",
   "execution_count": null,
   "metadata": {
    "hide-output": false,
    "slideshow": {
     "slide_type": "-"
    }
   },
   "outputs": [],
   "source": [
    "x = np.linspace(0, 25, 10)\n"
   ]
  },
  {
   "cell_type": "code",
   "execution_count": null,
   "metadata": {
    "hide-output": false,
    "slideshow": {
     "slide_type": "-"
    }
   },
   "outputs": [],
   "source": [
    "np.mean(x)\n"
   ]
  },
  {
   "cell_type": "code",
   "execution_count": null,
   "metadata": {
    "hide-output": false,
    "slideshow": {
     "slide_type": "-"
    }
   },
   "outputs": [],
   "source": [
    "np.std(x)\n"
   ]
  },
  {
   "cell_type": "code",
   "execution_count": null,
   "metadata": {
    "hide-output": false,
    "slideshow": {
     "slide_type": "-"
    }
   },
   "outputs": [],
   "source": [
    "# np.min, np.median, etc... are also defined\n",
    "np.max(x)\n"
   ]
  },
  {
   "cell_type": "code",
   "execution_count": null,
   "metadata": {
    "hide-output": false,
    "slideshow": {
     "slide_type": "-"
    }
   },
   "outputs": [],
   "source": [
    "np.diff(x)\n"
   ]
  },
  {
   "cell_type": "code",
   "execution_count": null,
   "metadata": {
    "hide-output": false,
    "slideshow": {
     "slide_type": "-"
    }
   },
   "outputs": [],
   "source": [
    "np.reshape(x, (5, 2))\n"
   ]
  },
  {
   "cell_type": "markdown",
   "metadata": {
    "slideshow": {
     "slide_type": "subslide"
    }
   },
   "source": [
    "Finally, `np.vectorize` can be conveniently used with numpy broadcasting and any functions."
   ]
  },
  {
   "cell_type": "code",
   "execution_count": null,
   "metadata": {
    "hide-output": false,
    "slideshow": {
     "slide_type": "-"
    }
   },
   "outputs": [],
   "source": [
    "np.random.seed(42)\n",
    "x = np.random.rand(10)\n",
    "print(x)\n",
    "\n",
    "def f(val):\n",
    "    if val < 0.3:\n",
    "        return \"low\"\n",
    "    else:\n",
    "        return \"high\"\n",
    "\n",
    "print(f(0.1)) # scalar, no problem\n",
    "# f(x) # array, fails since f() is scalar\n",
    "f_vec = np.vectorize(f)\n",
    "print(f_vec(x))\n"
   ]
  },
  {
   "cell_type": "markdown",
   "metadata": {
    "slideshow": {
     "slide_type": "-"
    }
   },
   "source": [
    "Caution: `np.vectorize` is convenient for numpy broadcasting with any function\n",
    "but is not intended to be high performance.\n",
    "\n",
    "When speed matters, directly write a `f` function to work on arrays."
   ]
  }
 ],
 "metadata": {
  "celltoolbar": "Slideshow",
  "date": 1595397099.706196,
  "download_nb": false,
  "filename": "numpy_arrays.rst",
  "filename_with_path": "scientific/numpy_arrays",
  "kernelspec": {
   "display_name": "Python 3",
   "language": "python",
   "name": "python3"
  },
  "language_info": {
   "codemirror_mode": {
    "name": "ipython",
    "version": 3
   },
   "file_extension": ".py",
   "mimetype": "text/x-python",
   "name": "python",
   "nbconvert_exporter": "python",
   "pygments_lexer": "ipython3",
   "version": "3.8.5"
  },
  "title": "Introduction to Numpy"
 },
 "nbformat": 4,
 "nbformat_minor": 4
}
