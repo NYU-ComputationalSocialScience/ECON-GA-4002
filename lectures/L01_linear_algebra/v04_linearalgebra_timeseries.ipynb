{
 "cells": [
  {
   "cell_type": "markdown",
   "metadata": {},
   "source": [
    "## Analysis of some univariate time series by using matrix algebra\n",
    "\n",
    "\n",
    "Let's  use matrices to solve some (famous) difference equations."
   ]
  },
  {
   "cell_type": "code",
   "execution_count": null,
   "metadata": {},
   "outputs": [],
   "source": [
    "import numpy as np\n",
    "import matplotlib.pyplot as plt\n",
    "%matplotlib inline"
   ]
  },
  {
   "cell_type": "markdown",
   "metadata": {},
   "source": [
    "As our running example, we'll study a **second-order  linear difference equation** that was the key technical tool in \n",
    "Paul Samuelson's 1939 article that introduced the **multiplier-accelerator** model.\n",
    "\n",
    "You can read about details of  that model in this quantecon lecture\n",
    "\n",
    "   https://python.quantecon.org/samuelson.html\n",
    "   \n",
    "(that lecture also describes technicalities about second order linear difference equations)\n",
    "   \n",
    "   \n"
   ]
  },
  {
   "cell_type": "markdown",
   "metadata": {},
   "source": [
    "Let $t = 0, \\pm 1, \\pm 2, \\ldots $ index time.\n",
    "\n",
    "For $t = 1, 2, 3, \\ldots, T$ suppose that\n",
    "\n",
    "$$\n",
    "y_{t} = \\alpha_{0} + \\alpha_{1} y_{t-1} + \\alpha_{2} y_{t-2}\n",
    "\\label{eqn:1} \\tag{1}$$\n",
    "\n",
    "where we assume that $y_0$ and $y_{-1}$ are given numbers that we take as **initial conditions**.  \n",
    "\n",
    "Equation $\\eqref{eqn:1}$ is called a **second-order linear difference equation**.\n",
    "\n",
    "But actually, it is a collection of $T$ simultaneous linear equations in the $T$ variables\n",
    "$y_1, y_2, \\ldots, y_T$.\n",
    "\n",
    "**Note:** To be able to solve a second-order linear difference equations, we require\n",
    "two **boundary conditions**. These can take the form either of two **initial conditions**\n",
    "or two **terminal conditions** or possibly one of each.\n",
    "\n",
    "\n",
    "\n",
    "\n",
    "\n",
    "\n",
    "\n",
    "Let's write our equations as a stacked system\n",
    "\n",
    "$$\n",
    "\\underset{\\equiv A}{\\underbrace{\\left[\\begin{array}{cccccccc}\n",
    "1 & 0 & 0 & 0 & \\cdots & 0 & 0 & 0\\\\\n",
    "-\\alpha_{1} & 1 & 0 & 0 & \\cdots & 0 & 0 & 0\\\\\n",
    "-\\alpha_{2} & -\\alpha_{1} & 1 & 0 & \\cdots & 0 & 0 & 0\\\\\n",
    "0 & -\\alpha_{2} & -\\alpha_{1} & 1 & \\cdots & 0 & 0 & 0\\\\\n",
    "\\vdots & \\vdots & \\vdots & \\vdots & \\cdots & \\vdots & \\vdots & \\vdots\\\\\n",
    "0 & 0 & 0 & 0 & \\cdots & -\\alpha_{2} & -\\alpha_{1} & 1\n",
    "\\end{array}\\right]}}\\left[\\begin{array}{c}\n",
    "y_{1}\\\\\n",
    "y_{2}\\\\\n",
    "y_{3}\\\\\n",
    "y_{4}\\\\\n",
    "\\vdots\\\\\n",
    "y_{T}\n",
    "\\end{array}\\right]=\\underset{\\equiv b}{\\underbrace{\\left[\\begin{array}{c}\n",
    "\\alpha_{0}+\\alpha_{1}y_{0}+\\alpha_{2}y_{-1}\\\\\n",
    "\\alpha_{0}+\\alpha_{2}y_{0}\\\\\n",
    "\\alpha_{0}\\\\\n",
    "\\alpha_{0}\\\\\n",
    "\\vdots\\\\\n",
    "\\alpha_{0}\n",
    "\\end{array}\\right]}}\n",
    "$$\n",
    "\n",
    "\n",
    "or\n",
    "\n",
    "$$ A y = b $$\n",
    "\n",
    "where \n",
    "\n",
    "$$ y = \\begin{bmatrix} y_1 \\cr y_2 \\cr \\cdots \\cr y_T \\end{bmatrix} $$\n",
    "\n",
    "Evidently $y$ can be computed from\n",
    "\n",
    "$$\n",
    "y = A^{-1} b\n",
    "$$\n",
    "\n",
    "The vector $y$ is a complete time path  $\\{y_t\\}_{t=1}^T$.\n",
    "\n",
    "Let's put Python to work on an example that captures the flavor of Samuelson's\n",
    "multiplier-accelerator model."
   ]
  },
  {
   "cell_type": "code",
   "execution_count": null,
   "metadata": {},
   "outputs": [],
   "source": [
    "T = 80\n",
    "\n",
    "# parameters\n",
    "𝛼0 = 10.0\n",
    "𝛼1 = 1.53\n",
    "𝛼2 = -.9\n",
    "\n",
    "y_1 = 28. # y_{-1}\n",
    "y0 = 24."
   ]
  },
  {
   "cell_type": "code",
   "execution_count": null,
   "metadata": {},
   "outputs": [],
   "source": [
    "# construct A and b\n",
    "A = np.zeros((T, T))\n",
    "\n",
    "for i in range(T):\n",
    "    A[i, i] = 1\n",
    "\n",
    "    if i-1 >= 0:\n",
    "        A[i, i-1] = -𝛼1\n",
    "\n",
    "    if i-2 >= 0:\n",
    "        A[i, i-2] = -𝛼2\n",
    "\n",
    "b = np.ones(T) * 𝛼0\n",
    "b[0] = 𝛼0 + 𝛼1 * y0 + 𝛼2 * y_1\n",
    "b[1] = 𝛼0 + 𝛼2 * y0"
   ]
  },
  {
   "cell_type": "markdown",
   "metadata": {},
   "source": [
    "Let's look at the matrix $A$ and the vector $b$ for our example."
   ]
  },
  {
   "cell_type": "code",
   "execution_count": null,
   "metadata": {
    "scrolled": true
   },
   "outputs": [],
   "source": [
    "A, b"
   ]
  },
  {
   "cell_type": "markdown",
   "metadata": {},
   "source": [
    "Now let's solve for the path of $y$.\n",
    "\n",
    "If $y_t$ is GNP at time $t$, then we have a version of Samuelson's model of the\n",
    "dynamics for GNP."
   ]
  },
  {
   "cell_type": "code",
   "execution_count": null,
   "metadata": {},
   "outputs": [],
   "source": [
    "A_inv = np.linalg.inv(A)\n",
    "\n",
    "y = A_inv @ b"
   ]
  },
  {
   "cell_type": "code",
   "execution_count": null,
   "metadata": {},
   "outputs": [],
   "source": [
    "plt.plot(np.arange(T)+1, y)\n",
    "plt.xlabel('t')\n",
    "plt.ylabel('y')\n",
    "\n",
    "plt.show()"
   ]
  },
  {
   "cell_type": "markdown",
   "metadata": {},
   "source": [
    "If we start with\n",
    "\n",
    "$$\n",
    "y_{0} = y_{-1} = \\frac{\\alpha_{0}}{1 - \\alpha_{1} - \\alpha_{2}}\n",
    "$$\n",
    "\n",
    "then $y_{t}$ will be constant"
   ]
  },
  {
   "cell_type": "code",
   "execution_count": null,
   "metadata": {},
   "outputs": [],
   "source": [
    "y_1_steady = 𝛼0 / (1 - 𝛼1 - 𝛼2) # y_{-1}\n",
    "y0_steady = 𝛼0 / (1 - 𝛼1 - 𝛼2)\n",
    "\n",
    "b_steady = np.ones(T) * 𝛼0\n",
    "b_steady[0] = 𝛼0 + 𝛼1 * y0_steady + 𝛼2 * y_1_steady\n",
    "b_steady[1] = 𝛼0 + 𝛼2 * y0_steady"
   ]
  },
  {
   "cell_type": "code",
   "execution_count": null,
   "metadata": {},
   "outputs": [],
   "source": [
    "y_steady = A_inv @ b_steady"
   ]
  },
  {
   "cell_type": "code",
   "execution_count": null,
   "metadata": {},
   "outputs": [],
   "source": [
    "plt.plot(np.arange(T)+1, y_steady)\n",
    "plt.xlabel('t')\n",
    "plt.ylabel('y')\n",
    "\n",
    "plt.show()"
   ]
  },
  {
   "cell_type": "markdown",
   "metadata": {},
   "source": [
    "### Adding a random term"
   ]
  },
  {
   "cell_type": "markdown",
   "metadata": {},
   "source": [
    "Now we'll generate more excitement in the spirit of the great economists\n",
    "Slusky and Frisch by replacing our original second order difference equation with the following **second order stochastic linear difference equation**.\n",
    "\n",
    "\n",
    "$$\n",
    "y_{t} = \\alpha_{0} + \\alpha_{1} y_{t-1} + \\alpha_{2} y_{t-2} + u_t\n",
    "\\label{eqn:2} \\tag{2}$$\n",
    "\n",
    "where $u_{t} \\sim N\\left(0, \\sigma_{u}^{2}\\right)$ and is i.i.d.\n",
    "\n",
    "We'll stack these  $T$ equations into a system cast in terms of matrix algebra. \n",
    "\n",
    "Let's define the random vector\n",
    "\n",
    "$$\n",
    "u=\\left[\\begin{array}{c}\n",
    "u_{1}\\\\\n",
    "u_{2}\\\\\n",
    "\\vdots\\\\\n",
    "u_{T}\n",
    "\\end{array}\\right]\n",
    "$$\n",
    "\n",
    "\n",
    "\n",
    "Where $A, b, y$ are defined as above, now assume that $y$ is governed by the\n",
    "system\n",
    "\n",
    "$$\n",
    "A y = b + u\n",
    "$$\n",
    "\n",
    "The solution for $y$ becomes\n",
    "\n",
    "$$\n",
    "y = A^{-1} \\left(b + u\\right)\n",
    "$$\n",
    "\n",
    "Let's try it out in Python."
   ]
  },
  {
   "cell_type": "code",
   "execution_count": null,
   "metadata": {},
   "outputs": [],
   "source": [
    "𝜎u = 2."
   ]
  },
  {
   "cell_type": "code",
   "execution_count": null,
   "metadata": {},
   "outputs": [],
   "source": [
    "u = np.random.normal(0, 𝜎u, size=T)\n",
    "y = A_inv @ (b + u)"
   ]
  },
  {
   "cell_type": "code",
   "execution_count": null,
   "metadata": {},
   "outputs": [],
   "source": [
    "plt.plot(np.arange(T)+1, y)\n",
    "plt.xlabel('t')\n",
    "plt.ylabel('y')\n",
    "\n",
    "plt.show()"
   ]
  },
  {
   "cell_type": "markdown",
   "metadata": {},
   "source": [
    "The above time series looks a lot like (detrended) GDP series for a number of\n",
    "advanced countries in recent decades.\n",
    "\n",
    "We can simulate $N$ paths."
   ]
  },
  {
   "cell_type": "code",
   "execution_count": null,
   "metadata": {},
   "outputs": [],
   "source": [
    "N = 100\n",
    "\n",
    "for i in range(N):\n",
    "    u = np.random.normal(0, 𝜎u, size=T)\n",
    "    y = A_inv @ (b + u)\n",
    "    plt.plot(np.arange(T)+1, y, lw=0.5)\n",
    "\n",
    "plt.xlabel('t')\n",
    "plt.ylabel('y')\n",
    "\n",
    "plt.show()"
   ]
  },
  {
   "cell_type": "markdown",
   "metadata": {},
   "source": [
    "Also consider the case when $y_{0}$ and $y_{-1}$ are at steady state."
   ]
  },
  {
   "cell_type": "code",
   "execution_count": null,
   "metadata": {},
   "outputs": [],
   "source": [
    "N = 100\n",
    "\n",
    "for i in range(N):\n",
    "    u = np.random.normal(0, 𝜎u, size=T)\n",
    "    y_steady = A_inv @ (b_steady + u)\n",
    "    plt.plot(np.arange(T)+1, y_steady, lw=0.5)\n",
    "\n",
    "plt.xlabel('t')\n",
    "plt.ylabel('y')\n",
    "\n",
    "plt.show()"
   ]
  },
  {
   "cell_type": "markdown",
   "metadata": {},
   "source": [
    "## Forward looking models with linear algebra\n",
    "\n",
    "Samuelson's model is *backwards looking* in a sense.  \n",
    "\n",
    "Let's now turn to a very *forward looking* model.\n",
    "\n",
    "We can apply similar linear algebra machinery to study a **perfect foresight** model widely used as a benchmark in macroeconomics and finance.\n",
    "\n",
    "As an example, we suppose that $p_t$ is  the price of a stock and that $y_t$ is its dividend.\n",
    "\n",
    "We assume that $y_t$ is determined by second-order difference equation that we analyzed just above so that\n",
    "\n",
    "\n",
    "$$\n",
    "y = A^{-1} \\left(b + u\\right)\n",
    "$$"
   ]
  },
  {
   "cell_type": "markdown",
   "metadata": {},
   "source": [
    "Our **perfect foresight** model of stock prices is\n",
    "\n",
    "$$\n",
    "p_{t} = \\sum_{j=0}^{T-t} \\beta^{j} y_{t+j}, \\quad \\beta \\in (0,1)\n",
    "$$\n",
    "\n",
    "where $\\beta $ is a discount factor.\n",
    "\n",
    "The model asserts that the price of the stock at $t$ equals the discounted present\n",
    "values of the (perfectly foreseen) future dividends.  \n",
    "\n",
    "Form\n",
    "\n",
    "$$\n",
    "\\underset{\\equiv p}{\\underbrace{\\left[\\begin{array}{c}\n",
    "p_{1}\\\\\n",
    "p_{2}\\\\\n",
    "p_{3}\\\\\n",
    "\\vdots\\\\\n",
    "p_{T}\n",
    "\\end{array}\\right]}}=\\underset{\\equiv B}{\\underbrace{\\left[\\begin{array}{ccccc}\n",
    "1 & \\beta & \\beta^{2} & \\cdots & \\beta^{T-1}\\\\\n",
    "0 & 1 & \\beta & \\cdots & \\beta^{T-2}\\\\\n",
    "0 & 0 & 1 & \\cdots & \\beta^{T-3}\\\\\n",
    "\\vdots & \\vdots & \\vdots & \\vdots & \\vdots\\\\\n",
    "0 & 0 & 0 & \\cdots & 1\n",
    "\\end{array}\\right]}}\\left[\\begin{array}{c}\n",
    "y_{1}\\\\\n",
    "y_{2}\\\\\n",
    "y_{3}\\\\\n",
    "\\vdots\\\\\n",
    "y_{T}\n",
    "\\end{array}\\right]\n",
    "$$"
   ]
  },
  {
   "cell_type": "code",
   "execution_count": null,
   "metadata": {},
   "outputs": [],
   "source": [
    "𝛽 = .96\n"
   ]
  },
  {
   "cell_type": "code",
   "execution_count": null,
   "metadata": {},
   "outputs": [],
   "source": [
    "# construct B\n",
    "B = np.zeros((T, T))\n",
    "\n",
    "for i in range(T):\n",
    "    B[i, i:] = 𝛽 ** np.arange(0, T-i)"
   ]
  },
  {
   "cell_type": "code",
   "execution_count": null,
   "metadata": {},
   "outputs": [],
   "source": [
    "B"
   ]
  },
  {
   "cell_type": "code",
   "execution_count": null,
   "metadata": {},
   "outputs": [],
   "source": [
    "𝜎u = 0.\n",
    "u = np.random.normal(0, 𝜎u, size=T)\n",
    "y = A_inv @ (b + u)\n",
    "y_steady = A_inv @ (b_steady + u)"
   ]
  },
  {
   "cell_type": "code",
   "execution_count": null,
   "metadata": {},
   "outputs": [],
   "source": [
    "p = B @ y"
   ]
  },
  {
   "cell_type": "code",
   "execution_count": null,
   "metadata": {},
   "outputs": [],
   "source": [
    "plt.plot(np.arange(0, T)+1, y, label='y')\n",
    "plt.plot(np.arange(0, T)+1, p, label='p')\n",
    "plt.xlabel('t')\n",
    "plt.ylabel('y/p')\n",
    "plt.legend()\n",
    "\n",
    "plt.show()"
   ]
  },
  {
   "cell_type": "markdown",
   "metadata": {},
   "source": [
    "Can you explain why the trend of the price is downward over time?  "
   ]
  },
  {
   "cell_type": "markdown",
   "metadata": {},
   "source": [
    "Also consider the case when $y_{0}$ and $y_{-1}$ are at the steady state."
   ]
  },
  {
   "cell_type": "code",
   "execution_count": null,
   "metadata": {},
   "outputs": [],
   "source": [
    "p_steady = B @ y_steady\n",
    "\n",
    "plt.plot(np.arange(0, T)+1, y_steady, label='y')\n",
    "plt.plot(np.arange(0, T)+1, p_steady, label='p')\n",
    "plt.xlabel('t')\n",
    "plt.ylabel('y/p')\n",
    "plt.legend()\n",
    "\n",
    "plt.show()"
   ]
  },
  {
   "cell_type": "code",
   "execution_count": null,
   "metadata": {},
   "outputs": [],
   "source": []
  }
 ],
 "metadata": {
  "kernelspec": {
   "display_name": "Python 3",
   "language": "python",
   "name": "python3"
  },
  "language_info": {
   "codemirror_mode": {
    "name": "ipython",
    "version": 3
   },
   "file_extension": ".py",
   "mimetype": "text/x-python",
   "name": "python",
   "nbconvert_exporter": "python",
   "pygments_lexer": "ipython3",
   "version": "3.8.8"
  }
 },
 "nbformat": 4,
 "nbformat_minor": 4
}
