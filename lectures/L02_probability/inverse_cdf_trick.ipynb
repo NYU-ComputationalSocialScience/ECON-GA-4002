{
 "cells": [
  {
   "cell_type": "markdown",
   "metadata": {},
   "source": [
    "## Inverse cdf trick\n",
    "\n",
    "This notebook draws from a uniform distribution to form draws from a desired target distribution\n",
    "\n",
    "The target distribution is the histogram from a large number of N independent  draws from a gamma distribution\n",
    "\n",
    "It is easy for you to change the \"target distribution\"\n",
    "\n",
    "The next cell creates the target distribution"
   ]
  },
  {
   "cell_type": "code",
   "execution_count": 17,
   "metadata": {},
   "outputs": [
    {
     "data": {
      "image/png": "[encoded data removed]",
      "text/plain": [
       "<Figure size 432x288 with 1 Axes>"
      ]
     },
     "metadata": {
      "needs_background": "light"
     },
     "output_type": "display_data"
    }
   ],
   "source": [
    "import numpy as np\n",
    "import matplotlib.pyplot as plt\n",
    "import pandas as pd\n",
    "\n",
    "# Generate data on commute times.\n",
    "# where commute times are draws from a gamma distribution\n",
    "size, scale = 1000, 10\n",
    "commutes = pd.Series(np.random.gamma(scale, size=size) ** 1.5)\n",
    "\n",
    "commutes.plot.hist(grid=True, bins=20, rwidth=0.9,\n",
    "                   color='#607c8e')\n",
    "plt.title('Commute Times for 1,000 Commuters')\n",
    "plt.xlabel('Counts')\n",
    "plt.ylabel('Commute Time')\n",
    "plt.grid(axis='y', alpha=0.75)"
   ]
  },
  {
   "cell_type": "markdown",
   "metadata": {},
   "source": [
    "### inverse cdf function\n",
    "\n",
    "I borrowed this program from a source on the internet.\n",
    "\n",
    "Also, take a look at this site\n",
    "\n",
    "http://people.duke.edu/~ccc14/sta-663-2016/15A_RandomNumbers.html\n",
    "\n",
    "and\n",
    "\n",
    "http://karlrosaen.com/ml/notebooks/simulating-random-variables/\n",
    "\n"
   ]
  },
  {
   "cell_type": "code",
   "execution_count": 18,
   "metadata": {},
   "outputs": [],
   "source": [
    "import numpy as np\n",
    "import scipy.interpolate as interpolate\n",
    "\n",
    "def inverse_transform_sampling(data, n_bins=40, n_samples=20000):\n",
    "    \"\"\"This function forms the target distribution from the histogram of an numpy array that we call data.\n",
    "    It then takes a number n_samples independent draws u from a uniform [0,1]\n",
    "    distribution and then applies the inverse cdf transform to sample from the target distribution. \"\"\"\n",
    "    hist, bin_edges = np.histogram(data, bins=n_bins, density=True)\n",
    "    cum_values = np.zeros(bin_edges.shape)\n",
    "    cum_values[1:] = np.cumsum(hist*np.diff(bin_edges))\n",
    "    inv_cdf = interpolate.interp1d(cum_values, bin_edges)\n",
    "    u = np.random.rand(n_samples)\n",
    "    return u, inv_cdf(u) "
   ]
  },
  {
   "cell_type": "code",
   "execution_count": 19,
   "metadata": {},
   "outputs": [],
   "source": [
    "u, r = inverse_transform_sampling(commutes)"
   ]
  },
  {
   "cell_type": "code",
   "execution_count": 20,
   "metadata": {},
   "outputs": [
    {
     "data": {
      "image/png": "[encoded data removed]",
      "text/plain": [
       "<Figure size 432x288 with 1 Axes>"
      ]
     },
     "metadata": {
      "needs_background": "light"
     },
     "output_type": "display_data"
    }
   ],
   "source": [
    "# plot the uniform random draws\n",
    "plt.hist(u, bins = 20)\n",
    "plt.show()"
   ]
  },
  {
   "cell_type": "code",
   "execution_count": 21,
   "metadata": {},
   "outputs": [
    {
     "data": {
      "image/png": "[encoded data removed]",
      "text/plain": [
       "<Figure size 432x288 with 1 Axes>"
      ]
     },
     "metadata": {
      "needs_background": "light"
     },
     "output_type": "display_data"
    }
   ],
   "source": [
    "# plot the implied draws from the constructed inverse cdf for our target distribution\n",
    "plt.hist(r, bins = 20)\n",
    "plt.show()"
   ]
  },
  {
   "cell_type": "markdown",
   "metadata": {},
   "source": [
    "Please compare the above articial sample with our \"target distribution\" earlier in the notebook"
   ]
  },
  {
   "cell_type": "code",
   "execution_count": null,
   "metadata": {},
   "outputs": [],
   "source": []
  }
 ],
 "metadata": {
  "kernelspec": {
   "display_name": "Python 3",
   "language": "python",
   "name": "python3"
  },
  "language_info": {
   "codemirror_mode": {
    "name": "ipython",
    "version": 3
   },
   "file_extension": ".py",
   "mimetype": "text/x-python",
   "name": "python",
   "nbconvert_exporter": "python",
   "pygments_lexer": "ipython3",
   "version": "3.8.3"
  }
 },
 "nbformat": 4,
 "nbformat_minor": 4
}
