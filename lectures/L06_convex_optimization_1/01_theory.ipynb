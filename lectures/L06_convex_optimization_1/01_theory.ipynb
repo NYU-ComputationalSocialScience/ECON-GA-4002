{
 "cells": [
  {
   "cell_type": "markdown",
   "metadata": {
    "collapsed": false,
    "slideshow": {
     "slide_type": "slide"
    }
   },
   "source": [
    "# Convex Optimization: Theoretical Foundations\n",
    "\n",
    "**Prerequisites**\n",
    "\n",
    "- Linear Algebra\n",
    "- Calculus\n",
    "\n",
    "\n",
    "**Outcomes**\n",
    "\n",
    "- Understand the convexity of a set\n",
    "- Understand the convexity of a function\n",
    "- Understand why convexity is desirable for optimization"
   ]
  },
  {
   "cell_type": "markdown",
   "metadata": {
    "collapsed": false,
    "slideshow": {
     "slide_type": "subslide"
    }
   },
   "source": [
    "## Outline\n",
    "\n",
    "- Convex Sets\n",
    "- Convexity of Mathematical Functions"
   ]
  },
  {
   "cell_type": "code",
   "execution_count": null,
   "metadata": {
    "collapsed": false
   },
   "outputs": [],
   "source": [
    "import matplotlib.pyplot as plt\n",
    "import numpy as np\n",
    "import seaborn\n",
    "seaborn.set(style=\"ticks\")\n",
    "%matplotlib inline\n",
    "\n",
    "# helper function for below\n",
    "def make_origin(ax):\n",
    "    ax.spines['left'].set_position('zero')\n",
    "    ax.spines['right'].set_color('none')]\n",
    "    ax.spines['bottom'].set_position('zero')\n",
    "    ax.spines['top'].set_color('none')"
   ]
  },
  {
   "cell_type": "markdown",
   "metadata": {
    "collapsed": false,
    "slideshow": {
     "slide_type": "slide"
    }
   },
   "source": [
    "## Convex Sets\n",
    "\n",
    "Let $C \\subseteq \\mathbb{R}^n$\n",
    "\n",
    "$C$ is *convex* if for any $x_1, x_2 \\in C$ and any $\\theta \\in [0, 1]$ we have $$\\theta x_1 + (1- \\theta) x_2 \\in C$$"
   ]
  },
  {
   "cell_type": "markdown",
   "metadata": {
    "collapsed": false,
    "slideshow": {
     "slide_type": "subslide"
    }
   },
   "source": [
    "### Convex Combination\n",
    "\n",
    "The definition of convexity can be extended to include convex combinations\n",
    "\n",
    "A (finite) *convex combination* of $x_i \\in {C}\\; i = 1, \\dots, k$ has the form $$\\sum_{i=1}^k \\theta_i x_i, \\quad \\theta_i \\ge 0 \\; i = 1, \\dots, k, \\; \\sum_{i=1}^k \\theta_i = 1$$"
   ]
  },
  {
   "cell_type": "markdown",
   "metadata": {
    "collapsed": false,
    "slideshow": {
     "slide_type": "subslide"
    }
   },
   "source": [
    "<a id='exercise-0'></a>\n",
    "**Exercise 1**\n",
    "\n",
    "Show that for a convex set $C \\subseteq \\mathbb{R}^n$ any convex combination of members of $C$ is in $C$"
   ]
  },
  {
   "cell_type": "markdown",
   "metadata": {
    "collapsed": false,
    "slideshow": {
     "slide_type": "subslide"
    }
   },
   "source": [
    "### Convex Hull\n",
    "\n",
    "The *convex hull* of a set $C$ ($\\textbf{conv} C$) is the set of all covex combinations of points in $C$: $$\\textbf{conv}C = \\left\\{\\sum_{i=1}^k \\theta_i x_i \\bigm \\vert x_i \\in C, \\theta_i \\ge 0, i = 1, \\dots k, \\sum_{i=1}^k \\theta_i = 1 \\right\\}$$"
   ]
  },
  {
   "cell_type": "markdown",
   "metadata": {
    "collapsed": false,
    "slideshow": {
     "slide_type": "subslide"
    }
   },
   "source": [
    "#### Example\n",
    "\n",
    "Consider this set of random points in $\\mathbb{R}^2$\n"
   ]
  },
  {
   "cell_type": "code",
   "execution_count": null,
   "metadata": {
    "collapsed": false
   },
   "outputs": [],
   "source": [
    "X = np.random.randn(30, 2)  # 30 points in R2\n",
    "fig, ax = plt.subplots()\n",
    "ax.plot(X[:, 0], X[:, 1], \"o\", ms=4);\n",
    "ax.axis(\"off\");"
   ]
  },
  {
   "cell_type": "markdown",
   "metadata": {
    "collapsed": false,
    "slideshow": {
     "slide_type": "subslide"
    }
   },
   "source": [
    "The convex hull of this set of points is"
   ]
  },
  {
   "cell_type": "code",
   "execution_count": null,
   "metadata": {
    "collapsed": false
   },
   "outputs": [],
   "source": [
    "from scipy.spatial import ConvexHull\n",
    "_, ax = plt.subplots()\n",
    "ax.plot(X[:, 0], X[:, 1], \"o\", ms=4)\n",
    "for simplex in ConvexHull(X).simplices:\n",
    "    ax.plot(X[simplex, 0], X[simplex, 1], \"k-\")\n",
    "ax.axis(\"off\");"
   ]
  },
  {
   "cell_type": "markdown",
   "metadata": {
    "collapsed": false,
    "slideshow": {
     "slide_type": "fragment"
    }
   },
   "source": [
    "The convex hull of a set $C$ is the smallest convex that contains $C$"
   ]
  },
  {
   "cell_type": "markdown",
   "metadata": {
    "collapsed": false,
    "slideshow": {
     "slide_type": "subslide"
    }
   },
   "source": [
    "<a id='exercise-1'></a>\n",
    "**Exercise 2**\n",
    "\n",
    "Draw the convex hull of the set in the image below\n",
    "\n",
    "![Non-convex-set](non-convex-set.png)"
   ]
  },
  {
   "cell_type": "markdown",
   "metadata": {
    "collapsed": false,
    "slideshow": {
     "slide_type": "subslide"
    }
   },
   "source": [
    "<a id='exercise-2'></a>\n",
    "**Exercise 3**\n",
    "\n",
    "Show that if $C$ is convex, then $\\textbf{conv} C = C$"
   ]
  },
  {
   "cell_type": "markdown",
   "metadata": {
    "collapsed": false,
    "slideshow": {
     "slide_type": "slide"
    }
   },
   "source": [
    "## Mathematical Functions\n"
   ]
  },
  {
   "cell_type": "markdown",
   "metadata": {
    "collapsed": false,
    "slideshow": {
     "slide_type": "subslide"
    }
   },
   "source": [
    "### Functions\n",
    "\n",
    "A function $f: A \\rightarrow B$ is \n",
    "\n",
    "- a mapping (relation) from a set of inputs ($A$) to a set of outputs ($B$)\n",
    "- and each input is related to exactly one output"
   ]
  },
  {
   "cell_type": "markdown",
   "metadata": {
    "collapsed": false,
    "slideshow": {
     "slide_type": "subslide"
    }
   },
   "source": [
    "#### Function Domain\n",
    "\n",
    "The **domain** of a function $f: A \\rightarrow B$ is the set $A$\n",
    "\n",
    "We will follow notation of Boyd et al. 2004 and often write $$f: \\mathbb{R}^n \\rightarrow \\mathbb{R}^m,$$\n",
    "\n",
    "where in the notation above, we mean that $A \\subseteq \\mathbb{R}^N$\n",
    "\n",
    "When using this notation, to refer to the domain of $f$ we will use $\\textbf{dom} f$"
   ]
  },
  {
   "cell_type": "markdown",
   "metadata": {
    "collapsed": false,
    "slideshow": {
     "slide_type": "subslide"
    }
   },
   "source": [
    "### Linear Functions\n",
    "\n",
    "A function $f: \\mathbb{R}^n \\rightarrow \\mathbb{R}^m$ is *linear* if it can be expressed in the form $$f(x) = Ax, \\quad A \\in \\mathbb{R}^{m \\times n}$$\n",
    "\n",
    "In the case where $m = 1$ we often write $$f(x) = c^Tx,  \\quad c \\in \\mathbb{R}^n$$"
   ]
  },
  {
   "cell_type": "markdown",
   "metadata": {
    "collapsed": false,
    "slideshow": {
     "slide_type": "subslide"
    }
   },
   "source": [
    "In $\\mathbb{R}$, a linear function is a straight line passing through the origin\n",
    "\n",
    "In this case $A$ and $x$ are both scalars and $A$ determines the slope of the line"
   ]
  },
  {
   "cell_type": "code",
   "execution_count": null,
   "metadata": {
    "collapsed": false,
    "slideshow": {
     "slide_type": "subslide"
    }
   },
   "outputs": [],
   "source": [
    "fig, ax = plt.subplots(figsize=(8, 6))\n",
    "x = np.array([-3, 3])\n",
    "for a in [1, 0.5, 2]:\n",
    "    ax.plot(x, a*x, label=f\"a={a}\")\n",
    "ax.legend(loc=0)\n",
    "ax.set_title(\"Linear Functions\")\n",
    "make_origin(ax)"
   ]
  },
  {
   "cell_type": "markdown",
   "metadata": {
    "collapsed": false,
    "slideshow": {
     "slide_type": "subslide"
    }
   },
   "source": [
    "A function $f: \\mathbb{R}^2 \\rightarrow \\mathbb{R}$ is a plane in 3-d space\n",
    "\n",
    "Here is an example:"
   ]
  },
  {
   "cell_type": "code",
   "execution_count": null,
   "metadata": {
    "collapsed": false
   },
   "outputs": [],
   "source": [
    "from mpl_toolkits.mplot3d import Axes3D\n",
    "fig = plt.figure(figsize=(10, 8))\n",
    "x, y = np.mgrid[-2:2,-2:2]\n",
    "for i, a in enumerate(([-2, 0], [2, 0], [2, 1], [-2, 1])):\n",
    "    ax = fig.add_subplot(2, 2, i+1, projection='3d')\n",
    "    ax.plot_surface(x, y, a[0]*x + a[1]*y,)\n",
    "    ax.set_title(f\"a={a}\")\n",
    "    ax.set_xlabel(\"x\")\n",
    "    ax.set_ylabel(\"y\")"
   ]
  },
  {
   "cell_type": "markdown",
   "metadata": {
    "collapsed": false,
    "slideshow": {
     "slide_type": "subslide"
    }
   },
   "source": [
    "### Affine functions\n",
    "\n",
    "A function $f: \\mathbb{R}^n \\rightarrow \\mathbb{R}^m$ is *affine* if it is the sum of a linear function and a constant $$f(x) = Ax + b, \\quad A \\in \\mathbb{R}^{m \\times n}, \\; b \\in \\mathbb{R}^m$$"
   ]
  },
  {
   "cell_type": "markdown",
   "metadata": {
    "collapsed": false,
    "slideshow": {
     "slide_type": "subslide"
    }
   },
   "source": [
    "When $f: \\mathbb{R} \\rightarrow \\mathbb{R}$, $f$ is a line with y intercept $b$ and slope $A$"
   ]
  },
  {
   "cell_type": "code",
   "execution_count": null,
   "metadata": {
    "collapsed": false,
    "slideshow": {
     "slide_type": "subslide"
    }
   },
   "outputs": [],
   "source": [
    "from ipywidgets import interactive\n",
    "\n",
    "def f(a, b):\n",
    "    fig = plt.figure(2)\n",
    "    x = np.linspace(-10, 10, num=10)\n",
    "    plt.plot(x, a * x + b)\n",
    "    plt.ylim(-5, 5)\n",
    "    ax = fig.axes[0]\n",
    "    make_origin(ax)\n",
    "    plt.show()\n",
    "\n",
    "interactive_plot = interactive(f, a=(-2.0, 2.0), b=(-3, 3, 0.5))\n",
    "output = interactive_plot.children[-1]\n",
    "output.layout.height = '350px'\n",
    "interactive_plot"
   ]
  },
  {
   "cell_type": "markdown",
   "metadata": {
    "collapsed": false,
    "slideshow": {
     "slide_type": "slide"
    }
   },
   "source": [
    "### Convex Functions\n",
    "\n",
    "A function $f: \\mathbb{R}^n \\rightarrow \\mathbb{R}$ is *convex* if :\n",
    "\n",
    "1. $\\textbf{dom} f$ is convex\n",
    "2. $\\forall x, y \\in \\textbf{dom} f$ and $\\theta \\in [0, 1]$ $$f(\\theta x + (1 - \\theta) y) \\le \\theta f(x) + (1 - \\theta) f(y)$$"
   ]
  },
  {
   "cell_type": "markdown",
   "metadata": {
    "collapsed": false,
    "slideshow": {
     "slide_type": "subslide"
    }
   },
   "source": [
    "#### Graphical Interpretation\n",
    "\n",
    "For any convex function $f$ and $x, y \\in \\textbf{dom} f$ the line between $(x, f(x))$ and $(y, f(y))$ is above the graph $f$\n",
    "\n",
    "For example:"
   ]
  },
  {
   "cell_type": "code",
   "execution_count": null,
   "metadata": {
    "collapsed": false
   },
   "outputs": [],
   "source": [
    "def f(x):\n",
    "    return x**2\n",
    "\n",
    "X = np.linspace(-2, 2, 20)\n",
    "x = -1\n",
    "y = 1.5\n",
    "\n",
    "# plot function\n",
    "fig, ax = plt.subplots()\n",
    "ax.plot(X, f(X),  \"k-\", lw=0.5)\n",
    "\n",
    "# plot f(x), and f(y)\n",
    "ax.plot(x, f(x), \"ko\")\n",
    "ax.plot(y, f(y), \"ko\")\n",
    "\n",
    "# plot chord between (x, f(x)) and (y, f(y))\n",
    "ax.plot([x, y], [f(x), f(y)], \"k-\")\n",
    "\n",
    "# add annotations\n",
    "ax.text(x, f(x), \"(x, f(x))\", verticalalignment=\"top\", horizontalalignment=\"right\")\n",
    "ax.text(y, f(y), \"(y, f(y))\", verticalalignment=\"top\", horizontalalignment=\"left\")\n",
    "ax.axis(\"off\");"
   ]
  },
  {
   "cell_type": "markdown",
   "metadata": {
    "collapsed": false,
    "slideshow": {
     "slide_type": "subslide"
    }
   },
   "source": [
    "\n",
    "<a id='exercise-3'></a>\n",
    "**Exercise 4**\n",
    "\n",
    "Show that all linear functions are convex\n",
    "\n",
    "*Hint:* To do this show that the convexity inequality above (condition 2) holds with equality when $f$ is linear"
   ]
  },
  {
   "cell_type": "markdown",
   "metadata": {
    "collapsed": false,
    "slideshow": {
     "slide_type": "subslide"
    }
   },
   "source": [
    "#### First order conditions\n",
    "\n",
    "Define $\\nabla f$ as the *gradient* of $f$: $$\\nabla f \\equiv \\begin{bmatrix} \\frac{\\partial f}{\\partial x_1} \\\\ \\frac{\\partial f}{\\partial x_2} \\\\ \\vdots \\\\ \\frac{\\partial f}{\\partial x_n}\\end{bmatrix}$$"
   ]
  },
  {
   "cell_type": "markdown",
   "metadata": {
    "collapsed": false,
    "slideshow": {
     "slide_type": "subslide"
    }
   },
   "source": [
    "$f$ is convex if and only if for all $x, y \\in \\textbf{dom} f$\n",
    "\n",
    "$$f(y) \\ge f(x) + \\nabla f(x)^T (y - x)$$\n",
    "\n",
    "The right hand side is an affine function of $y$ and is the first-order Taylor approximation of $f$ around $x$"
   ]
  },
  {
   "cell_type": "markdown",
   "metadata": {
    "collapsed": false
   },
   "source": [
    "The interpretation of the inequality says that the first-order Taylor approximation is a *global underestimator* of $f$\n",
    "\n",
    "For convex functions **local** information (first-order Taylor approximation around $x$) provides **global** information\n",
    "\n",
    "We will use this property heavily when considering optimization because $$\\nabla f(x) = 0 \\Longrightarrow x \\text{ is a global minimizer of } f$$"
   ]
  },
  {
   "cell_type": "markdown",
   "metadata": {
    "collapsed": false,
    "slideshow": {
     "slide_type": "subslide"
    }
   },
   "source": [
    "### References\n",
    "\n",
    "Boyd, Stephen, Stephen P. Boyd, and Lieven Vandenberghe. 2004. Convex Optimization. Cambridge University Press.\n"
   ]
  }
 ],
 "metadata": {
  "celltoolbar": "Slideshow",
  "interpreter": {
   "hash": "06e05088bf2d2704501f452c5673235c92421ea24b381cad1d147a1ece3057ad"
  },
  "kernelspec": {
   "display_name": "Python 3.9.2 64-bit ('css': conda)",
   "name": "python3"
  },
  "language_info": {
   "codemirror_mode": {
    "name": "ipython",
    "version": 3
   },
   "file_extension": ".py",
   "mimetype": "text/x-python",
   "name": "python",
   "nbconvert_exporter": "python",
   "pygments_lexer": "ipython3",
   "version": "3.9.2"
  },
  "widgets": {
   "application/vnd.jupyter.widget-state+json": {
    "state": {},
    "version_major": 2,
    "version_minor": 0
   }
  }
 },
 "nbformat": 4,
 "nbformat_minor": 4
}
