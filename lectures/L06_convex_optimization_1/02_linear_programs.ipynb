{
 "cells": [
  {
   "cell_type": "markdown",
   "metadata": {
    "collapsed": false,
    "slideshow": {
     "slide_type": "slide"
    }
   },
   "source": [
    "# Convex Optimization: Linear Programs\n",
    "\n",
    "**Prerequisites**\n",
    "\n",
    "- Linear Algebra\n",
    "- Calculus\n",
    "- Convex Optimization: Theoretical Foundations\n",
    "\n",
    "\n",
    "**Outcomes**\n",
    "\n",
    "- Understand the format of a linear program\n",
    "- Know how to formulate a linear program in standard form\n",
    "- Understand and interpret slack variables\n",
    "- Know how to set up and solve linear programs"
   ]
  },
  {
   "cell_type": "markdown",
   "metadata": {
    "collapsed": false,
    "slideshow": {
     "slide_type": "subslide"
    }
   },
   "source": [
    "**Outline**\n",
    "\n",
    "- Linear Programs\n",
    "- Example: Diet Problem\n",
    "- Optimal Transport Primer\n",
    "- Example: Product Mix Problem"
   ]
  },
  {
   "cell_type": "code",
   "execution_count": null,
   "metadata": {
    "collapsed": false
   },
   "outputs": [],
   "source": [
    "import numpy as np"
   ]
  },
  {
   "cell_type": "markdown",
   "metadata": {
    "collapsed": false,
    "slideshow": {
     "slide_type": "slide"
    }
   },
   "source": [
    "## Linear Programs\n",
    "\n",
    "A **linear program** is an optimization problem of the form\n",
    "\n",
    "$$\\begin{align*}\n",
    "\\min_x \\ & c^T x \\\\\n",
    "\\text{subject to } \\ & Gx \\le h \\\\\n",
    "& Ax = b\\\\\n",
    "\\end{align*}$$"
   ]
  },
  {
   "cell_type": "markdown",
   "metadata": {
    "collapsed": false,
    "slideshow": {
     "slide_type": "subslide"
    }
   },
   "source": [
    "### Standard Form\n",
    "\n",
    "A *linear program in standard form* has only equality constraints and a non-negativity constraint on $x$:\n",
    "\n",
    "$$\\begin{align*}\n",
    "\\min_x \\ & c^T x \\\\\n",
    "& Ax = b,\\\\\n",
    "& x_i \\ge 0 \\; \\forall i\n",
    "\\end{align*}$$"
   ]
  },
  {
   "cell_type": "markdown",
   "metadata": {
    "collapsed": false,
    "slideshow": {
     "slide_type": "subslide"
    }
   },
   "source": [
    "<a id='exercise-0'></a>\n",
    "**Exercise 1**\n",
    "\n",
    "Convert a linear program in the general form to a linear program in standard form\n",
    "\n",
    "\n",
    "*Hint:* You will need to introduce a new vector (of slack variables) into the constraints"
   ]
  },
  {
   "cell_type": "markdown",
   "metadata": {
    "collapsed": false,
    "slideshow": {
     "slide_type": "slide"
    }
   },
   "source": [
    "## Example: Diet Problem\n",
    "\n",
    "**Want**: Construct calorie minimizing diet of $m$ distinct foods, subject to obtaining a minimum level of $k$ nutrients\n",
    "\n",
    "Let \n",
    "\n",
    "- $c_i$ for $i = 1, \\dots, m$ represent calories per serving of food $i$ \n",
    "- $a_{i,j}$ for $i=1,\\dots,k$ and $j=1,\\dots, m$ represent the amount of nutrient $i$ in food $j$\n",
    "- $b_i$ for $i=1,\\dots,k$ be the minimum level of nutrient $i$ needed\n",
    "\n",
    "\n",
    "\n",
    "\n"
   ]
  },
  {
   "cell_type": "markdown",
   "metadata": {
    "collapsed": false,
    "slideshow": {
     "slide_type": "subslide"
    }
   },
   "source": [
    "##### A linear program\n",
    "\n",
    "We can formulate the diet problem as a linear program by\n",
    "\n",
    "- Constructing a matrix $A$ of all the $a_{k,m}$ values. Each column will represent nutrient values per serving of a single food, while each row will be value of a single nutrient in all foods\n",
    "- Stack the nutrient requirements $b_k$ in a column vector, matching the order of the rows of $A$"
   ]
  },
  {
   "cell_type": "markdown",
   "metadata": {
    "collapsed": false,
    "slideshow": {
     "slide_type": "subslide"
    }
   },
   "source": [
    "Then, the linear program can be written\n",
    "\n",
    "$$\\begin{align*}\n",
    "\\min_x \\ & c^T x \\\\\n",
    "& Ax \\ge b,\\\\\n",
    "& x_i \\ge 0 \\; i=1,\\dots,m\n",
    "\\end{align*}$$\n",
    "\n",
    "> NOTE: the line $Ax \\ge b$ is shorthand for imposing the inequality elementwise (row by row)"
   ]
  },
  {
   "cell_type": "markdown",
   "metadata": {
    "collapsed": false,
    "slideshow": {
     "slide_type": "subslide"
    }
   },
   "source": [
    "### Convert to standard form\n",
    "\n",
    "We can convert the linear program to standard form by:\n",
    "\n",
    "- Multiplying the $Ax \\ge b$ inequality by $-1$, which is defining $\\tilde{A} = -A$ and $\\tilde{b} = -b$. Now inequality constraint is $$\\tilde{A} x \\le \\tilde{b}$$\n",
    "- Add a vector slack variables to the modified inequality: $$\\tilde{A} x + s = \\tilde{b}$$\n",
    "- Impose non-negativity on our slack vairables"
   ]
  },
  {
   "cell_type": "markdown",
   "metadata": {
    "collapsed": false,
    "slideshow": {
     "slide_type": "subslide"
    }
   },
   "source": [
    "The standard form LP is \n",
    "\n",
    "$$\\begin{align*}\n",
    "\\min_x \\ & c^T x \\\\\n",
    "& \\tilde{A}x  + s \\le \\tilde{b},\\\\\n",
    "& x_i \\ge 0 \\; i=1,\\dots,m\\\\\n",
    "& s_i \\ge 0 \\; i=1,\\dots,k\n",
    "\\end{align*}$$"
   ]
  },
  {
   "cell_type": "markdown",
   "metadata": {
    "collapsed": false,
    "slideshow": {
     "slide_type": "slide"
    }
   },
   "source": [
    "## Optimal Transport Primer\n",
    "\n",
    "<a id='exercise-1'></a>\n",
    "**Exercise 2: Transportation problem**\n",
    "\n",
    "> Note: This problem comes from \"Labs for Foundations of Applied Mathematics Volume 2\" by Jeffrey Humpherys And Tyler J. Jarvis released under the [Creative Commons Attribution 3.0 United States license](http://creativecommons.org/licenses/by/3.0/us/). The original source for the lab materials can be found at [https://github.com/Foundations-of-Applied-Mathematics/Labs](https://github.com/Foundations-of-Applied-Mathematics/Labs)"
   ]
  },
  {
   "cell_type": "markdown",
   "metadata": {
    "collapsed": false,
    "slideshow": {
     "slide_type": "subslide"
    }
   },
   "source": [
    "Consider the following transportation problem: \n",
    "\n",
    "- A piano company needs to transport thirteen pianos from their three supply centers (denoted by 1, 2, 3) to two demand centers (4, 5)\n",
    "- Transporting a piano from a supply center to a demand center incurs a cost (see table below)\n",
    "- The company wants to minimize shipping costs for the pianos while meeting the demand\n",
    "\n",
    "| Supply Center | Demand Center | Cost of Transportation | Number of Pianos | \n",
    "| :-----------: | :-----------: | :--------------------: | :--------------: |\n",
    "| 1 | 4 | 4 | $p_1$ |\n",
    "| 1 | 5 | 7 | $p_2$ | \n",
    "| 2 | 4 | 6 | $p_3$ | \n",
    "| 2 | 5 | 8 | $p_4$ |\n",
    "| 3 | 4 | 8 | $p_5$ |\n",
    "| 3 | 5 | 9 | $p_6$ |"
   ]
  },
  {
   "cell_type": "markdown",
   "metadata": {
    "collapsed": false,
    "slideshow": {
     "slide_type": "subslide"
    }
   },
   "source": [
    "The number of pianos available at each supply center is given by:\n",
    "\n",
    "| Supply Center | Number of pianos available |\n",
    "| :-----------: | :------------------------: |\n",
    "| 1 | 7 |\n",
    "| 2 | 2 | \n",
    "| 3 | 4 |"
   ]
  },
  {
   "cell_type": "markdown",
   "metadata": {
    "collapsed": false,
    "slideshow": {
     "slide_type": "subslide"
    }
   },
   "source": [
    "The number of pianos needed at each demand center is given by\n",
    "\n",
    "| Demand Center | Number of pianos needed |\n",
    "| :-----------: | :---------------------: |\n",
    "| 4 | 5 |\n",
    "| 5 | 8 |"
   ]
  },
  {
   "cell_type": "markdown",
   "metadata": {
    "collapsed": false,
    "slideshow": {
     "slide_type": "subslide"
    }
   },
   "source": [
    "A linear program can be set up to solve for $p_i$, $i=1,\\dots,6$\n",
    "\n",
    "The objective is to minimize total cost of shipping pianos, subject to these constraints:\n",
    "\n",
    "- There cannot be a negative number of pianos transported along any route\n",
    "- All supply centers must transport all pianos\n",
    "- All demand centers must end up with needed number of pianosFinally, the objective function is the number of pianos shipped along each\n",
    "route multiplied costs found in the costs table."
   ]
  },
  {
   "cell_type": "markdown",
   "metadata": {
    "collapsed": false,
    "slideshow": {
     "slide_type": "subslide"
    }
   },
   "source": [
    "Your task is to formulate the transportation problem as a linear program\n",
    "\n",
    "That is define the vector $c$, matrix $A$ and vector $b$ that appropriately defines the problem as described above\n",
    "\n",
    "*Hint:* the matrix $A$ will have 5 rows and 6 columns"
   ]
  },
  {
   "cell_type": "markdown",
   "metadata": {
    "collapsed": false
   },
   "source": [
    "*your work here*"
   ]
  },
  {
   "cell_type": "markdown",
   "metadata": {
    "collapsed": false,
    "slideshow": {
     "slide_type": "slide"
    }
   },
   "source": [
    "## Example: Product Mix Problem\n",
    "\n",
    "> Note: This problem comes from chapter 13 of \"Labs for Foundations of Applied Mathematics Volume 2\" by Jeffrey Humpherys And Tyler J. Jarvis released under the [Creative Commons Attribution 3.0 United States license](http://creativecommons.org/licenses/by/3.0/us/). The original source for the lab materials can be found at [https://github.com/Foundations-of-Applied-Mathematics/Labs](https://github.com/Foundations-of-Applied-Mathematics/Labs)"
   ]
  },
  {
   "cell_type": "markdown",
   "metadata": {
    "collapsed": false,
    "slideshow": {
     "slide_type": "subslide"
    }
   },
   "source": [
    "Suppose...\n",
    "\n",
    "- We work for a manufacturing plant \n",
    "- Our firm produces multiple goods, indexed by $i$\n",
    "- Goods produced with common resources, indexed by $j$\n",
    "- For next period, we know:\n",
    "    - Maximum consumer demand for each good: $d_i$\n",
    "    - The market price for each good: $p_i$\n",
    "    - Amount of each resource our firm has: $m_j$\n",
    "    - Amount of resource $j$ needed to produce  one unit of good $i$: $h_{ij}$\n",
    "- We must choose amount of each good ($x_i$) to produce to maximize next period revenue"
   ]
  },
  {
   "cell_type": "markdown",
   "metadata": {
    "collapsed": false,
    "slideshow": {
     "slide_type": "fragment"
    }
   },
   "source": [
    "> Note: We acknowledge that this is a simplified view of an economy. This is intentional as we want to focus on the ability to cast this problem as a linear program."
   ]
  },
  {
   "cell_type": "markdown",
   "metadata": {
    "collapsed": false,
    "slideshow": {
     "slide_type": "subslide"
    }
   },
   "source": [
    "### Problem setup\n",
    "\n",
    "Our firm's revenue in the next period is given by \n",
    "\n",
    "$$\\sum_i x_i p_i$$"
   ]
  },
  {
   "cell_type": "markdown",
   "metadata": {
    "collapsed": false,
    "slideshow": {
     "slide_type": "fragment"
    }
   },
   "source": [
    "The resource constraints can be expressed as\n",
    "\n",
    "$$\\sum_{i=1} h_{ji} x_i \\le m_j \\; \\forall j$$"
   ]
  },
  {
   "cell_type": "markdown",
   "metadata": {
    "collapsed": false,
    "slideshow": {
     "slide_type": "fragment"
    }
   },
   "source": [
    "Finally, we must express the constraint that we cannot sell more than the consumers are willing to buy:\n",
    "\n",
    "$$x_i \\le d_i \\; \\forall i$$"
   ]
  },
  {
   "cell_type": "markdown",
   "metadata": {
    "collapsed": false,
    "slideshow": {
     "slide_type": "subslide"
    }
   },
   "source": [
    "We can cast this as a standard linear program (as described above) by setting:\n",
    "\n",
    "\\begin{align*}\n",
    "c^T &= - \\begin{bmatrix} p_1 & \\cdots & p_n \\end{bmatrix} \\\\\n",
    "A &= \\begin{bmatrix} h_{11} & \\cdots & h_{1n} \\\\ \\vdots & \\ddots & \\vdots \\\\ h_{j1} & \\cdots & h_{jn} \\\\  &  \\\\ & I_n \\\\ & \\end{bmatrix} \\\\\n",
    "b &= \\begin{bmatrix} m_1 & \\cdots & m_j & d_1 & \\cdots & d_n \\end{bmatrix}^T \\\\\n",
    "x_i &\\ge 0 \\; \\forall i,\n",
    "\\end{align*}\n",
    "\n",
    "where $I_n$ represents the  $n \\times n$ identity matrix"
   ]
  },
  {
   "cell_type": "markdown",
   "metadata": {
    "collapsed": false,
    "slideshow": {
     "slide_type": "subslide"
    }
   },
   "source": [
    "The linear program is then:\n",
    "\n",
    "$$\\begin{align*}\n",
    "\\min_x \\ & c^T x \\\\\n",
    "\\text{subject to } \\ & Ax \\le b \\\\\n",
    "& x \\ge 0\\\\\n",
    "\\end{align*}$$\n",
    "\n",
    "\n",
    "> Note we would need to introduce slack variables to have only a single inequality constraint on $x$, but as you'll see below we can work with the problem as we just wrote it"
   ]
  },
  {
   "cell_type": "markdown",
   "metadata": {
    "collapsed": false,
    "slideshow": {
     "slide_type": "slide"
    }
   },
   "source": [
    "### Solving the Product Mix Problem\n",
    "\n",
    "Let's use the `scipy.optimize.linprog` routine to solve a version of the product mix problem\n",
    "\n",
    "Below we have written out numerical values for the problem described above:"
   ]
  },
  {
   "cell_type": "code",
   "execution_count": null,
   "metadata": {
    "collapsed": false
   },
   "outputs": [],
   "source": [
    "p = np.array([250., 215., 275., 180.])  # price vector\n",
    "d = np.array([10., 20., 12., 10.])      # demand vector\n",
    "m = np.array([4., 4., 4.])              # resource constraints\n",
    "\n",
    "H = np.array([                          # resource usage\n",
    "    [0.12, 0.18, 0.13, 0.07],\n",
    "    [0.15, 0.12, 0.13, 0.11],\n",
    "    [0.1 , 0.1 , 0.1 , 0.12]\n",
    "])"
   ]
  },
  {
   "cell_type": "markdown",
   "metadata": {
    "collapsed": false,
    "slideshow": {
     "slide_type": "subslide"
    }
   },
   "source": [
    "#### To General Form\n",
    "\n",
    "We apply the transformation above to set up a standard linear program"
   ]
  },
  {
   "cell_type": "code",
   "execution_count": null,
   "metadata": {
    "collapsed": false
   },
   "outputs": [],
   "source": [
    "c = -p\n",
    "b = np.concatenate((m, d))\n",
    "A = np.vstack((H, np.eye(len(p))))"
   ]
  },
  {
   "cell_type": "markdown",
   "metadata": {
    "collapsed": false,
    "slideshow": {
     "slide_type": "subslide"
    }
   },
   "source": [
    "We will use the `scipy.optimize.linprog` routine to solve our linear program\n",
    "\n",
    "Let's study its docstring:\n"
   ]
  },
  {
   "cell_type": "code",
   "execution_count": null,
   "metadata": {
    "collapsed": false
   },
   "outputs": [],
   "source": [
    "from scipy.optimize import linprog\n",
    "linprog?"
   ]
  },
  {
   "cell_type": "code",
   "execution_count": null,
   "metadata": {
    "collapsed": false,
    "slideshow": {
     "slide_type": "subslide"
    }
   },
   "outputs": [],
   "source": [
    "linprog(c=c, A_ub=A, b_ub=b)"
   ]
  },
  {
   "cell_type": "markdown",
   "metadata": {
    "collapsed": false
   },
   "source": [
    "From the above we can see the following:\n",
    "\n",
    "- Total revenue will be \\$7,453.59\n",
    "- The optimal amount of the goods is approximately (10, 6.2, 12, 1.8)\n",
    "- Given the values of the slack variables, we see that we:\n",
    "    - Used all of resources 1 and 2, \n",
    "    - ... but had 0.96 units of resource 3 left\n",
    "    - Satisfied all of the demand for goods 1 and 3\n",
    "    - ... but were 13.8 units shy of demand for good 2\n",
    "    - ... and 8.21 units shy of demand for good 4"
   ]
  },
  {
   "cell_type": "markdown",
   "metadata": {
    "collapsed": false,
    "slideshow": {
     "slide_type": "slide"
    }
   },
   "source": [
    "<a id='exercise-2'></a>\n",
    "**Exercise 3: Solving the Transportation Problem**\n",
    "\n",
    "Using `scipy.optimize.linprog` solve the transportation problem from exercise 2 above."
   ]
  },
  {
   "cell_type": "code",
   "execution_count": null,
   "metadata": {
    "collapsed": false
   },
   "outputs": [],
   "source": [
    "def solve_transportation():\n",
    "    # your code here\n",
    "    \n",
    "    # define c\n",
    "    \n",
    "    # define A\n",
    "    \n",
    "    # define b\n",
    "    \n",
    "    # call linprog\n",
    "    \n",
    "    # return result of linprog\n",
    "    \n",
    "    pass  # delete this line when finished\n",
    "\n",
    "solve_transportation()"
   ]
  },
  {
   "cell_type": "markdown",
   "metadata": {
    "collapsed": false,
    "slideshow": {
     "slide_type": "slide"
    }
   },
   "source": [
    "### References\n",
    "\n",
    "Boyd, Stephen, Stephen P. Boyd, and Lieven Vandenberghe. 2004. Convex Optimization. Cambridge University Press.\n",
    "\n",
    "Jeffrey Humpherys And Tyler J. Jarvis. \"Labs for Foundations of Applied Mathematics Volume 2\""
   ]
  },
  {
   "cell_type": "code",
   "execution_count": null,
   "metadata": {
    "collapsed": false
   },
   "outputs": [],
   "source": []
  }
 ],
 "metadata": {
  "kernelspec": {
   "display_name": "Python 3 (Ubuntu Linux)",
   "language": "python",
   "name": "python3-ubuntu"
  },
  "language_info": {
   "codemirror_mode": {
    "name": "ipython",
    "version": 3
   },
   "file_extension": ".py",
   "mimetype": "text/x-python",
   "name": "python",
   "nbconvert_exporter": "python",
   "pygments_lexer": "ipython3",
   "version": "3.8.2"
  },
  "toc-autonumbering": false,
  "toc-showcode": false,
  "toc-showmarkdowntxt": false,
  "toc-showtags": false,
  "widgets": {
   "application/vnd.jupyter.widget-state+json": {
    "state": {},
    "version_major": 2,
    "version_minor": 0
   }
  }
 },
 "nbformat": 4,
 "nbformat_minor": 4
}
